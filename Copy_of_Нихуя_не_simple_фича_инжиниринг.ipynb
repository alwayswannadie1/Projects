{
  "nbformat": 4,
  "nbformat_minor": 0,
  "metadata": {
    "colab": {
      "name": "Copy of Нихуя не simple фича инжиниринг.ipynb",
      "provenance": [],
      "collapsed_sections": [],
      "machine_shape": "hm",
      "include_colab_link": true
    },
    "kernelspec": {
      "name": "python3",
      "display_name": "Python 3"
    },
    "widgets": {
      "application/vnd.jupyter.widget-state+json": {
        "ecd8aab149cf4cff991fba69923dc639": {
          "model_module": "@jupyter-widgets/controls",
          "model_name": "HBoxModel",
          "state": {
            "_view_name": "HBoxView",
            "_dom_classes": [],
            "_model_name": "HBoxModel",
            "_view_module": "@jupyter-widgets/controls",
            "_model_module_version": "1.5.0",
            "_view_count": null,
            "_view_module_version": "1.5.0",
            "box_style": "",
            "layout": "IPY_MODEL_690e9a69c63f48b58d0e4812923f1e53",
            "_model_module": "@jupyter-widgets/controls",
            "children": [
              "IPY_MODEL_bd2eb5b70a4c4744b42a3682d5fe0891",
              "IPY_MODEL_1661b6a1c83b4bddb2aba7aad727dd9f"
            ]
          }
        },
        "690e9a69c63f48b58d0e4812923f1e53": {
          "model_module": "@jupyter-widgets/base",
          "model_name": "LayoutModel",
          "state": {
            "_view_name": "LayoutView",
            "grid_template_rows": null,
            "right": null,
            "justify_content": null,
            "_view_module": "@jupyter-widgets/base",
            "overflow": null,
            "_model_module_version": "1.2.0",
            "_view_count": null,
            "flex_flow": null,
            "width": null,
            "min_width": null,
            "border": null,
            "align_items": null,
            "bottom": null,
            "_model_module": "@jupyter-widgets/base",
            "top": null,
            "grid_column": null,
            "overflow_y": null,
            "overflow_x": null,
            "grid_auto_flow": null,
            "grid_area": null,
            "grid_template_columns": null,
            "flex": null,
            "_model_name": "LayoutModel",
            "justify_items": null,
            "grid_row": null,
            "max_height": null,
            "align_content": null,
            "visibility": null,
            "align_self": null,
            "height": null,
            "min_height": null,
            "padding": null,
            "grid_auto_rows": null,
            "grid_gap": null,
            "max_width": null,
            "order": null,
            "_view_module_version": "1.2.0",
            "grid_template_areas": null,
            "object_position": null,
            "object_fit": null,
            "grid_auto_columns": null,
            "margin": null,
            "display": null,
            "left": null
          }
        },
        "bd2eb5b70a4c4744b42a3682d5fe0891": {
          "model_module": "@jupyter-widgets/controls",
          "model_name": "IntProgressModel",
          "state": {
            "_view_name": "ProgressView",
            "style": "IPY_MODEL_2fe12772d71d4176a832d5dc4362105d",
            "_dom_classes": [],
            "description": "",
            "_model_name": "IntProgressModel",
            "bar_style": "success",
            "max": 6,
            "_view_module": "@jupyter-widgets/controls",
            "_model_module_version": "1.5.0",
            "value": 6,
            "_view_count": null,
            "_view_module_version": "1.5.0",
            "orientation": "horizontal",
            "min": 0,
            "description_tooltip": null,
            "_model_module": "@jupyter-widgets/controls",
            "layout": "IPY_MODEL_293db8f0277342469fa612edbace1f38"
          }
        },
        "1661b6a1c83b4bddb2aba7aad727dd9f": {
          "model_module": "@jupyter-widgets/controls",
          "model_name": "HTMLModel",
          "state": {
            "_view_name": "HTMLView",
            "style": "IPY_MODEL_b2aadf8008a845b394678ffb68326fe6",
            "_dom_classes": [],
            "description": "",
            "_model_name": "HTMLModel",
            "placeholder": "​",
            "_view_module": "@jupyter-widgets/controls",
            "_model_module_version": "1.5.0",
            "value": "100% 6/6 [00:19&lt;00:00,  3.54s/it]",
            "_view_count": null,
            "_view_module_version": "1.5.0",
            "description_tooltip": null,
            "_model_module": "@jupyter-widgets/controls",
            "layout": "IPY_MODEL_3df1f49aa51f4bc88e00c89bb8cc418d"
          }
        },
        "2fe12772d71d4176a832d5dc4362105d": {
          "model_module": "@jupyter-widgets/controls",
          "model_name": "ProgressStyleModel",
          "state": {
            "_view_name": "StyleView",
            "_model_name": "ProgressStyleModel",
            "description_width": "",
            "_view_module": "@jupyter-widgets/base",
            "_model_module_version": "1.5.0",
            "_view_count": null,
            "_view_module_version": "1.2.0",
            "bar_color": null,
            "_model_module": "@jupyter-widgets/controls"
          }
        },
        "293db8f0277342469fa612edbace1f38": {
          "model_module": "@jupyter-widgets/base",
          "model_name": "LayoutModel",
          "state": {
            "_view_name": "LayoutView",
            "grid_template_rows": null,
            "right": null,
            "justify_content": null,
            "_view_module": "@jupyter-widgets/base",
            "overflow": null,
            "_model_module_version": "1.2.0",
            "_view_count": null,
            "flex_flow": null,
            "width": null,
            "min_width": null,
            "border": null,
            "align_items": null,
            "bottom": null,
            "_model_module": "@jupyter-widgets/base",
            "top": null,
            "grid_column": null,
            "overflow_y": null,
            "overflow_x": null,
            "grid_auto_flow": null,
            "grid_area": null,
            "grid_template_columns": null,
            "flex": null,
            "_model_name": "LayoutModel",
            "justify_items": null,
            "grid_row": null,
            "max_height": null,
            "align_content": null,
            "visibility": null,
            "align_self": null,
            "height": null,
            "min_height": null,
            "padding": null,
            "grid_auto_rows": null,
            "grid_gap": null,
            "max_width": null,
            "order": null,
            "_view_module_version": "1.2.0",
            "grid_template_areas": null,
            "object_position": null,
            "object_fit": null,
            "grid_auto_columns": null,
            "margin": null,
            "display": null,
            "left": null
          }
        },
        "b2aadf8008a845b394678ffb68326fe6": {
          "model_module": "@jupyter-widgets/controls",
          "model_name": "DescriptionStyleModel",
          "state": {
            "_view_name": "StyleView",
            "_model_name": "DescriptionStyleModel",
            "description_width": "",
            "_view_module": "@jupyter-widgets/base",
            "_model_module_version": "1.5.0",
            "_view_count": null,
            "_view_module_version": "1.2.0",
            "_model_module": "@jupyter-widgets/controls"
          }
        },
        "3df1f49aa51f4bc88e00c89bb8cc418d": {
          "model_module": "@jupyter-widgets/base",
          "model_name": "LayoutModel",
          "state": {
            "_view_name": "LayoutView",
            "grid_template_rows": null,
            "right": null,
            "justify_content": null,
            "_view_module": "@jupyter-widgets/base",
            "overflow": null,
            "_model_module_version": "1.2.0",
            "_view_count": null,
            "flex_flow": null,
            "width": null,
            "min_width": null,
            "border": null,
            "align_items": null,
            "bottom": null,
            "_model_module": "@jupyter-widgets/base",
            "top": null,
            "grid_column": null,
            "overflow_y": null,
            "overflow_x": null,
            "grid_auto_flow": null,
            "grid_area": null,
            "grid_template_columns": null,
            "flex": null,
            "_model_name": "LayoutModel",
            "justify_items": null,
            "grid_row": null,
            "max_height": null,
            "align_content": null,
            "visibility": null,
            "align_self": null,
            "height": null,
            "min_height": null,
            "padding": null,
            "grid_auto_rows": null,
            "grid_gap": null,
            "max_width": null,
            "order": null,
            "_view_module_version": "1.2.0",
            "grid_template_areas": null,
            "object_position": null,
            "object_fit": null,
            "grid_auto_columns": null,
            "margin": null,
            "display": null,
            "left": null
          }
        },
        "287e4baeb992492e907db14f747d7fbd": {
          "model_module": "@jupyter-widgets/controls",
          "model_name": "HBoxModel",
          "state": {
            "_view_name": "HBoxView",
            "_dom_classes": [],
            "_model_name": "HBoxModel",
            "_view_module": "@jupyter-widgets/controls",
            "_model_module_version": "1.5.0",
            "_view_count": null,
            "_view_module_version": "1.5.0",
            "box_style": "",
            "layout": "IPY_MODEL_6c73c9f904124aa39c8e142bc30e834f",
            "_model_module": "@jupyter-widgets/controls",
            "children": [
              "IPY_MODEL_d97e858c834f4369a2f22ed5ad515cd0",
              "IPY_MODEL_0011f291971b435595607bd859f622ce"
            ]
          }
        },
        "6c73c9f904124aa39c8e142bc30e834f": {
          "model_module": "@jupyter-widgets/base",
          "model_name": "LayoutModel",
          "state": {
            "_view_name": "LayoutView",
            "grid_template_rows": null,
            "right": null,
            "justify_content": null,
            "_view_module": "@jupyter-widgets/base",
            "overflow": null,
            "_model_module_version": "1.2.0",
            "_view_count": null,
            "flex_flow": null,
            "width": null,
            "min_width": null,
            "border": null,
            "align_items": null,
            "bottom": null,
            "_model_module": "@jupyter-widgets/base",
            "top": null,
            "grid_column": null,
            "overflow_y": null,
            "overflow_x": null,
            "grid_auto_flow": null,
            "grid_area": null,
            "grid_template_columns": null,
            "flex": null,
            "_model_name": "LayoutModel",
            "justify_items": null,
            "grid_row": null,
            "max_height": null,
            "align_content": null,
            "visibility": null,
            "align_self": null,
            "height": null,
            "min_height": null,
            "padding": null,
            "grid_auto_rows": null,
            "grid_gap": null,
            "max_width": null,
            "order": null,
            "_view_module_version": "1.2.0",
            "grid_template_areas": null,
            "object_position": null,
            "object_fit": null,
            "grid_auto_columns": null,
            "margin": null,
            "display": null,
            "left": null
          }
        },
        "d97e858c834f4369a2f22ed5ad515cd0": {
          "model_module": "@jupyter-widgets/controls",
          "model_name": "IntProgressModel",
          "state": {
            "_view_name": "ProgressView",
            "style": "IPY_MODEL_3604c69425b746c58b4a976e159cf7f8",
            "_dom_classes": [],
            "description": "",
            "_model_name": "IntProgressModel",
            "bar_style": "success",
            "max": 35,
            "_view_module": "@jupyter-widgets/controls",
            "_model_module_version": "1.5.0",
            "value": 35,
            "_view_count": null,
            "_view_module_version": "1.5.0",
            "orientation": "horizontal",
            "min": 0,
            "description_tooltip": null,
            "_model_module": "@jupyter-widgets/controls",
            "layout": "IPY_MODEL_c7bfa0334dba462ebd47e15b416ec4de"
          }
        },
        "0011f291971b435595607bd859f622ce": {
          "model_module": "@jupyter-widgets/controls",
          "model_name": "HTMLModel",
          "state": {
            "_view_name": "HTMLView",
            "style": "IPY_MODEL_d2dc63ce1a6e4e9e8156137e2a07562d",
            "_dom_classes": [],
            "description": "",
            "_model_name": "HTMLModel",
            "placeholder": "​",
            "_view_module": "@jupyter-widgets/controls",
            "_model_module_version": "1.5.0",
            "value": "100% 35/35 [03:06&lt;00:00,  7.79s/it]",
            "_view_count": null,
            "_view_module_version": "1.5.0",
            "description_tooltip": null,
            "_model_module": "@jupyter-widgets/controls",
            "layout": "IPY_MODEL_2767e89f5e994da4a1a4c519584f2083"
          }
        },
        "3604c69425b746c58b4a976e159cf7f8": {
          "model_module": "@jupyter-widgets/controls",
          "model_name": "ProgressStyleModel",
          "state": {
            "_view_name": "StyleView",
            "_model_name": "ProgressStyleModel",
            "description_width": "",
            "_view_module": "@jupyter-widgets/base",
            "_model_module_version": "1.5.0",
            "_view_count": null,
            "_view_module_version": "1.2.0",
            "bar_color": null,
            "_model_module": "@jupyter-widgets/controls"
          }
        },
        "c7bfa0334dba462ebd47e15b416ec4de": {
          "model_module": "@jupyter-widgets/base",
          "model_name": "LayoutModel",
          "state": {
            "_view_name": "LayoutView",
            "grid_template_rows": null,
            "right": null,
            "justify_content": null,
            "_view_module": "@jupyter-widgets/base",
            "overflow": null,
            "_model_module_version": "1.2.0",
            "_view_count": null,
            "flex_flow": null,
            "width": null,
            "min_width": null,
            "border": null,
            "align_items": null,
            "bottom": null,
            "_model_module": "@jupyter-widgets/base",
            "top": null,
            "grid_column": null,
            "overflow_y": null,
            "overflow_x": null,
            "grid_auto_flow": null,
            "grid_area": null,
            "grid_template_columns": null,
            "flex": null,
            "_model_name": "LayoutModel",
            "justify_items": null,
            "grid_row": null,
            "max_height": null,
            "align_content": null,
            "visibility": null,
            "align_self": null,
            "height": null,
            "min_height": null,
            "padding": null,
            "grid_auto_rows": null,
            "grid_gap": null,
            "max_width": null,
            "order": null,
            "_view_module_version": "1.2.0",
            "grid_template_areas": null,
            "object_position": null,
            "object_fit": null,
            "grid_auto_columns": null,
            "margin": null,
            "display": null,
            "left": null
          }
        },
        "d2dc63ce1a6e4e9e8156137e2a07562d": {
          "model_module": "@jupyter-widgets/controls",
          "model_name": "DescriptionStyleModel",
          "state": {
            "_view_name": "StyleView",
            "_model_name": "DescriptionStyleModel",
            "description_width": "",
            "_view_module": "@jupyter-widgets/base",
            "_model_module_version": "1.5.0",
            "_view_count": null,
            "_view_module_version": "1.2.0",
            "_model_module": "@jupyter-widgets/controls"
          }
        },
        "2767e89f5e994da4a1a4c519584f2083": {
          "model_module": "@jupyter-widgets/base",
          "model_name": "LayoutModel",
          "state": {
            "_view_name": "LayoutView",
            "grid_template_rows": null,
            "right": null,
            "justify_content": null,
            "_view_module": "@jupyter-widgets/base",
            "overflow": null,
            "_model_module_version": "1.2.0",
            "_view_count": null,
            "flex_flow": null,
            "width": null,
            "min_width": null,
            "border": null,
            "align_items": null,
            "bottom": null,
            "_model_module": "@jupyter-widgets/base",
            "top": null,
            "grid_column": null,
            "overflow_y": null,
            "overflow_x": null,
            "grid_auto_flow": null,
            "grid_area": null,
            "grid_template_columns": null,
            "flex": null,
            "_model_name": "LayoutModel",
            "justify_items": null,
            "grid_row": null,
            "max_height": null,
            "align_content": null,
            "visibility": null,
            "align_self": null,
            "height": null,
            "min_height": null,
            "padding": null,
            "grid_auto_rows": null,
            "grid_gap": null,
            "max_width": null,
            "order": null,
            "_view_module_version": "1.2.0",
            "grid_template_areas": null,
            "object_position": null,
            "object_fit": null,
            "grid_auto_columns": null,
            "margin": null,
            "display": null,
            "left": null
          }
        },
        "d43636827a0c4af088b1d6ef5b7d0c52": {
          "model_module": "@jupyter-widgets/controls",
          "model_name": "HBoxModel",
          "state": {
            "_view_name": "HBoxView",
            "_dom_classes": [],
            "_model_name": "HBoxModel",
            "_view_module": "@jupyter-widgets/controls",
            "_model_module_version": "1.5.0",
            "_view_count": null,
            "_view_module_version": "1.5.0",
            "box_style": "",
            "layout": "IPY_MODEL_1254ffe3078443558f7963f029d89ead",
            "_model_module": "@jupyter-widgets/controls",
            "children": [
              "IPY_MODEL_c8a627877eaf4310bf7e2577d97bab2d",
              "IPY_MODEL_c62a58bf5f774820a051c2ac65805abd"
            ]
          }
        },
        "1254ffe3078443558f7963f029d89ead": {
          "model_module": "@jupyter-widgets/base",
          "model_name": "LayoutModel",
          "state": {
            "_view_name": "LayoutView",
            "grid_template_rows": null,
            "right": null,
            "justify_content": null,
            "_view_module": "@jupyter-widgets/base",
            "overflow": null,
            "_model_module_version": "1.2.0",
            "_view_count": null,
            "flex_flow": null,
            "width": null,
            "min_width": null,
            "border": null,
            "align_items": null,
            "bottom": null,
            "_model_module": "@jupyter-widgets/base",
            "top": null,
            "grid_column": null,
            "overflow_y": null,
            "overflow_x": null,
            "grid_auto_flow": null,
            "grid_area": null,
            "grid_template_columns": null,
            "flex": null,
            "_model_name": "LayoutModel",
            "justify_items": null,
            "grid_row": null,
            "max_height": null,
            "align_content": null,
            "visibility": null,
            "align_self": null,
            "height": null,
            "min_height": null,
            "padding": null,
            "grid_auto_rows": null,
            "grid_gap": null,
            "max_width": null,
            "order": null,
            "_view_module_version": "1.2.0",
            "grid_template_areas": null,
            "object_position": null,
            "object_fit": null,
            "grid_auto_columns": null,
            "margin": null,
            "display": null,
            "left": null
          }
        },
        "c8a627877eaf4310bf7e2577d97bab2d": {
          "model_module": "@jupyter-widgets/controls",
          "model_name": "IntProgressModel",
          "state": {
            "_view_name": "ProgressView",
            "style": "IPY_MODEL_7acab5d6d99843f7a232a30c15824fa7",
            "_dom_classes": [],
            "description": "",
            "_model_name": "IntProgressModel",
            "bar_style": "success",
            "max": 174,
            "_view_module": "@jupyter-widgets/controls",
            "_model_module_version": "1.5.0",
            "value": 174,
            "_view_count": null,
            "_view_module_version": "1.5.0",
            "orientation": "horizontal",
            "min": 0,
            "description_tooltip": null,
            "_model_module": "@jupyter-widgets/controls",
            "layout": "IPY_MODEL_e34b974fa7f64086b3cdac35abeeda19"
          }
        },
        "c62a58bf5f774820a051c2ac65805abd": {
          "model_module": "@jupyter-widgets/controls",
          "model_name": "HTMLModel",
          "state": {
            "_view_name": "HTMLView",
            "style": "IPY_MODEL_0c864b95a73148a6bf9107be89418823",
            "_dom_classes": [],
            "description": "",
            "_model_name": "HTMLModel",
            "placeholder": "​",
            "_view_module": "@jupyter-widgets/controls",
            "_model_module_version": "1.5.0",
            "value": "100% 174/174 [00:00&lt;00:00, 8541.27it/s]",
            "_view_count": null,
            "_view_module_version": "1.5.0",
            "description_tooltip": null,
            "_model_module": "@jupyter-widgets/controls",
            "layout": "IPY_MODEL_ba7b3a9248034483b800c2e793a9a6df"
          }
        },
        "7acab5d6d99843f7a232a30c15824fa7": {
          "model_module": "@jupyter-widgets/controls",
          "model_name": "ProgressStyleModel",
          "state": {
            "_view_name": "StyleView",
            "_model_name": "ProgressStyleModel",
            "description_width": "",
            "_view_module": "@jupyter-widgets/base",
            "_model_module_version": "1.5.0",
            "_view_count": null,
            "_view_module_version": "1.2.0",
            "bar_color": null,
            "_model_module": "@jupyter-widgets/controls"
          }
        },
        "e34b974fa7f64086b3cdac35abeeda19": {
          "model_module": "@jupyter-widgets/base",
          "model_name": "LayoutModel",
          "state": {
            "_view_name": "LayoutView",
            "grid_template_rows": null,
            "right": null,
            "justify_content": null,
            "_view_module": "@jupyter-widgets/base",
            "overflow": null,
            "_model_module_version": "1.2.0",
            "_view_count": null,
            "flex_flow": null,
            "width": null,
            "min_width": null,
            "border": null,
            "align_items": null,
            "bottom": null,
            "_model_module": "@jupyter-widgets/base",
            "top": null,
            "grid_column": null,
            "overflow_y": null,
            "overflow_x": null,
            "grid_auto_flow": null,
            "grid_area": null,
            "grid_template_columns": null,
            "flex": null,
            "_model_name": "LayoutModel",
            "justify_items": null,
            "grid_row": null,
            "max_height": null,
            "align_content": null,
            "visibility": null,
            "align_self": null,
            "height": null,
            "min_height": null,
            "padding": null,
            "grid_auto_rows": null,
            "grid_gap": null,
            "max_width": null,
            "order": null,
            "_view_module_version": "1.2.0",
            "grid_template_areas": null,
            "object_position": null,
            "object_fit": null,
            "grid_auto_columns": null,
            "margin": null,
            "display": null,
            "left": null
          }
        },
        "0c864b95a73148a6bf9107be89418823": {
          "model_module": "@jupyter-widgets/controls",
          "model_name": "DescriptionStyleModel",
          "state": {
            "_view_name": "StyleView",
            "_model_name": "DescriptionStyleModel",
            "description_width": "",
            "_view_module": "@jupyter-widgets/base",
            "_model_module_version": "1.5.0",
            "_view_count": null,
            "_view_module_version": "1.2.0",
            "_model_module": "@jupyter-widgets/controls"
          }
        },
        "ba7b3a9248034483b800c2e793a9a6df": {
          "model_module": "@jupyter-widgets/base",
          "model_name": "LayoutModel",
          "state": {
            "_view_name": "LayoutView",
            "grid_template_rows": null,
            "right": null,
            "justify_content": null,
            "_view_module": "@jupyter-widgets/base",
            "overflow": null,
            "_model_module_version": "1.2.0",
            "_view_count": null,
            "flex_flow": null,
            "width": null,
            "min_width": null,
            "border": null,
            "align_items": null,
            "bottom": null,
            "_model_module": "@jupyter-widgets/base",
            "top": null,
            "grid_column": null,
            "overflow_y": null,
            "overflow_x": null,
            "grid_auto_flow": null,
            "grid_area": null,
            "grid_template_columns": null,
            "flex": null,
            "_model_name": "LayoutModel",
            "justify_items": null,
            "grid_row": null,
            "max_height": null,
            "align_content": null,
            "visibility": null,
            "align_self": null,
            "height": null,
            "min_height": null,
            "padding": null,
            "grid_auto_rows": null,
            "grid_gap": null,
            "max_width": null,
            "order": null,
            "_view_module_version": "1.2.0",
            "grid_template_areas": null,
            "object_position": null,
            "object_fit": null,
            "grid_auto_columns": null,
            "margin": null,
            "display": null,
            "left": null
          }
        },
        "01ab742fb05b42d6a5008c7dea05cde4": {
          "model_module": "@jupyter-widgets/controls",
          "model_name": "HBoxModel",
          "state": {
            "_view_name": "HBoxView",
            "_dom_classes": [],
            "_model_name": "HBoxModel",
            "_view_module": "@jupyter-widgets/controls",
            "_model_module_version": "1.5.0",
            "_view_count": null,
            "_view_module_version": "1.5.0",
            "box_style": "",
            "layout": "IPY_MODEL_5cf6096d950847f3a9cf450b41f1b3bd",
            "_model_module": "@jupyter-widgets/controls",
            "children": [
              "IPY_MODEL_a6391b0ba6664bf2a10f8686dc878b50",
              "IPY_MODEL_fb7f500ce95a4c89b323aaf66cec90b0"
            ]
          }
        },
        "5cf6096d950847f3a9cf450b41f1b3bd": {
          "model_module": "@jupyter-widgets/base",
          "model_name": "LayoutModel",
          "state": {
            "_view_name": "LayoutView",
            "grid_template_rows": null,
            "right": null,
            "justify_content": null,
            "_view_module": "@jupyter-widgets/base",
            "overflow": null,
            "_model_module_version": "1.2.0",
            "_view_count": null,
            "flex_flow": null,
            "width": null,
            "min_width": null,
            "border": null,
            "align_items": null,
            "bottom": null,
            "_model_module": "@jupyter-widgets/base",
            "top": null,
            "grid_column": null,
            "overflow_y": null,
            "overflow_x": null,
            "grid_auto_flow": null,
            "grid_area": null,
            "grid_template_columns": null,
            "flex": null,
            "_model_name": "LayoutModel",
            "justify_items": null,
            "grid_row": null,
            "max_height": null,
            "align_content": null,
            "visibility": null,
            "align_self": null,
            "height": null,
            "min_height": null,
            "padding": null,
            "grid_auto_rows": null,
            "grid_gap": null,
            "max_width": null,
            "order": null,
            "_view_module_version": "1.2.0",
            "grid_template_areas": null,
            "object_position": null,
            "object_fit": null,
            "grid_auto_columns": null,
            "margin": null,
            "display": null,
            "left": null
          }
        },
        "a6391b0ba6664bf2a10f8686dc878b50": {
          "model_module": "@jupyter-widgets/controls",
          "model_name": "IntProgressModel",
          "state": {
            "_view_name": "ProgressView",
            "style": "IPY_MODEL_fd9deebc8e754bc694a965a073a5f2ab",
            "_dom_classes": [],
            "description": "",
            "_model_name": "IntProgressModel",
            "bar_style": "",
            "max": 9,
            "_view_module": "@jupyter-widgets/controls",
            "_model_module_version": "1.5.0",
            "value": 9,
            "_view_count": null,
            "_view_module_version": "1.5.0",
            "orientation": "horizontal",
            "min": 0,
            "description_tooltip": null,
            "_model_module": "@jupyter-widgets/controls",
            "layout": "IPY_MODEL_21ec8e90d38d4113a3d30d1ca7e8d0f6"
          }
        },
        "fb7f500ce95a4c89b323aaf66cec90b0": {
          "model_module": "@jupyter-widgets/controls",
          "model_name": "HTMLModel",
          "state": {
            "_view_name": "HTMLView",
            "style": "IPY_MODEL_7f25bbae41a345d5acf2b8e2a6376e0a",
            "_dom_classes": [],
            "description": "",
            "_model_name": "HTMLModel",
            "placeholder": "​",
            "_view_module": "@jupyter-widgets/controls",
            "_model_module_version": "1.5.0",
            "value": "100% 9/9 [00:44&lt;00:00,  3.65s/it]",
            "_view_count": null,
            "_view_module_version": "1.5.0",
            "description_tooltip": null,
            "_model_module": "@jupyter-widgets/controls",
            "layout": "IPY_MODEL_b9054d24d65748059711f942daf852fa"
          }
        },
        "fd9deebc8e754bc694a965a073a5f2ab": {
          "model_module": "@jupyter-widgets/controls",
          "model_name": "ProgressStyleModel",
          "state": {
            "_view_name": "StyleView",
            "_model_name": "ProgressStyleModel",
            "description_width": "",
            "_view_module": "@jupyter-widgets/base",
            "_model_module_version": "1.5.0",
            "_view_count": null,
            "_view_module_version": "1.2.0",
            "bar_color": null,
            "_model_module": "@jupyter-widgets/controls"
          }
        },
        "21ec8e90d38d4113a3d30d1ca7e8d0f6": {
          "model_module": "@jupyter-widgets/base",
          "model_name": "LayoutModel",
          "state": {
            "_view_name": "LayoutView",
            "grid_template_rows": null,
            "right": null,
            "justify_content": null,
            "_view_module": "@jupyter-widgets/base",
            "overflow": null,
            "_model_module_version": "1.2.0",
            "_view_count": null,
            "flex_flow": null,
            "width": null,
            "min_width": null,
            "border": null,
            "align_items": null,
            "bottom": null,
            "_model_module": "@jupyter-widgets/base",
            "top": null,
            "grid_column": null,
            "overflow_y": null,
            "overflow_x": null,
            "grid_auto_flow": null,
            "grid_area": null,
            "grid_template_columns": null,
            "flex": null,
            "_model_name": "LayoutModel",
            "justify_items": null,
            "grid_row": null,
            "max_height": null,
            "align_content": null,
            "visibility": null,
            "align_self": null,
            "height": null,
            "min_height": null,
            "padding": null,
            "grid_auto_rows": null,
            "grid_gap": null,
            "max_width": null,
            "order": null,
            "_view_module_version": "1.2.0",
            "grid_template_areas": null,
            "object_position": null,
            "object_fit": null,
            "grid_auto_columns": null,
            "margin": null,
            "display": null,
            "left": null
          }
        },
        "7f25bbae41a345d5acf2b8e2a6376e0a": {
          "model_module": "@jupyter-widgets/controls",
          "model_name": "DescriptionStyleModel",
          "state": {
            "_view_name": "StyleView",
            "_model_name": "DescriptionStyleModel",
            "description_width": "",
            "_view_module": "@jupyter-widgets/base",
            "_model_module_version": "1.5.0",
            "_view_count": null,
            "_view_module_version": "1.2.0",
            "_model_module": "@jupyter-widgets/controls"
          }
        },
        "b9054d24d65748059711f942daf852fa": {
          "model_module": "@jupyter-widgets/base",
          "model_name": "LayoutModel",
          "state": {
            "_view_name": "LayoutView",
            "grid_template_rows": null,
            "right": null,
            "justify_content": null,
            "_view_module": "@jupyter-widgets/base",
            "overflow": null,
            "_model_module_version": "1.2.0",
            "_view_count": null,
            "flex_flow": null,
            "width": null,
            "min_width": null,
            "border": null,
            "align_items": null,
            "bottom": null,
            "_model_module": "@jupyter-widgets/base",
            "top": null,
            "grid_column": null,
            "overflow_y": null,
            "overflow_x": null,
            "grid_auto_flow": null,
            "grid_area": null,
            "grid_template_columns": null,
            "flex": null,
            "_model_name": "LayoutModel",
            "justify_items": null,
            "grid_row": null,
            "max_height": null,
            "align_content": null,
            "visibility": null,
            "align_self": null,
            "height": null,
            "min_height": null,
            "padding": null,
            "grid_auto_rows": null,
            "grid_gap": null,
            "max_width": null,
            "order": null,
            "_view_module_version": "1.2.0",
            "grid_template_areas": null,
            "object_position": null,
            "object_fit": null,
            "grid_auto_columns": null,
            "margin": null,
            "display": null,
            "left": null
          }
        },
        "4d1c66bd72654bd4a0e031ce821e45d6": {
          "model_module": "@jupyter-widgets/controls",
          "model_name": "HBoxModel",
          "state": {
            "_view_name": "HBoxView",
            "_dom_classes": [],
            "_model_name": "HBoxModel",
            "_view_module": "@jupyter-widgets/controls",
            "_model_module_version": "1.5.0",
            "_view_count": null,
            "_view_module_version": "1.5.0",
            "box_style": "",
            "layout": "IPY_MODEL_54e0aaa7a5fe47c491e13f51830887f1",
            "_model_module": "@jupyter-widgets/controls",
            "children": [
              "IPY_MODEL_ede4c26f1dc14969918649c3579314e1",
              "IPY_MODEL_bf4697e3a7a94f58b7d1696ec69e873f"
            ]
          }
        },
        "54e0aaa7a5fe47c491e13f51830887f1": {
          "model_module": "@jupyter-widgets/base",
          "model_name": "LayoutModel",
          "state": {
            "_view_name": "LayoutView",
            "grid_template_rows": null,
            "right": null,
            "justify_content": null,
            "_view_module": "@jupyter-widgets/base",
            "overflow": null,
            "_model_module_version": "1.2.0",
            "_view_count": null,
            "flex_flow": null,
            "width": null,
            "min_width": null,
            "border": null,
            "align_items": null,
            "bottom": null,
            "_model_module": "@jupyter-widgets/base",
            "top": null,
            "grid_column": null,
            "overflow_y": null,
            "overflow_x": null,
            "grid_auto_flow": null,
            "grid_area": null,
            "grid_template_columns": null,
            "flex": null,
            "_model_name": "LayoutModel",
            "justify_items": null,
            "grid_row": null,
            "max_height": null,
            "align_content": null,
            "visibility": null,
            "align_self": null,
            "height": null,
            "min_height": null,
            "padding": null,
            "grid_auto_rows": null,
            "grid_gap": null,
            "max_width": null,
            "order": null,
            "_view_module_version": "1.2.0",
            "grid_template_areas": null,
            "object_position": null,
            "object_fit": null,
            "grid_auto_columns": null,
            "margin": null,
            "display": null,
            "left": null
          }
        },
        "ede4c26f1dc14969918649c3579314e1": {
          "model_module": "@jupyter-widgets/controls",
          "model_name": "IntProgressModel",
          "state": {
            "_view_name": "ProgressView",
            "style": "IPY_MODEL_2b4aa8d711474bb48a34ca2c0fb5c489",
            "_dom_classes": [],
            "description": "",
            "_model_name": "IntProgressModel",
            "bar_style": "",
            "max": 9,
            "_view_module": "@jupyter-widgets/controls",
            "_model_module_version": "1.5.0",
            "value": 9,
            "_view_count": null,
            "_view_module_version": "1.5.0",
            "orientation": "horizontal",
            "min": 0,
            "description_tooltip": null,
            "_model_module": "@jupyter-widgets/controls",
            "layout": "IPY_MODEL_7fa651d405794b4c947324628dcef43a"
          }
        },
        "bf4697e3a7a94f58b7d1696ec69e873f": {
          "model_module": "@jupyter-widgets/controls",
          "model_name": "HTMLModel",
          "state": {
            "_view_name": "HTMLView",
            "style": "IPY_MODEL_448bba93101c4ca79b94648a9a8255a7",
            "_dom_classes": [],
            "description": "",
            "_model_name": "HTMLModel",
            "placeholder": "​",
            "_view_module": "@jupyter-widgets/controls",
            "_model_module_version": "1.5.0",
            "value": "100% 9/9 [01:15&lt;00:00,  7.74s/it]",
            "_view_count": null,
            "_view_module_version": "1.5.0",
            "description_tooltip": null,
            "_model_module": "@jupyter-widgets/controls",
            "layout": "IPY_MODEL_685b4a659bbb4f8d917088db82501754"
          }
        },
        "2b4aa8d711474bb48a34ca2c0fb5c489": {
          "model_module": "@jupyter-widgets/controls",
          "model_name": "ProgressStyleModel",
          "state": {
            "_view_name": "StyleView",
            "_model_name": "ProgressStyleModel",
            "description_width": "",
            "_view_module": "@jupyter-widgets/base",
            "_model_module_version": "1.5.0",
            "_view_count": null,
            "_view_module_version": "1.2.0",
            "bar_color": null,
            "_model_module": "@jupyter-widgets/controls"
          }
        },
        "7fa651d405794b4c947324628dcef43a": {
          "model_module": "@jupyter-widgets/base",
          "model_name": "LayoutModel",
          "state": {
            "_view_name": "LayoutView",
            "grid_template_rows": null,
            "right": null,
            "justify_content": null,
            "_view_module": "@jupyter-widgets/base",
            "overflow": null,
            "_model_module_version": "1.2.0",
            "_view_count": null,
            "flex_flow": null,
            "width": null,
            "min_width": null,
            "border": null,
            "align_items": null,
            "bottom": null,
            "_model_module": "@jupyter-widgets/base",
            "top": null,
            "grid_column": null,
            "overflow_y": null,
            "overflow_x": null,
            "grid_auto_flow": null,
            "grid_area": null,
            "grid_template_columns": null,
            "flex": null,
            "_model_name": "LayoutModel",
            "justify_items": null,
            "grid_row": null,
            "max_height": null,
            "align_content": null,
            "visibility": null,
            "align_self": null,
            "height": null,
            "min_height": null,
            "padding": null,
            "grid_auto_rows": null,
            "grid_gap": null,
            "max_width": null,
            "order": null,
            "_view_module_version": "1.2.0",
            "grid_template_areas": null,
            "object_position": null,
            "object_fit": null,
            "grid_auto_columns": null,
            "margin": null,
            "display": null,
            "left": null
          }
        },
        "448bba93101c4ca79b94648a9a8255a7": {
          "model_module": "@jupyter-widgets/controls",
          "model_name": "DescriptionStyleModel",
          "state": {
            "_view_name": "StyleView",
            "_model_name": "DescriptionStyleModel",
            "description_width": "",
            "_view_module": "@jupyter-widgets/base",
            "_model_module_version": "1.5.0",
            "_view_count": null,
            "_view_module_version": "1.2.0",
            "_model_module": "@jupyter-widgets/controls"
          }
        },
        "685b4a659bbb4f8d917088db82501754": {
          "model_module": "@jupyter-widgets/base",
          "model_name": "LayoutModel",
          "state": {
            "_view_name": "LayoutView",
            "grid_template_rows": null,
            "right": null,
            "justify_content": null,
            "_view_module": "@jupyter-widgets/base",
            "overflow": null,
            "_model_module_version": "1.2.0",
            "_view_count": null,
            "flex_flow": null,
            "width": null,
            "min_width": null,
            "border": null,
            "align_items": null,
            "bottom": null,
            "_model_module": "@jupyter-widgets/base",
            "top": null,
            "grid_column": null,
            "overflow_y": null,
            "overflow_x": null,
            "grid_auto_flow": null,
            "grid_area": null,
            "grid_template_columns": null,
            "flex": null,
            "_model_name": "LayoutModel",
            "justify_items": null,
            "grid_row": null,
            "max_height": null,
            "align_content": null,
            "visibility": null,
            "align_self": null,
            "height": null,
            "min_height": null,
            "padding": null,
            "grid_auto_rows": null,
            "grid_gap": null,
            "max_width": null,
            "order": null,
            "_view_module_version": "1.2.0",
            "grid_template_areas": null,
            "object_position": null,
            "object_fit": null,
            "grid_auto_columns": null,
            "margin": null,
            "display": null,
            "left": null
          }
        },
        "cd7670422bcd4c09b566f7965e175d54": {
          "model_module": "@jupyter-widgets/controls",
          "model_name": "HBoxModel",
          "state": {
            "_view_name": "HBoxView",
            "_dom_classes": [],
            "_model_name": "HBoxModel",
            "_view_module": "@jupyter-widgets/controls",
            "_model_module_version": "1.5.0",
            "_view_count": null,
            "_view_module_version": "1.5.0",
            "box_style": "",
            "layout": "IPY_MODEL_b6ab050a7ba3493fa0d6edc00e9e3360",
            "_model_module": "@jupyter-widgets/controls",
            "children": [
              "IPY_MODEL_4d2c19fcda24453bbe608fef4b8f0197",
              "IPY_MODEL_452494ce5aea4b3dab57dc3fe1774b9d"
            ]
          }
        },
        "b6ab050a7ba3493fa0d6edc00e9e3360": {
          "model_module": "@jupyter-widgets/base",
          "model_name": "LayoutModel",
          "state": {
            "_view_name": "LayoutView",
            "grid_template_rows": null,
            "right": null,
            "justify_content": null,
            "_view_module": "@jupyter-widgets/base",
            "overflow": null,
            "_model_module_version": "1.2.0",
            "_view_count": null,
            "flex_flow": null,
            "width": null,
            "min_width": null,
            "border": null,
            "align_items": null,
            "bottom": null,
            "_model_module": "@jupyter-widgets/base",
            "top": null,
            "grid_column": null,
            "overflow_y": null,
            "overflow_x": null,
            "grid_auto_flow": null,
            "grid_area": null,
            "grid_template_columns": null,
            "flex": null,
            "_model_name": "LayoutModel",
            "justify_items": null,
            "grid_row": null,
            "max_height": null,
            "align_content": null,
            "visibility": null,
            "align_self": null,
            "height": null,
            "min_height": null,
            "padding": null,
            "grid_auto_rows": null,
            "grid_gap": null,
            "max_width": null,
            "order": null,
            "_view_module_version": "1.2.0",
            "grid_template_areas": null,
            "object_position": null,
            "object_fit": null,
            "grid_auto_columns": null,
            "margin": null,
            "display": null,
            "left": null
          }
        },
        "4d2c19fcda24453bbe608fef4b8f0197": {
          "model_module": "@jupyter-widgets/controls",
          "model_name": "IntProgressModel",
          "state": {
            "_view_name": "ProgressView",
            "style": "IPY_MODEL_338617a3f4444e88bba1f14132b7b64b",
            "_dom_classes": [],
            "description": "",
            "_model_name": "IntProgressModel",
            "bar_style": "",
            "max": 9,
            "_view_module": "@jupyter-widgets/controls",
            "_model_module_version": "1.5.0",
            "value": 9,
            "_view_count": null,
            "_view_module_version": "1.5.0",
            "orientation": "horizontal",
            "min": 0,
            "description_tooltip": null,
            "_model_module": "@jupyter-widgets/controls",
            "layout": "IPY_MODEL_f7cb99536bbf44c1815e44834ee049fa"
          }
        },
        "452494ce5aea4b3dab57dc3fe1774b9d": {
          "model_module": "@jupyter-widgets/controls",
          "model_name": "HTMLModel",
          "state": {
            "_view_name": "HTMLView",
            "style": "IPY_MODEL_d342650715944cf7ac8aa2abb60cf148",
            "_dom_classes": [],
            "description": "",
            "_model_name": "HTMLModel",
            "placeholder": "​",
            "_view_module": "@jupyter-widgets/controls",
            "_model_module_version": "1.5.0",
            "value": "100% 9/9 [01:12&lt;00:00,  7.90s/it]",
            "_view_count": null,
            "_view_module_version": "1.5.0",
            "description_tooltip": null,
            "_model_module": "@jupyter-widgets/controls",
            "layout": "IPY_MODEL_41550517636d4af3abec71ef1b9212a4"
          }
        },
        "338617a3f4444e88bba1f14132b7b64b": {
          "model_module": "@jupyter-widgets/controls",
          "model_name": "ProgressStyleModel",
          "state": {
            "_view_name": "StyleView",
            "_model_name": "ProgressStyleModel",
            "description_width": "",
            "_view_module": "@jupyter-widgets/base",
            "_model_module_version": "1.5.0",
            "_view_count": null,
            "_view_module_version": "1.2.0",
            "bar_color": null,
            "_model_module": "@jupyter-widgets/controls"
          }
        },
        "f7cb99536bbf44c1815e44834ee049fa": {
          "model_module": "@jupyter-widgets/base",
          "model_name": "LayoutModel",
          "state": {
            "_view_name": "LayoutView",
            "grid_template_rows": null,
            "right": null,
            "justify_content": null,
            "_view_module": "@jupyter-widgets/base",
            "overflow": null,
            "_model_module_version": "1.2.0",
            "_view_count": null,
            "flex_flow": null,
            "width": null,
            "min_width": null,
            "border": null,
            "align_items": null,
            "bottom": null,
            "_model_module": "@jupyter-widgets/base",
            "top": null,
            "grid_column": null,
            "overflow_y": null,
            "overflow_x": null,
            "grid_auto_flow": null,
            "grid_area": null,
            "grid_template_columns": null,
            "flex": null,
            "_model_name": "LayoutModel",
            "justify_items": null,
            "grid_row": null,
            "max_height": null,
            "align_content": null,
            "visibility": null,
            "align_self": null,
            "height": null,
            "min_height": null,
            "padding": null,
            "grid_auto_rows": null,
            "grid_gap": null,
            "max_width": null,
            "order": null,
            "_view_module_version": "1.2.0",
            "grid_template_areas": null,
            "object_position": null,
            "object_fit": null,
            "grid_auto_columns": null,
            "margin": null,
            "display": null,
            "left": null
          }
        },
        "d342650715944cf7ac8aa2abb60cf148": {
          "model_module": "@jupyter-widgets/controls",
          "model_name": "DescriptionStyleModel",
          "state": {
            "_view_name": "StyleView",
            "_model_name": "DescriptionStyleModel",
            "description_width": "",
            "_view_module": "@jupyter-widgets/base",
            "_model_module_version": "1.5.0",
            "_view_count": null,
            "_view_module_version": "1.2.0",
            "_model_module": "@jupyter-widgets/controls"
          }
        },
        "41550517636d4af3abec71ef1b9212a4": {
          "model_module": "@jupyter-widgets/base",
          "model_name": "LayoutModel",
          "state": {
            "_view_name": "LayoutView",
            "grid_template_rows": null,
            "right": null,
            "justify_content": null,
            "_view_module": "@jupyter-widgets/base",
            "overflow": null,
            "_model_module_version": "1.2.0",
            "_view_count": null,
            "flex_flow": null,
            "width": null,
            "min_width": null,
            "border": null,
            "align_items": null,
            "bottom": null,
            "_model_module": "@jupyter-widgets/base",
            "top": null,
            "grid_column": null,
            "overflow_y": null,
            "overflow_x": null,
            "grid_auto_flow": null,
            "grid_area": null,
            "grid_template_columns": null,
            "flex": null,
            "_model_name": "LayoutModel",
            "justify_items": null,
            "grid_row": null,
            "max_height": null,
            "align_content": null,
            "visibility": null,
            "align_self": null,
            "height": null,
            "min_height": null,
            "padding": null,
            "grid_auto_rows": null,
            "grid_gap": null,
            "max_width": null,
            "order": null,
            "_view_module_version": "1.2.0",
            "grid_template_areas": null,
            "object_position": null,
            "object_fit": null,
            "grid_auto_columns": null,
            "margin": null,
            "display": null,
            "left": null
          }
        },
        "046bf081d94b4d2d88ad9a446ff15ad4": {
          "model_module": "@jupyter-widgets/controls",
          "model_name": "HBoxModel",
          "state": {
            "_view_name": "HBoxView",
            "_dom_classes": [],
            "_model_name": "HBoxModel",
            "_view_module": "@jupyter-widgets/controls",
            "_model_module_version": "1.5.0",
            "_view_count": null,
            "_view_module_version": "1.5.0",
            "box_style": "",
            "layout": "IPY_MODEL_fcb117168e134454b6c6be2e7e8ad137",
            "_model_module": "@jupyter-widgets/controls",
            "children": [
              "IPY_MODEL_edf3bb93ee874e468c05ba28ccc874a3",
              "IPY_MODEL_791c6c8e45144a5aa1da3f3adcea419e"
            ]
          }
        },
        "fcb117168e134454b6c6be2e7e8ad137": {
          "model_module": "@jupyter-widgets/base",
          "model_name": "LayoutModel",
          "state": {
            "_view_name": "LayoutView",
            "grid_template_rows": null,
            "right": null,
            "justify_content": null,
            "_view_module": "@jupyter-widgets/base",
            "overflow": null,
            "_model_module_version": "1.2.0",
            "_view_count": null,
            "flex_flow": null,
            "width": null,
            "min_width": null,
            "border": null,
            "align_items": null,
            "bottom": null,
            "_model_module": "@jupyter-widgets/base",
            "top": null,
            "grid_column": null,
            "overflow_y": null,
            "overflow_x": null,
            "grid_auto_flow": null,
            "grid_area": null,
            "grid_template_columns": null,
            "flex": null,
            "_model_name": "LayoutModel",
            "justify_items": null,
            "grid_row": null,
            "max_height": null,
            "align_content": null,
            "visibility": null,
            "align_self": null,
            "height": null,
            "min_height": null,
            "padding": null,
            "grid_auto_rows": null,
            "grid_gap": null,
            "max_width": null,
            "order": null,
            "_view_module_version": "1.2.0",
            "grid_template_areas": null,
            "object_position": null,
            "object_fit": null,
            "grid_auto_columns": null,
            "margin": null,
            "display": null,
            "left": null
          }
        },
        "edf3bb93ee874e468c05ba28ccc874a3": {
          "model_module": "@jupyter-widgets/controls",
          "model_name": "IntProgressModel",
          "state": {
            "_view_name": "ProgressView",
            "style": "IPY_MODEL_5d105269e235428881ef99fe755504a0",
            "_dom_classes": [],
            "description": "",
            "_model_name": "IntProgressModel",
            "bar_style": "",
            "max": 9,
            "_view_module": "@jupyter-widgets/controls",
            "_model_module_version": "1.5.0",
            "value": 9,
            "_view_count": null,
            "_view_module_version": "1.5.0",
            "orientation": "horizontal",
            "min": 0,
            "description_tooltip": null,
            "_model_module": "@jupyter-widgets/controls",
            "layout": "IPY_MODEL_77e5a836488e4d9f8691a0ad299d5f80"
          }
        },
        "791c6c8e45144a5aa1da3f3adcea419e": {
          "model_module": "@jupyter-widgets/controls",
          "model_name": "HTMLModel",
          "state": {
            "_view_name": "HTMLView",
            "style": "IPY_MODEL_c3043cf5e8da49d3893201001e2b4726",
            "_dom_classes": [],
            "description": "",
            "_model_name": "HTMLModel",
            "placeholder": "​",
            "_view_module": "@jupyter-widgets/controls",
            "_model_module_version": "1.5.0",
            "value": "100% 9/9 [01:09&lt;00:00,  7.33s/it]",
            "_view_count": null,
            "_view_module_version": "1.5.0",
            "description_tooltip": null,
            "_model_module": "@jupyter-widgets/controls",
            "layout": "IPY_MODEL_7427ff972b1b493a8e1d8255459f75d9"
          }
        },
        "5d105269e235428881ef99fe755504a0": {
          "model_module": "@jupyter-widgets/controls",
          "model_name": "ProgressStyleModel",
          "state": {
            "_view_name": "StyleView",
            "_model_name": "ProgressStyleModel",
            "description_width": "",
            "_view_module": "@jupyter-widgets/base",
            "_model_module_version": "1.5.0",
            "_view_count": null,
            "_view_module_version": "1.2.0",
            "bar_color": null,
            "_model_module": "@jupyter-widgets/controls"
          }
        },
        "77e5a836488e4d9f8691a0ad299d5f80": {
          "model_module": "@jupyter-widgets/base",
          "model_name": "LayoutModel",
          "state": {
            "_view_name": "LayoutView",
            "grid_template_rows": null,
            "right": null,
            "justify_content": null,
            "_view_module": "@jupyter-widgets/base",
            "overflow": null,
            "_model_module_version": "1.2.0",
            "_view_count": null,
            "flex_flow": null,
            "width": null,
            "min_width": null,
            "border": null,
            "align_items": null,
            "bottom": null,
            "_model_module": "@jupyter-widgets/base",
            "top": null,
            "grid_column": null,
            "overflow_y": null,
            "overflow_x": null,
            "grid_auto_flow": null,
            "grid_area": null,
            "grid_template_columns": null,
            "flex": null,
            "_model_name": "LayoutModel",
            "justify_items": null,
            "grid_row": null,
            "max_height": null,
            "align_content": null,
            "visibility": null,
            "align_self": null,
            "height": null,
            "min_height": null,
            "padding": null,
            "grid_auto_rows": null,
            "grid_gap": null,
            "max_width": null,
            "order": null,
            "_view_module_version": "1.2.0",
            "grid_template_areas": null,
            "object_position": null,
            "object_fit": null,
            "grid_auto_columns": null,
            "margin": null,
            "display": null,
            "left": null
          }
        },
        "c3043cf5e8da49d3893201001e2b4726": {
          "model_module": "@jupyter-widgets/controls",
          "model_name": "DescriptionStyleModel",
          "state": {
            "_view_name": "StyleView",
            "_model_name": "DescriptionStyleModel",
            "description_width": "",
            "_view_module": "@jupyter-widgets/base",
            "_model_module_version": "1.5.0",
            "_view_count": null,
            "_view_module_version": "1.2.0",
            "_model_module": "@jupyter-widgets/controls"
          }
        },
        "7427ff972b1b493a8e1d8255459f75d9": {
          "model_module": "@jupyter-widgets/base",
          "model_name": "LayoutModel",
          "state": {
            "_view_name": "LayoutView",
            "grid_template_rows": null,
            "right": null,
            "justify_content": null,
            "_view_module": "@jupyter-widgets/base",
            "overflow": null,
            "_model_module_version": "1.2.0",
            "_view_count": null,
            "flex_flow": null,
            "width": null,
            "min_width": null,
            "border": null,
            "align_items": null,
            "bottom": null,
            "_model_module": "@jupyter-widgets/base",
            "top": null,
            "grid_column": null,
            "overflow_y": null,
            "overflow_x": null,
            "grid_auto_flow": null,
            "grid_area": null,
            "grid_template_columns": null,
            "flex": null,
            "_model_name": "LayoutModel",
            "justify_items": null,
            "grid_row": null,
            "max_height": null,
            "align_content": null,
            "visibility": null,
            "align_self": null,
            "height": null,
            "min_height": null,
            "padding": null,
            "grid_auto_rows": null,
            "grid_gap": null,
            "max_width": null,
            "order": null,
            "_view_module_version": "1.2.0",
            "grid_template_areas": null,
            "object_position": null,
            "object_fit": null,
            "grid_auto_columns": null,
            "margin": null,
            "display": null,
            "left": null
          }
        }
      }
    }
  },
  "cells": [
    {
      "cell_type": "markdown",
      "metadata": {
        "id": "view-in-github",
        "colab_type": "text"
      },
      "source": [
        "<a href=\"https://colab.research.google.com/github/alwayswannadie1/Projects/blob/master/Copy_of_%D0%9D%D0%B8%D1%85%D1%83%D1%8F_%D0%BD%D0%B5_simple_%D1%84%D0%B8%D1%87%D0%B0_%D0%B8%D0%BD%D0%B6%D0%B8%D0%BD%D0%B8%D1%80%D0%B8%D0%BD%D0%B3.ipynb\" target=\"_parent\"><img src=\"https://colab.research.google.com/assets/colab-badge.svg\" alt=\"Open In Colab\"/></a>"
      ]
    },
    {
      "cell_type": "code",
      "metadata": {
        "id": "LBw_wCKgcIrw",
        "colab_type": "code",
        "outputId": "022a0d9b-b74c-498b-eb93-04848e92f76a",
        "colab": {
          "base_uri": "https://localhost:8080/",
          "height": 336
        }
      },
      "source": [
        "!pip install shap"
      ],
      "execution_count": 0,
      "outputs": [
        {
          "output_type": "stream",
          "text": [
            "Collecting shap\n",
            "\u001b[?25l  Downloading https://files.pythonhosted.org/packages/b8/db/58740847c0df6b346a999e3c375936436f4155354f6b644aa6e203bb40f3/shap-0.34.0.tar.gz (264kB)\n",
            "\r\u001b[K     |█▎                              | 10kB 21.3MB/s eta 0:00:01\r\u001b[K     |██▌                             | 20kB 1.8MB/s eta 0:00:01\r\u001b[K     |███▊                            | 30kB 2.3MB/s eta 0:00:01\r\u001b[K     |█████                           | 40kB 1.7MB/s eta 0:00:01\r\u001b[K     |██████▏                         | 51kB 1.9MB/s eta 0:00:01\r\u001b[K     |███████▍                        | 61kB 2.2MB/s eta 0:00:01\r\u001b[K     |████████▊                       | 71kB 2.4MB/s eta 0:00:01\r\u001b[K     |██████████                      | 81kB 2.6MB/s eta 0:00:01\r\u001b[K     |███████████▏                    | 92kB 3.0MB/s eta 0:00:01\r\u001b[K     |████████████▍                   | 102kB 2.8MB/s eta 0:00:01\r\u001b[K     |█████████████▋                  | 112kB 2.8MB/s eta 0:00:01\r\u001b[K     |██████████████▉                 | 122kB 2.8MB/s eta 0:00:01\r\u001b[K     |████████████████▏               | 133kB 2.8MB/s eta 0:00:01\r\u001b[K     |█████████████████▍              | 143kB 2.8MB/s eta 0:00:01\r\u001b[K     |██████████████████▋             | 153kB 2.8MB/s eta 0:00:01\r\u001b[K     |███████████████████▉            | 163kB 2.8MB/s eta 0:00:01\r\u001b[K     |█████████████████████           | 174kB 2.8MB/s eta 0:00:01\r\u001b[K     |██████████████████████▎         | 184kB 2.8MB/s eta 0:00:01\r\u001b[K     |███████████████████████▋        | 194kB 2.8MB/s eta 0:00:01\r\u001b[K     |████████████████████████▉       | 204kB 2.8MB/s eta 0:00:01\r\u001b[K     |██████████████████████████      | 215kB 2.8MB/s eta 0:00:01\r\u001b[K     |███████████████████████████▎    | 225kB 2.8MB/s eta 0:00:01\r\u001b[K     |████████████████████████████▌   | 235kB 2.8MB/s eta 0:00:01\r\u001b[K     |█████████████████████████████▊  | 245kB 2.8MB/s eta 0:00:01\r\u001b[K     |███████████████████████████████ | 256kB 2.8MB/s eta 0:00:01\r\u001b[K     |████████████████████████████████| 266kB 2.8MB/s \n",
            "\u001b[?25hRequirement already satisfied: numpy in /usr/local/lib/python3.6/dist-packages (from shap) (1.17.5)\n",
            "Requirement already satisfied: scipy in /usr/local/lib/python3.6/dist-packages (from shap) (1.4.1)\n",
            "Requirement already satisfied: scikit-learn in /usr/local/lib/python3.6/dist-packages (from shap) (0.22.1)\n",
            "Requirement already satisfied: pandas in /usr/local/lib/python3.6/dist-packages (from shap) (0.25.3)\n",
            "Requirement already satisfied: tqdm>4.25.0 in /usr/local/lib/python3.6/dist-packages (from shap) (4.28.1)\n",
            "Requirement already satisfied: joblib>=0.11 in /usr/local/lib/python3.6/dist-packages (from scikit-learn->shap) (0.14.1)\n",
            "Requirement already satisfied: pytz>=2017.2 in /usr/local/lib/python3.6/dist-packages (from pandas->shap) (2018.9)\n",
            "Requirement already satisfied: python-dateutil>=2.6.1 in /usr/local/lib/python3.6/dist-packages (from pandas->shap) (2.6.1)\n",
            "Requirement already satisfied: six>=1.5 in /usr/local/lib/python3.6/dist-packages (from python-dateutil>=2.6.1->pandas->shap) (1.12.0)\n",
            "Building wheels for collected packages: shap\n",
            "  Building wheel for shap (setup.py) ... \u001b[?25l\u001b[?25hdone\n",
            "  Created wheel for shap: filename=shap-0.34.0-cp36-cp36m-linux_x86_64.whl size=383172 sha256=8f0e985dd154be544f541844d222f0a1db7e760ab21611452587cdd6155305b3\n",
            "  Stored in directory: /root/.cache/pip/wheels/28/7e/28/57bc9fcb77579b0df6561298648249370648c0b91dfe42c8ec\n",
            "Successfully built shap\n",
            "Installing collected packages: shap\n",
            "Successfully installed shap-0.34.0\n"
          ],
          "name": "stdout"
        }
      ]
    },
    {
      "cell_type": "code",
      "metadata": {
        "id": "P_oDD7UQcJe_",
        "colab_type": "code",
        "outputId": "6ff08517-5116-408c-a6c1-c49a7381bd3b",
        "colab": {
          "base_uri": "https://localhost:8080/",
          "height": 121
        }
      },
      "source": [
        "from google.colab import drive\n",
        "drive.mount('/content/drive')"
      ],
      "execution_count": 0,
      "outputs": [
        {
          "output_type": "stream",
          "text": [
            "Go to this URL in a browser: https://accounts.google.com/o/oauth2/auth?client_id=947318989803-6bn6qk8qdgf4n4g3pfee6491hc0brc4i.apps.googleusercontent.com&redirect_uri=urn%3aietf%3awg%3aoauth%3a2.0%3aoob&response_type=code&scope=email%20https%3a%2f%2fwww.googleapis.com%2fauth%2fdocs.test%20https%3a%2f%2fwww.googleapis.com%2fauth%2fdrive%20https%3a%2f%2fwww.googleapis.com%2fauth%2fdrive.photos.readonly%20https%3a%2f%2fwww.googleapis.com%2fauth%2fpeopleapi.readonly\n",
            "\n",
            "Enter your authorization code:\n",
            "··········\n",
            "Mounted at /content/drive\n"
          ],
          "name": "stdout"
        }
      ]
    },
    {
      "cell_type": "code",
      "metadata": {
        "id": "mkcFSRKbnDp9",
        "colab_type": "code",
        "colab": {}
      },
      "source": [
        "import pandas as pd\n",
        "from sklearn.metrics import roc_auc_score\n",
        "from sklearn.model_selection import cross_val_score, GroupKFold\n",
        "from sklearn.feature_selection import SelectFpr, SelectFdr\n",
        "import numpy as np\n",
        "import os\n",
        "from matplotlib import pyplot as plt\n",
        "import lightgbm as lgb\n",
        "import copy\n",
        "import gc\n",
        "import xgboost as xgb\n",
        "# import catboost as ctb\n",
        "import warnings\n",
        "warnings.filterwarnings('ignore')\n",
        "import plotly.express as px\n",
        "import shap\n",
        "from tqdm import tqdm_notebook\n",
        "import json\n",
        "from sklearn.multioutput import MultiOutputClassifier\n",
        "from sklearn.ensemble import RandomForestClassifier\n",
        "import mlxtend\n",
        "from mlxtend.feature_selection import SequentialFeatureSelector\n",
        "import random\n",
        "random.seed(4)\n",
        "# from bayes_opt import BayesianOptimization as BO\n",
        "%matplotlib inline"
      ],
      "execution_count": 0,
      "outputs": []
    },
    {
      "cell_type": "code",
      "metadata": {
        "id": "NJuOouHKT3m5",
        "colab_type": "code",
        "outputId": "c8656293-78cf-492a-f42d-e598da4e533a",
        "colab": {
          "base_uri": "https://localhost:8080/",
          "height": 34
        }
      },
      "source": [
        "gc.collect()"
      ],
      "execution_count": 0,
      "outputs": [
        {
          "output_type": "execute_result",
          "data": {
            "text/plain": [
              "8"
            ]
          },
          "metadata": {
            "tags": []
          },
          "execution_count": 4
        }
      ]
    },
    {
      "cell_type": "code",
      "metadata": {
        "id": "gYJlMGkEcNmG",
        "colab_type": "code",
        "colab": {}
      },
      "source": [
        "data_folder = './drive/My Drive/Boosters OneTwoTrip/share_data/'\n",
        "subm_folder = './drive/My Drive/Boosters OneTwoTrip/Task 2/submissions'"
      ],
      "execution_count": 0,
      "outputs": []
    },
    {
      "cell_type": "code",
      "metadata": {
        "id": "NZCGVJCTcOY_",
        "colab_type": "code",
        "colab": {}
      },
      "source": [
        "# df_train = pd.read_csv(os.path.join(data_folder, 'train_features.csv'))\n",
        "# df_test = pd.read_csv(os.path.join(data_folder,'test_features.csv'))\n",
        "df_train = pd.read_pickle(os.path.join(data_folder, 'train_features.pkl'))\n",
        "df_test = pd.read_pickle(os.path.join(data_folder, 'test_features.pkl'))"
      ],
      "execution_count": 0,
      "outputs": []
    },
    {
      "cell_type": "code",
      "metadata": {
        "id": "u1I2gQ3hS0Ag",
        "colab_type": "code",
        "outputId": "ca525c01-cacc-435d-dc38-d352b404a11d",
        "colab": {
          "base_uri": "https://localhost:8080/",
          "height": 34
        }
      },
      "source": [
        "df_train.field12_mean_div.iloc[3]"
      ],
      "execution_count": 0,
      "outputs": [
        {
          "output_type": "execute_result",
          "data": {
            "text/plain": [
              "1.555556"
            ]
          },
          "metadata": {
            "tags": []
          },
          "execution_count": 7
        }
      ]
    },
    {
      "cell_type": "code",
      "metadata": {
        "id": "0nyKutnsT6G9",
        "colab_type": "code",
        "outputId": "868a314f-bde7-48f0-bc80-8ffbedd4427c",
        "colab": {
          "base_uri": "https://localhost:8080/",
          "height": 34
        }
      },
      "source": [
        "gc.collect()"
      ],
      "execution_count": 0,
      "outputs": [
        {
          "output_type": "execute_result",
          "data": {
            "text/plain": [
              "0"
            ]
          },
          "metadata": {
            "tags": []
          },
          "execution_count": 8
        }
      ]
    },
    {
      "cell_type": "code",
      "metadata": {
        "id": "xJJ42WuhcOcG",
        "colab_type": "code",
        "colab": {}
      },
      "source": [
        "with open(os.path.join(data_folder, 'features.txt'), 'r') as f:\n",
        "    features = json.load(f)"
      ],
      "execution_count": 0,
      "outputs": []
    },
    {
      "cell_type": "code",
      "metadata": {
        "id": "3Qd9DSAUcOe2",
        "colab_type": "code",
        "outputId": "e0e1d120-b634-4e38-acfc-28cc84e2bee9",
        "colab": {
          "base_uri": "https://localhost:8080/",
          "height": 34
        }
      },
      "source": [
        "features.keys()"
      ],
      "execution_count": 0,
      "outputs": [
        {
          "output_type": "execute_result",
          "data": {
            "text/plain": [
              "dict_keys(['fields_cols', 'dif_cols', 'shift_cols', 'just_cols', 'ind_cols', 'encode_cols', 'div_cols', 'mix_cols'])"
            ]
          },
          "metadata": {
            "tags": []
          },
          "execution_count": 10
        }
      ]
    },
    {
      "cell_type": "code",
      "metadata": {
        "id": "MGoQRvKUYFsA",
        "colab_type": "code",
        "outputId": "8ad7e7cb-9f17-4c58-8bd4-7a3045457c73",
        "colab": {
          "base_uri": "https://localhost:8080/",
          "height": 34
        }
      },
      "source": [
        "gc.collect()"
      ],
      "execution_count": 0,
      "outputs": [
        {
          "output_type": "execute_result",
          "data": {
            "text/plain": [
              "118"
            ]
          },
          "metadata": {
            "tags": []
          },
          "execution_count": 11
        }
      ]
    },
    {
      "cell_type": "code",
      "metadata": {
        "id": "xKUQIBH0cOhY",
        "colab_type": "code",
        "outputId": "801dfba1-2504-46d1-8c2d-87c99efc0df0",
        "colab": {
          "base_uri": "https://localhost:8080/",
          "height": 50
        }
      },
      "source": [
        "features['fields_cols']"
      ],
      "execution_count": 0,
      "outputs": [
        {
          "output_type": "execute_result",
          "data": {
            "text/html": [
              "['field0', 'field1', 'field2', 'field3', 'field4', 'field5', 'field6', 'field7', 'field8', 'field9', 'field10', 'field11', 'field12', 'field13', 'field14', 'field15', 'field16', 'field17', 'field18', 'field19', 'field20', 'field21', 'field22', 'field23', 'field24', 'field25', 'field26', 'field27', 'field28', 'field29', 'field1_1', 'field14_1']"
            ],
            "text/plain": [
              "['field0',\n",
              " 'field1',\n",
              " 'field2',\n",
              " 'field3',\n",
              " 'field4',\n",
              " 'field5',\n",
              " 'field6',\n",
              " 'field7',\n",
              " 'field8',\n",
              " 'field9',\n",
              " 'field10',\n",
              " 'field11',\n",
              " 'field12',\n",
              " 'field13',\n",
              " 'field14',\n",
              " 'field15',\n",
              " 'field16',\n",
              " 'field17',\n",
              " 'field18',\n",
              " 'field19',\n",
              " 'field20',\n",
              " 'field21',\n",
              " 'field22',\n",
              " 'field23',\n",
              " 'field24',\n",
              " 'field25',\n",
              " 'field26',\n",
              " 'field27',\n",
              " 'field28',\n",
              " 'field29',\n",
              " 'field1_1',\n",
              " 'field14_1']"
            ]
          },
          "metadata": {
            "tags": []
          },
          "execution_count": 12
        }
      ]
    },
    {
      "cell_type": "code",
      "metadata": {
        "id": "GHA3s24TSTK1",
        "colab_type": "code",
        "outputId": "9dfe2393-303d-4bec-bdc6-f4f9f89d934c",
        "colab": {
          "base_uri": "https://localhost:8080/",
          "height": 34
        }
      },
      "source": [
        "df_train.shape"
      ],
      "execution_count": 0,
      "outputs": [
        {
          "output_type": "execute_result",
          "data": {
            "text/plain": [
              "(196056, 733)"
            ]
          },
          "metadata": {
            "tags": []
          },
          "execution_count": 13
        }
      ]
    },
    {
      "cell_type": "markdown",
      "metadata": {
        "id": "uv2eewcK4foB",
        "colab_type": "text"
      },
      "source": [
        "- Вернуть из старого сабмита goal23 и goal25???"
      ]
    },
    {
      "cell_type": "code",
      "metadata": {
        "id": "-a-cIRs-2bg3",
        "colab_type": "code",
        "colab": {}
      },
      "source": [
        "for col in df_train.columns:\n",
        "    if np.inf in df_train[col]:\n",
        "        print(col)"
      ],
      "execution_count": 0,
      "outputs": []
    },
    {
      "cell_type": "code",
      "metadata": {
        "id": "-ANmdhKScOqR",
        "colab_type": "code",
        "colab": {}
      },
      "source": [
        "# не работает эта хуета\n",
        "def make_encoding_great_again(train_df, test_df):\n",
        "    \n",
        "    all_df = pd.concat([train_df, test_df])\n",
        "\n",
        "    # by_encode = ['field16', 'field12', 'field0', 'field1']\n",
        "    # for_encode = ['field0', 'field1', 'field12', 'field16', 'field15']\n",
        "\n",
        "    by_encode = ['userid', 'field5', 'field4', 'field1']\n",
        "    for_encode = ['field1_1', 'field13', 'field16']\n",
        "\n",
        "    for col_by in by_encode:\n",
        "        for col_for in for_encode:\n",
        "            if col_for != col_by:\n",
        "                \n",
        "                all_df[col_by + '_mean_enc_' + col_for] = all_df[[col_by, col_for]].groupby(col_by)[col_for].transform('mean')\n",
        "                all_df[col_by + '_mean_div_enc_' + col_for] = all_df[col_for]/all_df[col_by + '_mean_enc_' + col_for]\n",
        "                print(f'field {col_for} encode by {col_by}')\n",
        "    all_df.replace({np.inf:-9999, -np.inf:-9999})\n",
        "    return all_df[all_df.userid.isin(train_df.userid.unique())], all_df[all_df.userid.isin(test_df.userid.unique())]\n",
        "\n",
        "\n",
        "def get_encode_features(train_df, test_df, cols_to_mix):\n",
        "    all_df = pd.concat([train_df, test_df], ignore_index=True)\n",
        "\n",
        "    # all_df['field_0_value_encode'] = all_df.groupby('field0')['orderid'].transform('count')\n",
        "\n",
        "    # all_df['field_12_value_encode'] = all_df.groupby('field12')['orderid'].transform('count')\n",
        "    # all_df['field_16_value_encode'] = all_df.groupby('field16')['orderid'].transform('count')\n",
        "\n",
        "    # all_df['field_12_value_encode_userid'] = all_df.groupby(['userid', 'field12'])['orderid'].transform('count')\n",
        "    # all_df['field_16_value_encode_userid'] = all_df.groupby(['userid', 'field16'])['orderid'].transform('count')\n",
        "\n",
        "    # groupby mean и отношения по field6_mix_field14 и field6_mix_field12\n",
        "    # не работает, но и не портит (не буду выкидывать пока)\n",
        "    # fields_for_test = ['field16', 'field1_1', 'field12']\n",
        "    # for col in fields_for_test:\n",
        "    #     all_df[col+'_mean_div_enc_field6_14'] = all_df.groupby('field6_mix_field14')[col].transform('mean')\n",
        "    #     all_df[col+'_mean_div_enc_field6_14'] = all_df[col+'_mean_div_enc_field6_14']/all_df[col]\n",
        "\n",
        "    #     all_df[col+'_mean_div_enc_field6_12'] = all_df.groupby('field6_mix_field12')[col].transform('mean')\n",
        "    #     all_df[col+'_mean_div_enc_field6_12'] = all_df[col+'_mean_div_enc_field6_12']/all_df[col]\n",
        "\n",
        "    # value_counts\n",
        "    fields_for_counts = ['field1', 'field6', 'field12', 'field13', 'field16', 'field22']\n",
        "    for col in fields_for_counts:\n",
        "        all_df[col+'_value_counts'] = all_df.groupby(col)['userid'].transform('count')\n",
        "\n",
        "    # groupby по месяцу, году и дню недели покупки ()\n",
        "    # fields_for_mean = ['field1_1', 'field14_1', 'field22', 'field6', 'field13', 'field15']\n",
        "    # fields_for_mean = ['indicator_goal22', 'indicator_goal23', 'indicator_goal24', 'indicator_goal25']\n",
        "    # for col in fields_for_mean:\n",
        "    #     all_df[col+'_mean_time_buy'] = all_df.groupby(['field2', 'field18', 'field21'])[col].transform('mean')\n",
        "    #     all_df[col+'_mean_time_buy_div'] = all_df[col+'_mean_time_buy']/all_df[col]\n",
        "\n",
        "    # groupby по часу и дню недели отлета\n",
        "    # fields_for_mean = ['field1_1', 'field14_1', 'field22', 'field6', 'field13', 'field15']\n",
        "    # fields_for_mean = ['indicator_goal22', 'indicator_goal23', 'indicator_goal24', 'indicator_goal25']\n",
        "    # for col in fields_for_mean:\n",
        "    #     all_df[col+'_mean_time_fly'] = all_df.groupby(['field3', 'field20', 'field23'])[col].transform('mean')\n",
        "    #     all_df[col+'_std_time_fly'] = all_df.groupby(['field3', 'field20', 'field23'])[col].transform('std')\n",
        "    #     all_df[col+'_mean_time_fly_div'] = all_df[col+'_mean_time_fly']/all_df[col]\n",
        "\n",
        "    # groupby по количеству билетов и field14\n",
        "    fields_for_mean = ['field1_1', 'field22', 'field6', 'field13', 'field15', 'field17', 'field26', \n",
        "                       'indicator_goal21', 'indicator_goal22', 'indicator_goal23', 'indicator_goal24', 'indicator_goal25']\n",
        "    for col in fields_for_mean:\n",
        "        all_df[col+'_mean_tickets'] = all_df.groupby(['field15', 'field14'])[col].transform('mean')\n",
        "        all_df[col+'_mean_tickets_div'] = all_df[col+'_mean_tickets']/all_df[col]\n",
        "\n",
        "    all_df['tickets_grown_perc'] = all_df['field24']/all_df['field15']\n",
        "    all_df['price_of_tickects'] = all_df['field1_1']/all_df['field15']\n",
        "    all_df['tickets_child_perc'] = (all_df['field28'])/all_df['field15']\n",
        "\n",
        "    all_df = get_add_encode_mean(all_df)\n",
        "    all_df = get_encode_prices_mean(all_df)\n",
        "    \n",
        "\n",
        "    # all_df = all_mix_up(all_df, cols_to_mix)\n",
        "\n",
        "    return all_df[all_df.userid.isin(train_df.userid.unique())], all_df[all_df.userid.isin(test_df.userid.unique())]\n",
        "\n",
        "\n",
        "def all_mix_up(all_df, cols_to_mix):\n",
        "    n = 0\n",
        "    for i in range(len(cols_to_mix)):\n",
        "        for j in range(i+1, len(cols_to_mix)):\n",
        "            c1 = cols_to_mix[i]\n",
        "            c2 = cols_to_mix[j]\n",
        "            new_col_name = c1 + '_mix_' + c2\n",
        "            all_df[new_col_name] = all_df[c1].astype(str) + all_df[c2].astype(str)\n",
        "            all_df[new_col_name] = all_df.groupby(new_col_name)['orderid'].transform('count')\n",
        "            n+=1\n",
        "        \n",
        "        print(f'col {cols_to_mix[i]} done num of feats {n}')\n",
        "    return all_df\n",
        "\n",
        "def mix_up_part_2(train_df, test_df, cols_1, cols_2):\n",
        "    all_df = pd.concat([train_df, test_df], ignore_index=True)\n",
        "    for i in tqdm_notebook(range(len(cols_1))):\n",
        "        for j in tqdm_notebook(range(len(cols_2)), leave=False):\n",
        "            c1 = cols_1[i]\n",
        "            c2 = cols_2[j]\n",
        "            if c1!=c2:\n",
        "                new_col_name = c1 + '_newmix_' + c2\n",
        "                all_df[new_col_name] = all_df[c1].astype(str) + all_df[c2].astype(str)\n",
        "                all_df[new_col_name] = all_df.groupby(new_col_name)['orderid'].transform('count')\n",
        "    return all_df[all_df.userid.isin(train_df.userid.unique())], all_df[all_df.userid.isin(test_df.userid.unique())] \n",
        "\n",
        "\n",
        "def get_add_encode_mean(all_df):\n",
        "    features_to_encode = ['field1', 'field14', 'field25', 'field26', 'field27']\n",
        "    features_by_encode = ['field1', 'field14', 'field25', 'field26', 'field27', 'field4']\n",
        "    for feat_by in tqdm_notebook(features_by_encode):\n",
        "        for feat_to in features_to_encode:\n",
        "            if feat_to != feat_by:\n",
        "                all_df[feat_to+'_mean_encode_' + feat_by] = all_df.groupby(feat_by)[feat_to].transform('mean')\n",
        "                all_df[feat_to+'_mean_encode_' + feat_by+'_div'] = all_df[feat_to]/all_df[feat_to+'_mean_encode_' + feat_by]\n",
        "    return all_df\n",
        "\n",
        "def get_encode_prices_mean(all_df):\n",
        "    features_by_encode = copy.copy(features['fields_cols']) + features['ind_cols']\n",
        "    features_by_encode.remove('field1_1')\n",
        "    features_by_encode.remove('field14_1')\n",
        "    features_to_encode = ['field1', 'field14', 'field27', 'field16', 'field12']\n",
        "    for feat_by in tqdm_notebook(features_by_encode):\n",
        "        for feat_to in features_to_encode:\n",
        "            new_col = feat_to+'_mean_encode_' + feat_by\n",
        "            if feat_to != feat_by and new_col not in all_df.columns :\n",
        "                all_df[new_col] = all_df.groupby(feat_by)[feat_to].transform('mean')\n",
        "                all_df[new_col+'_div'] = all_df[feat_to]/all_df[new_col]\n",
        "    return all_df"
      ],
      "execution_count": 0,
      "outputs": []
    },
    {
      "cell_type": "code",
      "metadata": {
        "id": "HHcb2VhUcOtH",
        "colab_type": "code",
        "colab": {}
      },
      "source": [
        "# df_train, df_test = make_encoding_great_again(df_train, df_test)"
      ],
      "execution_count": 0,
      "outputs": []
    },
    {
      "cell_type": "code",
      "metadata": {
        "id": "sY6SmcxUk7qh",
        "colab_type": "code",
        "outputId": "8dab5e6c-b9ef-4055-cb5b-83e230302213",
        "colab": {
          "base_uri": "https://localhost:8080/",
          "height": 114,
          "referenced_widgets": [
            "ecd8aab149cf4cff991fba69923dc639",
            "690e9a69c63f48b58d0e4812923f1e53",
            "bd2eb5b70a4c4744b42a3682d5fe0891",
            "1661b6a1c83b4bddb2aba7aad727dd9f",
            "2fe12772d71d4176a832d5dc4362105d",
            "293db8f0277342469fa612edbace1f38",
            "b2aadf8008a845b394678ffb68326fe6",
            "3df1f49aa51f4bc88e00c89bb8cc418d",
            "287e4baeb992492e907db14f747d7fbd",
            "6c73c9f904124aa39c8e142bc30e834f",
            "d97e858c834f4369a2f22ed5ad515cd0",
            "0011f291971b435595607bd859f622ce",
            "3604c69425b746c58b4a976e159cf7f8",
            "c7bfa0334dba462ebd47e15b416ec4de",
            "d2dc63ce1a6e4e9e8156137e2a07562d",
            "2767e89f5e994da4a1a4c519584f2083"
          ]
        }
      },
      "source": [
        "df_train, df_test = get_encode_features(df_train, df_test, [])"
      ],
      "execution_count": 0,
      "outputs": [
        {
          "output_type": "display_data",
          "data": {
            "application/vnd.jupyter.widget-view+json": {
              "model_id": "ecd8aab149cf4cff991fba69923dc639",
              "version_minor": 0,
              "version_major": 2
            },
            "text/plain": [
              "HBox(children=(IntProgress(value=0, max=6), HTML(value='')))"
            ]
          },
          "metadata": {
            "tags": []
          }
        },
        {
          "output_type": "stream",
          "text": [
            "\n"
          ],
          "name": "stdout"
        },
        {
          "output_type": "display_data",
          "data": {
            "application/vnd.jupyter.widget-view+json": {
              "model_id": "287e4baeb992492e907db14f747d7fbd",
              "version_minor": 0,
              "version_major": 2
            },
            "text/plain": [
              "HBox(children=(IntProgress(value=0, max=35), HTML(value='')))"
            ]
          },
          "metadata": {
            "tags": []
          }
        },
        {
          "output_type": "stream",
          "text": [
            "\n"
          ],
          "name": "stdout"
        }
      ]
    },
    {
      "cell_type": "code",
      "metadata": {
        "id": "_oaDAdEMcNc5",
        "colab_type": "code",
        "colab": {}
      },
      "source": [
        ""
      ],
      "execution_count": 0,
      "outputs": []
    },
    {
      "cell_type": "code",
      "metadata": {
        "id": "JOQ1aNtMaxaT",
        "colab_type": "code",
        "colab": {}
      },
      "source": [
        "# a = copy.copy(features['fields_cols'])\n",
        "# a.remove('field6')\n",
        "# a.remove('field14')\n",
        "# df_train, df_test = mix_up_part_2(df_train, df_test, ['field6_mix_field14'], a)"
      ],
      "execution_count": 0,
      "outputs": []
    },
    {
      "cell_type": "code",
      "metadata": {
        "id": "Zraws6SHk7z3",
        "colab_type": "code",
        "colab": {}
      },
      "source": [
        "# Фичи Марка (не работают)\n",
        "# df_train['field2_mdiv_field12'] = (df_train['field2']/df_train['field12']).round(3)\n",
        "# df_test['field2_mdiv_field12'] = (df_test['field2']/df_test['field12']).round(3)\n",
        "\n",
        "# df_train['field3_mdiv_field18'] = df_train['field3']/df_train['field18']\n",
        "# df_test['field3_mdiv_field18'] = df_test['field3']/df_test['field18']\n",
        "\n",
        "# df_train['field2_mdiv_field14'] = df_train['field2']/df_train['field14']\n",
        "# df_test['field2_mdiv_field14'] = df_test['field2']/df_test['field14']\n",
        "\n",
        "# df_train['field13_mdiv_field4'] = df_train['field13']/df_train['field4']\n",
        "# df_test['field13_mdiv_field4'] = df_test['field13']/df_test['field4']\n",
        "\n",
        "# df_train['field2_mdiv_field20'] = df_train['field2']/df_train['field20']\n",
        "# df_test['field2_mdiv_field20'] = df_test['field2']/df_test['field20']\n",
        "\n",
        "# df_train['field22_mdiv_field29'] = df_train['field22']/df_train['field29']\n",
        "# df_test['field22_mdiv_field29'] = df_test['field22']/df_test['field29']\n",
        "\n",
        "# df_train['field25_mdiv_field12'] = df_train['field25']/df_train['field12']\n",
        "# df_test['field25_mdiv_field12'] = df_test['field25']/df_test['field12']"
      ],
      "execution_count": 0,
      "outputs": []
    },
    {
      "cell_type": "code",
      "metadata": {
        "id": "3N1JVu84XsS_",
        "colab_type": "code",
        "colab": {}
      },
      "source": [
        "# фичи с индикаторами и userid\n",
        "# не работает!(( и очень долго считается (16 минут цикл)\n",
        "# работают для первой задачи! не работают для второй\n",
        "\n",
        "# indicators = copy.copy(features['ind_cols'])\n",
        "# indicators.remove('indicator_goal21')\n",
        "# for ind_col in tqdm_notebook(indicators):\n",
        "    \n",
        "#     df_train[ind_col + '_mean_userid'] = df_train[['userid', ind_col]].groupby('userid').transform('mean')\n",
        "#     df_test[ind_col + '_mean_userid'] = df_test[['userid', ind_col]].groupby('userid').transform('mean')\n",
        "\n",
        "#     df_train[ind_col + '_rolling_3_mean_userid'] = df_train[['userid', ind_col]].groupby('userid')[ind_col].rolling(3, min_periods=2).mean().reset_index(0,drop=True)\n",
        "#     df_test[ind_col + '_rolling_3_mean_userid'] = df_test[['userid', ind_col]].groupby('userid')[ind_col].rolling(3, min_periods=2).mean().reset_index(0,drop=True)\n",
        "\n",
        "#     df_train[ind_col + '_rolling_3_mean_shift_userid'] = df_train[['userid', ind_col]].groupby('userid')[ind_col].shift().rolling(3, min_periods=1).mean().reset_index(0,drop=True)\n",
        "#     df_test[ind_col + '_rolling_3_mean_shift_userid'] = df_test[['userid', ind_col]].groupby('userid')[ind_col].shift().rolling(3, min_periods=1).mean().reset_index(0,drop=True)\n",
        "#     gc.collect()"
      ],
      "execution_count": 0,
      "outputs": []
    },
    {
      "cell_type": "code",
      "metadata": {
        "id": "8YU2HsZLk725",
        "colab_type": "code",
        "colab": {}
      },
      "source": [
        "df_train = df_train.replace([np.inf, -np.inf], -9999)\n",
        "df_train = df_train.fillna(-999)\n",
        "\n",
        "df_test = df_test.replace([np.inf, -np.inf], -9999)\n",
        "df_test = df_test.fillna(-999)"
      ],
      "execution_count": 0,
      "outputs": []
    },
    {
      "cell_type": "code",
      "metadata": {
        "id": "ZlUGhzWnk78M",
        "colab_type": "code",
        "outputId": "5f9e127a-fa8b-49f2-996f-305915b022f5",
        "colab": {
          "base_uri": "https://localhost:8080/",
          "height": 34
        }
      },
      "source": [
        "gc.collect()"
      ],
      "execution_count": 0,
      "outputs": [
        {
          "output_type": "execute_result",
          "data": {
            "text/plain": [
              "0"
            ]
          },
          "metadata": {
            "tags": []
          },
          "execution_count": 22
        }
      ]
    },
    {
      "cell_type": "code",
      "metadata": {
        "id": "_gLTZlIJk7_g",
        "colab_type": "code",
        "colab": {}
      },
      "source": [
        ""
      ],
      "execution_count": 0,
      "outputs": []
    },
    {
      "cell_type": "code",
      "metadata": {
        "id": "OIaUeJhrk76R",
        "colab_type": "code",
        "colab": {}
      },
      "source": [
        ""
      ],
      "execution_count": 0,
      "outputs": []
    },
    {
      "cell_type": "code",
      "metadata": {
        "id": "AWTivIBjk7uL",
        "colab_type": "code",
        "colab": {}
      },
      "source": [
        ""
      ],
      "execution_count": 0,
      "outputs": []
    },
    {
      "cell_type": "markdown",
      "metadata": {
        "id": "Mwx5mYyVIzfx",
        "colab_type": "text"
      },
      "source": [
        "### Валидация"
      ]
    },
    {
      "cell_type": "code",
      "metadata": {
        "id": "2r6_GgmNcOv8",
        "colab_type": "code",
        "colab": {}
      },
      "source": [
        "# new_enc_cols = list(filter(lambda x: '_mean_enc_' in x, df_train.columns))\n",
        "# new_div_cols = list(filter(lambda x: '_mean_div_enc_' in x, df_train.columns))\n",
        "# new_mix_cols = list(filter(lambda x: '_newmix_' in x , df_train.columns))\n",
        "# new_mark_cols = list(filter(lambda x: 'mdiv' in x , df_train.columns))\n",
        "# new_ind_rol_cols = list(filter(lambda x: 'indicator' in x and 'rolling' in x , df_train.columns))\n",
        "# new_ind_mean_cols = list(filter(lambda x: 'indicator' in x and 'mean' in x , df_train.columns))\n",
        "new_div_enc_cols = list(filter(lambda x: '_mean_div_enc_' in x , df_train.columns))\n",
        "new_count_cols = list(filter(lambda x: '_value_counts' in x , df_train.columns))\n",
        "new_time_groupby_cols = list(filter(lambda x: '_mean_time_buy' in x or '_time_fly' in x, df_train.columns))\n",
        "new_tickets_cols = list(filter(lambda x:  'tickets' in x, df_train.columns))\n",
        "mean_encode_cols = list(filter(lambda x: 'mean_encode' in x, df_train.columns))"
      ],
      "execution_count": 0,
      "outputs": []
    },
    {
      "cell_type": "code",
      "metadata": {
        "id": "NmdgyplbqT17",
        "colab_type": "code",
        "outputId": "de2c0ae1-b269-4290-afa9-066edbc92c03",
        "colab": {
          "base_uri": "https://localhost:8080/",
          "height": 1000
        }
      },
      "source": [
        "mean_encode_cols"
      ],
      "execution_count": 0,
      "outputs": [
        {
          "output_type": "execute_result",
          "data": {
            "text/html": [
              "['field14_mean_encode_field1', 'field14_mean_encode_field1_div', 'field25_mean_encode_field1', 'field25_mean_encode_field1_div', 'field26_mean_encode_field1', 'field26_mean_encode_field1_div', 'field27_mean_encode_field1', 'field27_mean_encode_field1_div', 'field1_mean_encode_field14', 'field1_mean_encode_field14_div', 'field25_mean_encode_field14', 'field25_mean_encode_field14_div', 'field26_mean_encode_field14', 'field26_mean_encode_field14_div', 'field27_mean_encode_field14', 'field27_mean_encode_field14_div', 'field1_mean_encode_field25', 'field1_mean_encode_field25_div', 'field14_mean_encode_field25', 'field14_mean_encode_field25_div', 'field26_mean_encode_field25', 'field26_mean_encode_field25_div', 'field27_mean_encode_field25', 'field27_mean_encode_field25_div', 'field1_mean_encode_field26', 'field1_mean_encode_field26_div', 'field14_mean_encode_field26', 'field14_mean_encode_field26_div', 'field25_mean_encode_field26', 'field25_mean_encode_field26_div', 'field27_mean_encode_field26', 'field27_mean_encode_field26_div', 'field1_mean_encode_field27', 'field1_mean_encode_field27_div', 'field14_mean_encode_field27', 'field14_mean_encode_field27_div', 'field25_mean_encode_field27', 'field25_mean_encode_field27_div', 'field26_mean_encode_field27', 'field26_mean_encode_field27_div', 'field1_mean_encode_field4', 'field1_mean_encode_field4_div', 'field14_mean_encode_field4', 'field14_mean_encode_field4_div', 'field25_mean_encode_field4', 'field25_mean_encode_field4_div', 'field26_mean_encode_field4', 'field26_mean_encode_field4_div', 'field27_mean_encode_field4', 'field27_mean_encode_field4_div', 'field1_mean_encode_field0', 'field1_mean_encode_field0_div', 'field14_mean_encode_field0', 'field14_mean_encode_field0_div', 'field27_mean_encode_field0', 'field27_mean_encode_field0_div', 'field16_mean_encode_field0', 'field16_mean_encode_field0_div', 'field12_mean_encode_field0', 'field12_mean_encode_field0_div', 'field16_mean_encode_field1', 'field16_mean_encode_field1_div', 'field12_mean_encode_field1', 'field12_mean_encode_field1_div', 'field1_mean_encode_field2', 'field1_mean_encode_field2_div', 'field14_mean_encode_field2', 'field14_mean_encode_field2_div', 'field27_mean_encode_field2', 'field27_mean_encode_field2_div', 'field16_mean_encode_field2', 'field16_mean_encode_field2_div', 'field12_mean_encode_field2', 'field12_mean_encode_field2_div', 'field1_mean_encode_field3', 'field1_mean_encode_field3_div', 'field14_mean_encode_field3', 'field14_mean_encode_field3_div', 'field27_mean_encode_field3', 'field27_mean_encode_field3_div', 'field16_mean_encode_field3', 'field16_mean_encode_field3_div', 'field12_mean_encode_field3', 'field12_mean_encode_field3_div', 'field16_mean_encode_field4', 'field16_mean_encode_field4_div', 'field12_mean_encode_field4', 'field12_mean_encode_field4_div', 'field1_mean_encode_field5', 'field1_mean_encode_field5_div', 'field14_mean_encode_field5', 'field14_mean_encode_field5_div', 'field27_mean_encode_field5', 'field27_mean_encode_field5_div', 'field16_mean_encode_field5', 'field16_mean_encode_field5_div', 'field12_mean_encode_field5', 'field12_mean_encode_field5_div', 'field1_mean_encode_field6', 'field1_mean_encode_field6_div', 'field14_mean_encode_field6', 'field14_mean_encode_field6_div', 'field27_mean_encode_field6', 'field27_mean_encode_field6_div', 'field16_mean_encode_field6', 'field16_mean_encode_field6_div', 'field12_mean_encode_field6', 'field12_mean_encode_field6_div', 'field1_mean_encode_field7', 'field1_mean_encode_field7_div', 'field14_mean_encode_field7', 'field14_mean_encode_field7_div', 'field27_mean_encode_field7', 'field27_mean_encode_field7_div', 'field16_mean_encode_field7', 'field16_mean_encode_field7_div', 'field12_mean_encode_field7', 'field12_mean_encode_field7_div', 'field1_mean_encode_field8', 'field1_mean_encode_field8_div', 'field14_mean_encode_field8', 'field14_mean_encode_field8_div', 'field27_mean_encode_field8', 'field27_mean_encode_field8_div', 'field16_mean_encode_field8', 'field16_mean_encode_field8_div', 'field12_mean_encode_field8', 'field12_mean_encode_field8_div', 'field1_mean_encode_field9', 'field1_mean_encode_field9_div', 'field14_mean_encode_field9', 'field14_mean_encode_field9_div', 'field27_mean_encode_field9', 'field27_mean_encode_field9_div', 'field16_mean_encode_field9', 'field16_mean_encode_field9_div', 'field12_mean_encode_field9', 'field12_mean_encode_field9_div', 'field1_mean_encode_field10', 'field1_mean_encode_field10_div', 'field14_mean_encode_field10', 'field14_mean_encode_field10_div', 'field27_mean_encode_field10', 'field27_mean_encode_field10_div', 'field16_mean_encode_field10', 'field16_mean_encode_field10_div', 'field12_mean_encode_field10', 'field12_mean_encode_field10_div', 'field1_mean_encode_field11', 'field1_mean_encode_field11_div', 'field14_mean_encode_field11', 'field14_mean_encode_field11_div', 'field27_mean_encode_field11', 'field27_mean_encode_field11_div', 'field16_mean_encode_field11', 'field16_mean_encode_field11_div', 'field12_mean_encode_field11', 'field12_mean_encode_field11_div', 'field1_mean_encode_field12', 'field1_mean_encode_field12_div', 'field14_mean_encode_field12', 'field14_mean_encode_field12_div', 'field27_mean_encode_field12', 'field27_mean_encode_field12_div', 'field16_mean_encode_field12', 'field16_mean_encode_field12_div', 'field1_mean_encode_field13', 'field1_mean_encode_field13_div', 'field14_mean_encode_field13', 'field14_mean_encode_field13_div', 'field27_mean_encode_field13', 'field27_mean_encode_field13_div', 'field16_mean_encode_field13', 'field16_mean_encode_field13_div', 'field12_mean_encode_field13', 'field12_mean_encode_field13_div', 'field16_mean_encode_field14', 'field16_mean_encode_field14_div', 'field12_mean_encode_field14', 'field12_mean_encode_field14_div', 'field1_mean_encode_field15', 'field1_mean_encode_field15_div', 'field14_mean_encode_field15', 'field14_mean_encode_field15_div', 'field27_mean_encode_field15', 'field27_mean_encode_field15_div', 'field16_mean_encode_field15', 'field16_mean_encode_field15_div', 'field12_mean_encode_field15', 'field12_mean_encode_field15_div', 'field1_mean_encode_field16', 'field1_mean_encode_field16_div', 'field14_mean_encode_field16', 'field14_mean_encode_field16_div', 'field27_mean_encode_field16', 'field27_mean_encode_field16_div', 'field12_mean_encode_field16', 'field12_mean_encode_field16_div', 'field1_mean_encode_field17', 'field1_mean_encode_field17_div', 'field14_mean_encode_field17', 'field14_mean_encode_field17_div', 'field27_mean_encode_field17', 'field27_mean_encode_field17_div', 'field16_mean_encode_field17', 'field16_mean_encode_field17_div', 'field12_mean_encode_field17', 'field12_mean_encode_field17_div', 'field1_mean_encode_field18', 'field1_mean_encode_field18_div', 'field14_mean_encode_field18', 'field14_mean_encode_field18_div', 'field27_mean_encode_field18', 'field27_mean_encode_field18_div', 'field16_mean_encode_field18', 'field16_mean_encode_field18_div', 'field12_mean_encode_field18', 'field12_mean_encode_field18_div', 'field1_mean_encode_field19', 'field1_mean_encode_field19_div', 'field14_mean_encode_field19', 'field14_mean_encode_field19_div', 'field27_mean_encode_field19', 'field27_mean_encode_field19_div', 'field16_mean_encode_field19', 'field16_mean_encode_field19_div', 'field12_mean_encode_field19', 'field12_mean_encode_field19_div', 'field1_mean_encode_field20', 'field1_mean_encode_field20_div', 'field14_mean_encode_field20', 'field14_mean_encode_field20_div', 'field27_mean_encode_field20', 'field27_mean_encode_field20_div', 'field16_mean_encode_field20', 'field16_mean_encode_field20_div', 'field12_mean_encode_field20', 'field12_mean_encode_field20_div', 'field1_mean_encode_field21', 'field1_mean_encode_field21_div', 'field14_mean_encode_field21', 'field14_mean_encode_field21_div', 'field27_mean_encode_field21', 'field27_mean_encode_field21_div', 'field16_mean_encode_field21', 'field16_mean_encode_field21_div', 'field12_mean_encode_field21', 'field12_mean_encode_field21_div', 'field1_mean_encode_field22', 'field1_mean_encode_field22_div', 'field14_mean_encode_field22', 'field14_mean_encode_field22_div', 'field27_mean_encode_field22', 'field27_mean_encode_field22_div', 'field16_mean_encode_field22', 'field16_mean_encode_field22_div', 'field12_mean_encode_field22', 'field12_mean_encode_field22_div', 'field1_mean_encode_field23', 'field1_mean_encode_field23_div', 'field14_mean_encode_field23', 'field14_mean_encode_field23_div', 'field27_mean_encode_field23', 'field27_mean_encode_field23_div', 'field16_mean_encode_field23', 'field16_mean_encode_field23_div', 'field12_mean_encode_field23', 'field12_mean_encode_field23_div', 'field1_mean_encode_field24', 'field1_mean_encode_field24_div', 'field14_mean_encode_field24', 'field14_mean_encode_field24_div', 'field27_mean_encode_field24', 'field27_mean_encode_field24_div', 'field16_mean_encode_field24', 'field16_mean_encode_field24_div', 'field12_mean_encode_field24', 'field12_mean_encode_field24_div', 'field16_mean_encode_field25', 'field16_mean_encode_field25_div', 'field12_mean_encode_field25', 'field12_mean_encode_field25_div', 'field16_mean_encode_field26', 'field16_mean_encode_field26_div', 'field12_mean_encode_field26', 'field12_mean_encode_field26_div', 'field16_mean_encode_field27', 'field16_mean_encode_field27_div', 'field12_mean_encode_field27', 'field12_mean_encode_field27_div', 'field1_mean_encode_field28', 'field1_mean_encode_field28_div', 'field14_mean_encode_field28', 'field14_mean_encode_field28_div', 'field27_mean_encode_field28', 'field27_mean_encode_field28_div', 'field16_mean_encode_field28', 'field16_mean_encode_field28_div', 'field12_mean_encode_field28', 'field12_mean_encode_field28_div', 'field1_mean_encode_field29', 'field1_mean_encode_field29_div', 'field14_mean_encode_field29', 'field14_mean_encode_field29_div', 'field27_mean_encode_field29', 'field27_mean_encode_field29_div', 'field16_mean_encode_field29', 'field16_mean_encode_field29_div', 'field12_mean_encode_field29', 'field12_mean_encode_field29_div', 'field1_mean_encode_indicator_goal21', 'field1_mean_encode_indicator_goal21_div', 'field14_mean_encode_indicator_goal21', 'field14_mean_encode_indicator_goal21_div', 'field27_mean_encode_indicator_goal21', 'field27_mean_encode_indicator_goal21_div', 'field16_mean_encode_indicator_goal21', 'field16_mean_encode_indicator_goal21_div', 'field12_mean_encode_indicator_goal21', 'field12_mean_encode_indicator_goal21_div', 'field1_mean_encode_indicator_goal22', 'field1_mean_encode_indicator_goal22_div', 'field14_mean_encode_indicator_goal22', 'field14_mean_encode_indicator_goal22_div', 'field27_mean_encode_indicator_goal22', 'field27_mean_encode_indicator_goal22_div', 'field16_mean_encode_indicator_goal22', 'field16_mean_encode_indicator_goal22_div', 'field12_mean_encode_indicator_goal22', 'field12_mean_encode_indicator_goal22_div', 'field1_mean_encode_indicator_goal23', 'field1_mean_encode_indicator_goal23_div', 'field14_mean_encode_indicator_goal23', 'field14_mean_encode_indicator_goal23_div', 'field27_mean_encode_indicator_goal23', 'field27_mean_encode_indicator_goal23_div', 'field16_mean_encode_indicator_goal23', 'field16_mean_encode_indicator_goal23_div', 'field12_mean_encode_indicator_goal23', 'field12_mean_encode_indicator_goal23_div', 'field1_mean_encode_indicator_goal24', 'field1_mean_encode_indicator_goal24_div', 'field14_mean_encode_indicator_goal24', 'field14_mean_encode_indicator_goal24_div', 'field27_mean_encode_indicator_goal24', 'field27_mean_encode_indicator_goal24_div', 'field16_mean_encode_indicator_goal24', 'field16_mean_encode_indicator_goal24_div', 'field12_mean_encode_indicator_goal24', 'field12_mean_encode_indicator_goal24_div', 'field1_mean_encode_indicator_goal25', 'field1_mean_encode_indicator_goal25_div', 'field14_mean_encode_indicator_goal25', 'field14_mean_encode_indicator_goal25_div', 'field27_mean_encode_indicator_goal25', 'field27_mean_encode_indicator_goal25_div', 'field16_mean_encode_indicator_goal25', 'field16_mean_encode_indicator_goal25_div', 'field12_mean_encode_indicator_goal25', 'field12_mean_encode_indicator_goal25_div']"
            ],
            "text/plain": [
              "['field14_mean_encode_field1',\n",
              " 'field14_mean_encode_field1_div',\n",
              " 'field25_mean_encode_field1',\n",
              " 'field25_mean_encode_field1_div',\n",
              " 'field26_mean_encode_field1',\n",
              " 'field26_mean_encode_field1_div',\n",
              " 'field27_mean_encode_field1',\n",
              " 'field27_mean_encode_field1_div',\n",
              " 'field1_mean_encode_field14',\n",
              " 'field1_mean_encode_field14_div',\n",
              " 'field25_mean_encode_field14',\n",
              " 'field25_mean_encode_field14_div',\n",
              " 'field26_mean_encode_field14',\n",
              " 'field26_mean_encode_field14_div',\n",
              " 'field27_mean_encode_field14',\n",
              " 'field27_mean_encode_field14_div',\n",
              " 'field1_mean_encode_field25',\n",
              " 'field1_mean_encode_field25_div',\n",
              " 'field14_mean_encode_field25',\n",
              " 'field14_mean_encode_field25_div',\n",
              " 'field26_mean_encode_field25',\n",
              " 'field26_mean_encode_field25_div',\n",
              " 'field27_mean_encode_field25',\n",
              " 'field27_mean_encode_field25_div',\n",
              " 'field1_mean_encode_field26',\n",
              " 'field1_mean_encode_field26_div',\n",
              " 'field14_mean_encode_field26',\n",
              " 'field14_mean_encode_field26_div',\n",
              " 'field25_mean_encode_field26',\n",
              " 'field25_mean_encode_field26_div',\n",
              " 'field27_mean_encode_field26',\n",
              " 'field27_mean_encode_field26_div',\n",
              " 'field1_mean_encode_field27',\n",
              " 'field1_mean_encode_field27_div',\n",
              " 'field14_mean_encode_field27',\n",
              " 'field14_mean_encode_field27_div',\n",
              " 'field25_mean_encode_field27',\n",
              " 'field25_mean_encode_field27_div',\n",
              " 'field26_mean_encode_field27',\n",
              " 'field26_mean_encode_field27_div',\n",
              " 'field1_mean_encode_field4',\n",
              " 'field1_mean_encode_field4_div',\n",
              " 'field14_mean_encode_field4',\n",
              " 'field14_mean_encode_field4_div',\n",
              " 'field25_mean_encode_field4',\n",
              " 'field25_mean_encode_field4_div',\n",
              " 'field26_mean_encode_field4',\n",
              " 'field26_mean_encode_field4_div',\n",
              " 'field27_mean_encode_field4',\n",
              " 'field27_mean_encode_field4_div',\n",
              " 'field1_mean_encode_field0',\n",
              " 'field1_mean_encode_field0_div',\n",
              " 'field14_mean_encode_field0',\n",
              " 'field14_mean_encode_field0_div',\n",
              " 'field27_mean_encode_field0',\n",
              " 'field27_mean_encode_field0_div',\n",
              " 'field16_mean_encode_field0',\n",
              " 'field16_mean_encode_field0_div',\n",
              " 'field12_mean_encode_field0',\n",
              " 'field12_mean_encode_field0_div',\n",
              " 'field16_mean_encode_field1',\n",
              " 'field16_mean_encode_field1_div',\n",
              " 'field12_mean_encode_field1',\n",
              " 'field12_mean_encode_field1_div',\n",
              " 'field1_mean_encode_field2',\n",
              " 'field1_mean_encode_field2_div',\n",
              " 'field14_mean_encode_field2',\n",
              " 'field14_mean_encode_field2_div',\n",
              " 'field27_mean_encode_field2',\n",
              " 'field27_mean_encode_field2_div',\n",
              " 'field16_mean_encode_field2',\n",
              " 'field16_mean_encode_field2_div',\n",
              " 'field12_mean_encode_field2',\n",
              " 'field12_mean_encode_field2_div',\n",
              " 'field1_mean_encode_field3',\n",
              " 'field1_mean_encode_field3_div',\n",
              " 'field14_mean_encode_field3',\n",
              " 'field14_mean_encode_field3_div',\n",
              " 'field27_mean_encode_field3',\n",
              " 'field27_mean_encode_field3_div',\n",
              " 'field16_mean_encode_field3',\n",
              " 'field16_mean_encode_field3_div',\n",
              " 'field12_mean_encode_field3',\n",
              " 'field12_mean_encode_field3_div',\n",
              " 'field16_mean_encode_field4',\n",
              " 'field16_mean_encode_field4_div',\n",
              " 'field12_mean_encode_field4',\n",
              " 'field12_mean_encode_field4_div',\n",
              " 'field1_mean_encode_field5',\n",
              " 'field1_mean_encode_field5_div',\n",
              " 'field14_mean_encode_field5',\n",
              " 'field14_mean_encode_field5_div',\n",
              " 'field27_mean_encode_field5',\n",
              " 'field27_mean_encode_field5_div',\n",
              " 'field16_mean_encode_field5',\n",
              " 'field16_mean_encode_field5_div',\n",
              " 'field12_mean_encode_field5',\n",
              " 'field12_mean_encode_field5_div',\n",
              " 'field1_mean_encode_field6',\n",
              " 'field1_mean_encode_field6_div',\n",
              " 'field14_mean_encode_field6',\n",
              " 'field14_mean_encode_field6_div',\n",
              " 'field27_mean_encode_field6',\n",
              " 'field27_mean_encode_field6_div',\n",
              " 'field16_mean_encode_field6',\n",
              " 'field16_mean_encode_field6_div',\n",
              " 'field12_mean_encode_field6',\n",
              " 'field12_mean_encode_field6_div',\n",
              " 'field1_mean_encode_field7',\n",
              " 'field1_mean_encode_field7_div',\n",
              " 'field14_mean_encode_field7',\n",
              " 'field14_mean_encode_field7_div',\n",
              " 'field27_mean_encode_field7',\n",
              " 'field27_mean_encode_field7_div',\n",
              " 'field16_mean_encode_field7',\n",
              " 'field16_mean_encode_field7_div',\n",
              " 'field12_mean_encode_field7',\n",
              " 'field12_mean_encode_field7_div',\n",
              " 'field1_mean_encode_field8',\n",
              " 'field1_mean_encode_field8_div',\n",
              " 'field14_mean_encode_field8',\n",
              " 'field14_mean_encode_field8_div',\n",
              " 'field27_mean_encode_field8',\n",
              " 'field27_mean_encode_field8_div',\n",
              " 'field16_mean_encode_field8',\n",
              " 'field16_mean_encode_field8_div',\n",
              " 'field12_mean_encode_field8',\n",
              " 'field12_mean_encode_field8_div',\n",
              " 'field1_mean_encode_field9',\n",
              " 'field1_mean_encode_field9_div',\n",
              " 'field14_mean_encode_field9',\n",
              " 'field14_mean_encode_field9_div',\n",
              " 'field27_mean_encode_field9',\n",
              " 'field27_mean_encode_field9_div',\n",
              " 'field16_mean_encode_field9',\n",
              " 'field16_mean_encode_field9_div',\n",
              " 'field12_mean_encode_field9',\n",
              " 'field12_mean_encode_field9_div',\n",
              " 'field1_mean_encode_field10',\n",
              " 'field1_mean_encode_field10_div',\n",
              " 'field14_mean_encode_field10',\n",
              " 'field14_mean_encode_field10_div',\n",
              " 'field27_mean_encode_field10',\n",
              " 'field27_mean_encode_field10_div',\n",
              " 'field16_mean_encode_field10',\n",
              " 'field16_mean_encode_field10_div',\n",
              " 'field12_mean_encode_field10',\n",
              " 'field12_mean_encode_field10_div',\n",
              " 'field1_mean_encode_field11',\n",
              " 'field1_mean_encode_field11_div',\n",
              " 'field14_mean_encode_field11',\n",
              " 'field14_mean_encode_field11_div',\n",
              " 'field27_mean_encode_field11',\n",
              " 'field27_mean_encode_field11_div',\n",
              " 'field16_mean_encode_field11',\n",
              " 'field16_mean_encode_field11_div',\n",
              " 'field12_mean_encode_field11',\n",
              " 'field12_mean_encode_field11_div',\n",
              " 'field1_mean_encode_field12',\n",
              " 'field1_mean_encode_field12_div',\n",
              " 'field14_mean_encode_field12',\n",
              " 'field14_mean_encode_field12_div',\n",
              " 'field27_mean_encode_field12',\n",
              " 'field27_mean_encode_field12_div',\n",
              " 'field16_mean_encode_field12',\n",
              " 'field16_mean_encode_field12_div',\n",
              " 'field1_mean_encode_field13',\n",
              " 'field1_mean_encode_field13_div',\n",
              " 'field14_mean_encode_field13',\n",
              " 'field14_mean_encode_field13_div',\n",
              " 'field27_mean_encode_field13',\n",
              " 'field27_mean_encode_field13_div',\n",
              " 'field16_mean_encode_field13',\n",
              " 'field16_mean_encode_field13_div',\n",
              " 'field12_mean_encode_field13',\n",
              " 'field12_mean_encode_field13_div',\n",
              " 'field16_mean_encode_field14',\n",
              " 'field16_mean_encode_field14_div',\n",
              " 'field12_mean_encode_field14',\n",
              " 'field12_mean_encode_field14_div',\n",
              " 'field1_mean_encode_field15',\n",
              " 'field1_mean_encode_field15_div',\n",
              " 'field14_mean_encode_field15',\n",
              " 'field14_mean_encode_field15_div',\n",
              " 'field27_mean_encode_field15',\n",
              " 'field27_mean_encode_field15_div',\n",
              " 'field16_mean_encode_field15',\n",
              " 'field16_mean_encode_field15_div',\n",
              " 'field12_mean_encode_field15',\n",
              " 'field12_mean_encode_field15_div',\n",
              " 'field1_mean_encode_field16',\n",
              " 'field1_mean_encode_field16_div',\n",
              " 'field14_mean_encode_field16',\n",
              " 'field14_mean_encode_field16_div',\n",
              " 'field27_mean_encode_field16',\n",
              " 'field27_mean_encode_field16_div',\n",
              " 'field12_mean_encode_field16',\n",
              " 'field12_mean_encode_field16_div',\n",
              " 'field1_mean_encode_field17',\n",
              " 'field1_mean_encode_field17_div',\n",
              " 'field14_mean_encode_field17',\n",
              " 'field14_mean_encode_field17_div',\n",
              " 'field27_mean_encode_field17',\n",
              " 'field27_mean_encode_field17_div',\n",
              " 'field16_mean_encode_field17',\n",
              " 'field16_mean_encode_field17_div',\n",
              " 'field12_mean_encode_field17',\n",
              " 'field12_mean_encode_field17_div',\n",
              " 'field1_mean_encode_field18',\n",
              " 'field1_mean_encode_field18_div',\n",
              " 'field14_mean_encode_field18',\n",
              " 'field14_mean_encode_field18_div',\n",
              " 'field27_mean_encode_field18',\n",
              " 'field27_mean_encode_field18_div',\n",
              " 'field16_mean_encode_field18',\n",
              " 'field16_mean_encode_field18_div',\n",
              " 'field12_mean_encode_field18',\n",
              " 'field12_mean_encode_field18_div',\n",
              " 'field1_mean_encode_field19',\n",
              " 'field1_mean_encode_field19_div',\n",
              " 'field14_mean_encode_field19',\n",
              " 'field14_mean_encode_field19_div',\n",
              " 'field27_mean_encode_field19',\n",
              " 'field27_mean_encode_field19_div',\n",
              " 'field16_mean_encode_field19',\n",
              " 'field16_mean_encode_field19_div',\n",
              " 'field12_mean_encode_field19',\n",
              " 'field12_mean_encode_field19_div',\n",
              " 'field1_mean_encode_field20',\n",
              " 'field1_mean_encode_field20_div',\n",
              " 'field14_mean_encode_field20',\n",
              " 'field14_mean_encode_field20_div',\n",
              " 'field27_mean_encode_field20',\n",
              " 'field27_mean_encode_field20_div',\n",
              " 'field16_mean_encode_field20',\n",
              " 'field16_mean_encode_field20_div',\n",
              " 'field12_mean_encode_field20',\n",
              " 'field12_mean_encode_field20_div',\n",
              " 'field1_mean_encode_field21',\n",
              " 'field1_mean_encode_field21_div',\n",
              " 'field14_mean_encode_field21',\n",
              " 'field14_mean_encode_field21_div',\n",
              " 'field27_mean_encode_field21',\n",
              " 'field27_mean_encode_field21_div',\n",
              " 'field16_mean_encode_field21',\n",
              " 'field16_mean_encode_field21_div',\n",
              " 'field12_mean_encode_field21',\n",
              " 'field12_mean_encode_field21_div',\n",
              " 'field1_mean_encode_field22',\n",
              " 'field1_mean_encode_field22_div',\n",
              " 'field14_mean_encode_field22',\n",
              " 'field14_mean_encode_field22_div',\n",
              " 'field27_mean_encode_field22',\n",
              " 'field27_mean_encode_field22_div',\n",
              " 'field16_mean_encode_field22',\n",
              " 'field16_mean_encode_field22_div',\n",
              " 'field12_mean_encode_field22',\n",
              " 'field12_mean_encode_field22_div',\n",
              " 'field1_mean_encode_field23',\n",
              " 'field1_mean_encode_field23_div',\n",
              " 'field14_mean_encode_field23',\n",
              " 'field14_mean_encode_field23_div',\n",
              " 'field27_mean_encode_field23',\n",
              " 'field27_mean_encode_field23_div',\n",
              " 'field16_mean_encode_field23',\n",
              " 'field16_mean_encode_field23_div',\n",
              " 'field12_mean_encode_field23',\n",
              " 'field12_mean_encode_field23_div',\n",
              " 'field1_mean_encode_field24',\n",
              " 'field1_mean_encode_field24_div',\n",
              " 'field14_mean_encode_field24',\n",
              " 'field14_mean_encode_field24_div',\n",
              " 'field27_mean_encode_field24',\n",
              " 'field27_mean_encode_field24_div',\n",
              " 'field16_mean_encode_field24',\n",
              " 'field16_mean_encode_field24_div',\n",
              " 'field12_mean_encode_field24',\n",
              " 'field12_mean_encode_field24_div',\n",
              " 'field16_mean_encode_field25',\n",
              " 'field16_mean_encode_field25_div',\n",
              " 'field12_mean_encode_field25',\n",
              " 'field12_mean_encode_field25_div',\n",
              " 'field16_mean_encode_field26',\n",
              " 'field16_mean_encode_field26_div',\n",
              " 'field12_mean_encode_field26',\n",
              " 'field12_mean_encode_field26_div',\n",
              " 'field16_mean_encode_field27',\n",
              " 'field16_mean_encode_field27_div',\n",
              " 'field12_mean_encode_field27',\n",
              " 'field12_mean_encode_field27_div',\n",
              " 'field1_mean_encode_field28',\n",
              " 'field1_mean_encode_field28_div',\n",
              " 'field14_mean_encode_field28',\n",
              " 'field14_mean_encode_field28_div',\n",
              " 'field27_mean_encode_field28',\n",
              " 'field27_mean_encode_field28_div',\n",
              " 'field16_mean_encode_field28',\n",
              " 'field16_mean_encode_field28_div',\n",
              " 'field12_mean_encode_field28',\n",
              " 'field12_mean_encode_field28_div',\n",
              " 'field1_mean_encode_field29',\n",
              " 'field1_mean_encode_field29_div',\n",
              " 'field14_mean_encode_field29',\n",
              " 'field14_mean_encode_field29_div',\n",
              " 'field27_mean_encode_field29',\n",
              " 'field27_mean_encode_field29_div',\n",
              " 'field16_mean_encode_field29',\n",
              " 'field16_mean_encode_field29_div',\n",
              " 'field12_mean_encode_field29',\n",
              " 'field12_mean_encode_field29_div',\n",
              " 'field1_mean_encode_indicator_goal21',\n",
              " 'field1_mean_encode_indicator_goal21_div',\n",
              " 'field14_mean_encode_indicator_goal21',\n",
              " 'field14_mean_encode_indicator_goal21_div',\n",
              " 'field27_mean_encode_indicator_goal21',\n",
              " 'field27_mean_encode_indicator_goal21_div',\n",
              " 'field16_mean_encode_indicator_goal21',\n",
              " 'field16_mean_encode_indicator_goal21_div',\n",
              " 'field12_mean_encode_indicator_goal21',\n",
              " 'field12_mean_encode_indicator_goal21_div',\n",
              " 'field1_mean_encode_indicator_goal22',\n",
              " 'field1_mean_encode_indicator_goal22_div',\n",
              " 'field14_mean_encode_indicator_goal22',\n",
              " 'field14_mean_encode_indicator_goal22_div',\n",
              " 'field27_mean_encode_indicator_goal22',\n",
              " 'field27_mean_encode_indicator_goal22_div',\n",
              " 'field16_mean_encode_indicator_goal22',\n",
              " 'field16_mean_encode_indicator_goal22_div',\n",
              " 'field12_mean_encode_indicator_goal22',\n",
              " 'field12_mean_encode_indicator_goal22_div',\n",
              " 'field1_mean_encode_indicator_goal23',\n",
              " 'field1_mean_encode_indicator_goal23_div',\n",
              " 'field14_mean_encode_indicator_goal23',\n",
              " 'field14_mean_encode_indicator_goal23_div',\n",
              " 'field27_mean_encode_indicator_goal23',\n",
              " 'field27_mean_encode_indicator_goal23_div',\n",
              " 'field16_mean_encode_indicator_goal23',\n",
              " 'field16_mean_encode_indicator_goal23_div',\n",
              " 'field12_mean_encode_indicator_goal23',\n",
              " 'field12_mean_encode_indicator_goal23_div',\n",
              " 'field1_mean_encode_indicator_goal24',\n",
              " 'field1_mean_encode_indicator_goal24_div',\n",
              " 'field14_mean_encode_indicator_goal24',\n",
              " 'field14_mean_encode_indicator_goal24_div',\n",
              " 'field27_mean_encode_indicator_goal24',\n",
              " 'field27_mean_encode_indicator_goal24_div',\n",
              " 'field16_mean_encode_indicator_goal24',\n",
              " 'field16_mean_encode_indicator_goal24_div',\n",
              " 'field12_mean_encode_indicator_goal24',\n",
              " 'field12_mean_encode_indicator_goal24_div',\n",
              " 'field1_mean_encode_indicator_goal25',\n",
              " 'field1_mean_encode_indicator_goal25_div',\n",
              " 'field14_mean_encode_indicator_goal25',\n",
              " 'field14_mean_encode_indicator_goal25_div',\n",
              " 'field27_mean_encode_indicator_goal25',\n",
              " 'field27_mean_encode_indicator_goal25_div',\n",
              " 'field16_mean_encode_indicator_goal25',\n",
              " 'field16_mean_encode_indicator_goal25_div',\n",
              " 'field12_mean_encode_indicator_goal25',\n",
              " 'field12_mean_encode_indicator_goal25_div']"
            ]
          },
          "metadata": {
            "tags": []
          },
          "execution_count": 24
        }
      ]
    },
    {
      "cell_type": "code",
      "metadata": {
        "id": "RtMG1SZUp-FV",
        "colab_type": "code",
        "colab": {}
      },
      "source": [
        "np.random.seed(0)"
      ],
      "execution_count": 0,
      "outputs": []
    },
    {
      "cell_type": "code",
      "metadata": {
        "id": "0A6DCBpzcOym",
        "colab_type": "code",
        "colab": {}
      },
      "source": [
        "xgb_cl = xgb.XGBClassifier(random_state=1488)\n",
        "# cat_cl = ctb.CatBoostClassifier(random_state=1488, verbose=False)\n",
        "params = {'colsample_bytree': 0.8856,\n",
        " 'learning_rate': 0.0113,\n",
        " 'max_depth': 5,\n",
        " 'n_estimators': 400,\n",
        " 'num_leaves': 59,\n",
        " 'reg_lambda': 0.1124,\n",
        " 'subsample': 0.599}\n",
        "lgb_cl = lgb.LGBMClassifier(**params, random_state=10, n_jobs=-1)\n",
        "rf = RandomForestClassifier(n_estimators=150, random_state=1488)"
      ],
      "execution_count": 0,
      "outputs": []
    },
    {
      "cell_type": "code",
      "metadata": {
        "id": "Kdi5VbfUIkXo",
        "colab_type": "code",
        "colab": {}
      },
      "source": [
        "# targets = ['goal22']\n",
        "targets = ['goal21', 'goal22', 'goal23', 'goal24', 'goal25']\n",
        "# targets = ['goal21', 'goal22']"
      ],
      "execution_count": 0,
      "outputs": []
    },
    {
      "cell_type": "code",
      "metadata": {
        "id": "UYRi09omcO-T",
        "colab_type": "code",
        "colab": {}
      },
      "source": [
        "models = {\n",
        "    # 'xgb': xgb_cl,\n",
        "    # 'ctb': cat_cl,\n",
        "    'lgb': lgb_cl,\n",
        "    # 'rf': rf\n",
        "}"
      ],
      "execution_count": 0,
      "outputs": []
    },
    {
      "cell_type": "code",
      "metadata": {
        "id": "0enaw9SocPBB",
        "colab_type": "code",
        "colab": {}
      },
      "source": [
        "scores = {}\n",
        "targs = {}\n",
        "for tar in targets:\n",
        "    targs[tar] = []\n",
        "for model in models:\n",
        "    scores[model] = targs"
      ],
      "execution_count": 0,
      "outputs": []
    },
    {
      "cell_type": "code",
      "metadata": {
        "id": "zqRVBSbFJ90X",
        "colab_type": "code",
        "colab": {}
      },
      "source": [
        "cv = GroupKFold(n_splits=3)"
      ],
      "execution_count": 0,
      "outputs": []
    },
    {
      "cell_type": "code",
      "metadata": {
        "id": "4WEjWT7gcPD9",
        "colab_type": "code",
        "colab": {}
      },
      "source": [
        "variable_names = []\n",
        "for key in features.keys():\n",
        "    if key != 'mix_cols':\n",
        "        variable_names += features[key]"
      ],
      "execution_count": 0,
      "outputs": []
    },
    {
      "cell_type": "code",
      "metadata": {
        "id": "0x8W3Z1KcPGp",
        "colab_type": "code",
        "colab": {}
      },
      "source": [
        "variable_names += (new_count_cols + new_tickets_cols+new_time_groupby_cols+mean_encode_cols)"
      ],
      "execution_count": 0,
      "outputs": []
    },
    {
      "cell_type": "code",
      "metadata": {
        "id": "Evh49dVwGaFf",
        "colab_type": "code",
        "outputId": "10223bb8-e572-404f-ced9-f65e590e2f89",
        "colab": {
          "base_uri": "https://localhost:8080/",
          "height": 34
        }
      },
      "source": [
        "len(variable_names)"
      ],
      "execution_count": 0,
      "outputs": [
        {
          "output_type": "execute_result",
          "data": {
            "text/plain": [
              "607"
            ]
          },
          "metadata": {
            "tags": []
          },
          "execution_count": 33
        }
      ]
    },
    {
      "cell_type": "code",
      "metadata": {
        "id": "qG6dKVP7Lf_d",
        "colab_type": "code",
        "colab": {}
      },
      "source": [
        "with open(os.path.join(data_folder, 'mix_best_features.txt'), 'r') as f:\n",
        "    mix_best_features = json.load(f)"
      ],
      "execution_count": 0,
      "outputs": []
    },
    {
      "cell_type": "code",
      "metadata": {
        "id": "rsdLDGZkFYob",
        "colab_type": "code",
        "outputId": "36e1c451-aa01-453c-9fde-1c9d4f6b3b19",
        "colab": {
          "base_uri": "https://localhost:8080/",
          "height": 66,
          "referenced_widgets": [
            "d43636827a0c4af088b1d6ef5b7d0c52",
            "1254ffe3078443558f7963f029d89ead",
            "c8a627877eaf4310bf7e2577d97bab2d",
            "c62a58bf5f774820a051c2ac65805abd",
            "7acab5d6d99843f7a232a30c15824fa7",
            "e34b974fa7f64086b3cdac35abeeda19",
            "0c864b95a73148a6bf9107be89418823",
            "ba7b3a9248034483b800c2e793a9a6df"
          ]
        }
      },
      "source": [
        "for best_ind in tqdm_notebook(mix_best_features['best_mix_inds']):\n",
        "    a = features['mix_cols'][int(best_ind)]\n",
        "    variable_names += [a]\n",
        "    # print(a)"
      ],
      "execution_count": 0,
      "outputs": [
        {
          "output_type": "display_data",
          "data": {
            "application/vnd.jupyter.widget-view+json": {
              "model_id": "d43636827a0c4af088b1d6ef5b7d0c52",
              "version_minor": 0,
              "version_major": 2
            },
            "text/plain": [
              "HBox(children=(IntProgress(value=0, max=174), HTML(value='')))"
            ]
          },
          "metadata": {
            "tags": []
          }
        },
        {
          "output_type": "stream",
          "text": [
            "\n"
          ],
          "name": "stdout"
        }
      ]
    },
    {
      "cell_type": "code",
      "metadata": {
        "id": "D-ENIghRF3Ld",
        "colab_type": "code",
        "outputId": "8990525e-8db2-4475-f015-99dd43097bf7",
        "colab": {
          "base_uri": "https://localhost:8080/",
          "height": 34
        }
      },
      "source": [
        "features['mix_cols'][int(best_ind)]"
      ],
      "execution_count": 0,
      "outputs": [
        {
          "output_type": "execute_result",
          "data": {
            "text/plain": [
              "'field27_mix_field14_1'"
            ]
          },
          "metadata": {
            "tags": []
          },
          "execution_count": 36
        }
      ]
    },
    {
      "cell_type": "code",
      "metadata": {
        "id": "zH27KvXVWHBj",
        "colab_type": "code",
        "colab": {}
      },
      "source": [
        "# variable_names = features['fields_cols'] + features['ind_cols'] + features['just_cols'] + new_count_cols+ features['mix_cols'] + features['dif_cols'] + features['encode_cols'] + features['div_cols'] + new_tickets_cols"
      ],
      "execution_count": 0,
      "outputs": []
    },
    {
      "cell_type": "code",
      "metadata": {
        "id": "HeYSf_5jNaOB",
        "colab_type": "code",
        "outputId": "0d0c63b0-c64a-43fe-98b8-a438874ae1e4",
        "colab": {
          "base_uri": "https://localhost:8080/",
          "height": 34
        }
      },
      "source": [
        "features.keys()"
      ],
      "execution_count": 0,
      "outputs": [
        {
          "output_type": "execute_result",
          "data": {
            "text/plain": [
              "dict_keys(['fields_cols', 'dif_cols', 'shift_cols', 'just_cols', 'ind_cols', 'encode_cols', 'div_cols', 'mix_cols'])"
            ]
          },
          "metadata": {
            "tags": []
          },
          "execution_count": 37
        }
      ]
    },
    {
      "cell_type": "code",
      "metadata": {
        "id": "X6kMUGbolfIF",
        "colab_type": "code",
        "colab": {}
      },
      "source": [
        "# var_names = {\n",
        "#     'goal21' : features['fields_cols'] + features['ind_cols'] + features['just_cols'] + new_count_cols,\n",
        "#     'goal22' : features['fields_cols'] + features['dif_cols'] + features['ind_cols'] + new_count_cols + features['mix_cols'],\n",
        "#     'goal23' : features['fields_cols'] + features['ind_cols'] + features['just_cols'] + new_count_cols + features['mix_cols'],\n",
        "#     'goal24' : features['fields_cols'] + features['ind_cols'] + features['just_cols'] + new_count_cols + features['mix_cols'],\n",
        "#     'goal25' : features['fields_cols'] + features['ind_cols'] + new_count_cols + features['mix_cols']\n",
        "# }"
      ],
      "execution_count": 0,
      "outputs": []
    },
    {
      "cell_type": "code",
      "metadata": {
        "id": "1_BBI6o9qZUi",
        "colab_type": "code",
        "colab": {}
      },
      "source": [
        "# variable_names.remove('field12')\n",
        "# variable_names.remove('field16')\n",
        "# variable_names.remove('field0')"
      ],
      "execution_count": 0,
      "outputs": []
    },
    {
      "cell_type": "code",
      "metadata": {
        "id": "VzlyezXEcPJh",
        "colab_type": "code",
        "outputId": "51e68d78-2329-4b53-dfda-c7cf39b562ab",
        "colab": {
          "base_uri": "https://localhost:8080/",
          "height": 34
        }
      },
      "source": [
        "len(variable_names)"
      ],
      "execution_count": 0,
      "outputs": [
        {
          "output_type": "execute_result",
          "data": {
            "text/plain": [
              "781"
            ]
          },
          "metadata": {
            "tags": []
          },
          "execution_count": 42
        }
      ]
    },
    {
      "cell_type": "markdown",
      "metadata": {
        "id": "xbTohtYhgk4j",
        "colab_type": "text"
      },
      "source": [
        "Гипотезы\n",
        "1. подумать над индикаторами (пока не работают)\n",
        "2. ролинги\n",
        "3. что такое field6? \n",
        "4. следующий уровнеь интеракций\n",
        "5. фичи по времени полета-улета, дситанции и т.д. (осознанные фичи)\n"
      ]
    },
    {
      "cell_type": "code",
      "metadata": {
        "id": "wIw3y4frhjhn",
        "colab_type": "code",
        "colab": {}
      },
      "source": [
        "# df_train.replace({np.inf:-999, -np.inf:-999}, inplace=True)\n",
        "# df_test.replace({np.inf:-999, -np.inf:-999}, inplace=True)"
      ],
      "execution_count": 0,
      "outputs": []
    },
    {
      "cell_type": "code",
      "metadata": {
        "id": "Q71NkyVDf_q3",
        "colab_type": "code",
        "colab": {}
      },
      "source": [
        "# df_train.fillna(-999, inplace=True)\n",
        "# df_test.fillna(-999, inplace=True)"
      ],
      "execution_count": 0,
      "outputs": []
    },
    {
      "cell_type": "code",
      "metadata": {
        "id": "dnVPUCU2n7i2",
        "colab_type": "code",
        "colab": {}
      },
      "source": [
        "# with open(os.path.join(data_folder, 'goal21_top_49_features.txt'), 'r') as f:\n",
        "#     variable_names = json.load(f)\n",
        "# with open(os.path.join(data_folder, 'features_type.txt'), 'r') as f:\n",
        "#     types = json.load(f)"
      ],
      "execution_count": 0,
      "outputs": []
    },
    {
      "cell_type": "code",
      "metadata": {
        "id": "PXkGrxHDtepK",
        "colab_type": "code",
        "outputId": "0563a059-9cf3-43e7-d918-3af3f3f6ffcb",
        "colab": {
          "base_uri": "https://localhost:8080/",
          "height": 34
        }
      },
      "source": [
        "df_train.isnull().sum().sum()"
      ],
      "execution_count": 0,
      "outputs": [
        {
          "output_type": "execute_result",
          "data": {
            "text/plain": [
              "0"
            ]
          },
          "metadata": {
            "tags": []
          },
          "execution_count": 43
        }
      ]
    },
    {
      "cell_type": "code",
      "metadata": {
        "id": "ca4roKyghEfT",
        "colab_type": "code",
        "colab": {}
      },
      "source": [
        ""
      ],
      "execution_count": 0,
      "outputs": []
    },
    {
      "cell_type": "code",
      "metadata": {
        "id": "xVCOAzjVqiji",
        "colab_type": "code",
        "outputId": "640b07e7-0821-41dd-ea31-638572cd9ad6",
        "colab": {
          "base_uri": "https://localhost:8080/",
          "height": 34
        }
      },
      "source": [
        ""
      ],
      "execution_count": 0,
      "outputs": [
        {
          "output_type": "execute_result",
          "data": {
            "text/plain": [
              "((244,), (296,))"
            ]
          },
          "metadata": {
            "tags": []
          },
          "execution_count": 198
        }
      ]
    },
    {
      "cell_type": "code",
      "metadata": {
        "id": "1SS4P_e_Ixkq",
        "colab_type": "code",
        "outputId": "b1df48ac-46b1-4c47-8b3e-9839f5a93eec",
        "colab": {
          "base_uri": "https://localhost:8080/",
          "height": 521
        }
      },
      "source": [
        "i = 0\n",
        "for target in targets:\n",
        "    df_train[target+'_oof'] = 0\n",
        "    for train_index, test_index in cv.split(df_train, np.array(df_train.goal1), df_train.userid):\n",
        "        \n",
        "        train = df_train.iloc[train_index]\n",
        "        # train = train.loc[train.indicator_goal22==1]\n",
        "        test = df_train.iloc[test_index]\n",
        "        i+=1\n",
        "\n",
        "        for model in models:\n",
        "\n",
        "            models[model].fit(train[variable_names], train[target])\n",
        "            preds =  np.array(models[model].predict_proba(test[variable_names])[:,1])\n",
        "            # preds = preds*np.array(test.indicator_goal22)\n",
        "            scr = round(roc_auc_score(test[target], preds),4)\n",
        "\n",
        "            scores[model][target].append(scr)\n",
        "\n",
        "            df_train.loc[df_train.orderid.isin(test.orderid), target+'_oof'] = scr\n",
        "\n",
        "            print(f'Model {model} target {target} on fold {i} has score {scr}')\n",
        "        print('-'*20)"
      ],
      "execution_count": 0,
      "outputs": [
        {
          "output_type": "stream",
          "text": [
            "Model lgb target goal21 on fold 1 has score 0.7093\n",
            "--------------------\n",
            "Model lgb target goal21 on fold 2 has score 0.7266\n",
            "--------------------\n",
            "Model lgb target goal21 on fold 3 has score 0.7183\n",
            "--------------------\n",
            "Model lgb target goal22 on fold 4 has score 0.7184\n",
            "--------------------\n",
            "Model lgb target goal22 on fold 5 has score 0.7282\n",
            "--------------------\n",
            "Model lgb target goal22 on fold 6 has score 0.7272\n",
            "--------------------\n",
            "Model lgb target goal23 on fold 7 has score 0.893\n",
            "--------------------\n",
            "Model lgb target goal23 on fold 8 has score 0.8942\n",
            "--------------------\n",
            "Model lgb target goal23 on fold 9 has score 0.8925\n",
            "--------------------\n",
            "Model lgb target goal24 on fold 10 has score 0.7946\n",
            "--------------------\n",
            "Model lgb target goal24 on fold 11 has score 0.8013\n",
            "--------------------\n",
            "Model lgb target goal24 on fold 12 has score 0.7929\n",
            "--------------------\n",
            "Model lgb target goal25 on fold 13 has score 0.942\n",
            "--------------------\n",
            "Model lgb target goal25 on fold 14 has score 0.9387\n",
            "--------------------\n",
            "Model lgb target goal25 on fold 15 has score 0.9409\n",
            "--------------------\n"
          ],
          "name": "stdout"
        }
      ]
    },
    {
      "cell_type": "markdown",
      "metadata": {
        "id": "GINDk952XyD8",
        "colab_type": "text"
      },
      "source": [
        "1. Model lgb target goal21 on fold 1 has score 0.7083\n",
        "2. Model lgb target goal21 on fold 2 has score 0.7263\n",
        "3. Model lgb target goal21 on fold 3 has score 0.7167\n",
        "4. Model lgb target goal22 on fold 4 has score 0.7175\n",
        "5. Model lgb target goal22 on fold 5 has score 0.7278\n",
        "6. Model lgb target goal22 on fold 6 has score 0.7263\n",
        "7. Model lgb target goal23 on fold 7 has score 0.8903\n",
        "8. Model lgb target goal23 on fold 8 has score 0.8927\n",
        "9. Model lgb target goal23 on fold 9 has score 0.8909\n",
        "10. Model lgb target goal24 on fold 10 has score 0.792\n",
        "11. Model lgb target goal24 on fold 11 has score 0.7998\n",
        "12. Model lgb target goal24 on fold 12 has score 0.789\n",
        "13. Model lgb target goal25 on fold 13 has score 0.9394\n",
        "14. Model lgb target goal25 on fold 14 has score 0.9357\n",
        "15. Model lgb target goal25 on fold 15 has score 0.9387"
      ]
    },
    {
      "cell_type": "code",
      "metadata": {
        "id": "FwRtu4IFIxnb",
        "colab_type": "code",
        "colab": {}
      },
      "source": [
        "  for scr in scores:\n",
        "    for trg in scores[scr]:\n",
        "        print(f'Model {scr} target {trg} mean score {round(np.mean(scores[scr][trg]), 4)}')"
      ],
      "execution_count": 0,
      "outputs": []
    },
    {
      "cell_type": "code",
      "metadata": {
        "id": "-SHxNLIDEs8K",
        "colab_type": "code",
        "colab": {}
      },
      "source": [
        "df_train.rename({'goal21_score':'goal21', 'goal22_score':'goal22', 'goal23_score':'goal23', 'goal24_score':'goal24', 'goal25_score':'goal25'}, axis=1, inplace=True)\n",
        "df_train.rename({'goal21_oof':'goal21_score', 'goal22_oof':'goal22_score', 'goal23_oof':'goal23_score', 'goal24_oof':'goal24_score', 'goal25_oof':'goal25_score'}, axis=1, inplace=True)"
      ],
      "execution_count": 0,
      "outputs": []
    },
    {
      "cell_type": "code",
      "metadata": {
        "id": "-c7G8uiXE51p",
        "colab_type": "code",
        "colab": {}
      },
      "source": [
        "goals = ['goal21', 'goal22', 'goal23', 'goal24', 'goal25']\n",
        "goals_scores = [goal + '_score' for goal in goals]"
      ],
      "execution_count": 0,
      "outputs": []
    },
    {
      "cell_type": "code",
      "metadata": {
        "id": "P-QPPXa7FynK",
        "colab_type": "code",
        "outputId": "bf7385e5-a438-4a91-cf2f-b4fcfd2df98f",
        "colab": {
          "base_uri": "https://localhost:8080/",
          "height": 204
        }
      },
      "source": [
        "df_train[['userid', 'goal1'] + goals_scores + goals].head()"
      ],
      "execution_count": 0,
      "outputs": [
        {
          "output_type": "execute_result",
          "data": {
            "text/html": [
              "<div>\n",
              "<style scoped>\n",
              "    .dataframe tbody tr th:only-of-type {\n",
              "        vertical-align: middle;\n",
              "    }\n",
              "\n",
              "    .dataframe tbody tr th {\n",
              "        vertical-align: top;\n",
              "    }\n",
              "\n",
              "    .dataframe thead th {\n",
              "        text-align: right;\n",
              "    }\n",
              "</style>\n",
              "<table border=\"1\" class=\"dataframe\">\n",
              "  <thead>\n",
              "    <tr style=\"text-align: right;\">\n",
              "      <th></th>\n",
              "      <th>userid</th>\n",
              "      <th>goal1</th>\n",
              "      <th>goal21_score</th>\n",
              "      <th>goal22_score</th>\n",
              "      <th>goal23_score</th>\n",
              "      <th>goal24_score</th>\n",
              "      <th>goal25_score</th>\n",
              "      <th>goal21</th>\n",
              "      <th>goal22</th>\n",
              "      <th>goal23</th>\n",
              "      <th>goal24</th>\n",
              "      <th>goal25</th>\n",
              "    </tr>\n",
              "  </thead>\n",
              "  <tbody>\n",
              "    <tr>\n",
              "      <th>0</th>\n",
              "      <td>0</td>\n",
              "      <td>0.0</td>\n",
              "      <td>0.7167</td>\n",
              "      <td>0.7261</td>\n",
              "      <td>0.8935</td>\n",
              "      <td>0.7899</td>\n",
              "      <td>0.9401</td>\n",
              "      <td>0.0</td>\n",
              "      <td>1.0</td>\n",
              "      <td>0.0</td>\n",
              "      <td>0.0</td>\n",
              "      <td>0.0</td>\n",
              "    </tr>\n",
              "    <tr>\n",
              "      <th>1</th>\n",
              "      <td>1</td>\n",
              "      <td>0.0</td>\n",
              "      <td>0.7167</td>\n",
              "      <td>0.7261</td>\n",
              "      <td>0.8935</td>\n",
              "      <td>0.7899</td>\n",
              "      <td>0.9401</td>\n",
              "      <td>0.0</td>\n",
              "      <td>0.0</td>\n",
              "      <td>0.0</td>\n",
              "      <td>0.0</td>\n",
              "      <td>0.0</td>\n",
              "    </tr>\n",
              "    <tr>\n",
              "      <th>2</th>\n",
              "      <td>1</td>\n",
              "      <td>0.0</td>\n",
              "      <td>0.7167</td>\n",
              "      <td>0.7261</td>\n",
              "      <td>0.8935</td>\n",
              "      <td>0.7899</td>\n",
              "      <td>0.9401</td>\n",
              "      <td>0.0</td>\n",
              "      <td>0.0</td>\n",
              "      <td>0.0</td>\n",
              "      <td>0.0</td>\n",
              "      <td>0.0</td>\n",
              "    </tr>\n",
              "    <tr>\n",
              "      <th>3</th>\n",
              "      <td>2</td>\n",
              "      <td>0.0</td>\n",
              "      <td>0.7237</td>\n",
              "      <td>0.7262</td>\n",
              "      <td>0.8934</td>\n",
              "      <td>0.7951</td>\n",
              "      <td>0.9388</td>\n",
              "      <td>0.0</td>\n",
              "      <td>1.0</td>\n",
              "      <td>0.0</td>\n",
              "      <td>0.0</td>\n",
              "      <td>0.0</td>\n",
              "    </tr>\n",
              "    <tr>\n",
              "      <th>4</th>\n",
              "      <td>2</td>\n",
              "      <td>0.0</td>\n",
              "      <td>0.7237</td>\n",
              "      <td>0.7262</td>\n",
              "      <td>0.8934</td>\n",
              "      <td>0.7951</td>\n",
              "      <td>0.9388</td>\n",
              "      <td>0.0</td>\n",
              "      <td>0.0</td>\n",
              "      <td>0.0</td>\n",
              "      <td>0.0</td>\n",
              "      <td>0.0</td>\n",
              "    </tr>\n",
              "  </tbody>\n",
              "</table>\n",
              "</div>"
            ],
            "text/plain": [
              "   userid  goal1  goal21_score  goal22_score  ...  goal22  goal23  goal24  goal25\n",
              "0       0    0.0        0.7167        0.7261  ...     1.0     0.0     0.0     0.0\n",
              "1       1    0.0        0.7167        0.7261  ...     0.0     0.0     0.0     0.0\n",
              "2       1    0.0        0.7167        0.7261  ...     0.0     0.0     0.0     0.0\n",
              "3       2    0.0        0.7237        0.7262  ...     1.0     0.0     0.0     0.0\n",
              "4       2    0.0        0.7237        0.7262  ...     0.0     0.0     0.0     0.0\n",
              "\n",
              "[5 rows x 12 columns]"
            ]
          },
          "metadata": {
            "tags": []
          },
          "execution_count": 54
        }
      ]
    },
    {
      "cell_type": "code",
      "metadata": {
        "id": "MftssYTqB-KH",
        "colab_type": "code",
        "colab": {}
      },
      "source": [
        "df_train[['userid', 'goal1'] + goals_scores+goals].to_csv(os.path.join(subm_folder, 'oof_scores.csv'), index=False)"
      ],
      "execution_count": 0,
      "outputs": []
    },
    {
      "cell_type": "markdown",
      "metadata": {
        "id": "UbhNymThTct2",
        "colab_type": "text"
      },
      "source": [
        "### Вторая задача ауки\n",
        "- 0.7149\n",
        "- 0.7195\n",
        "- 0.893\n",
        "- 0.7918\n",
        "- 0.9402\n",
        "\n",
        "- goal 1 0.709 (3 фолда) 0.711 с индикаторами"
      ]
    },
    {
      "cell_type": "markdown",
      "metadata": {
        "id": "G_kHHwSSChTd",
        "colab_type": "text"
      },
      "source": [
        "### Feature Selection for goal21"
      ]
    },
    {
      "cell_type": "code",
      "metadata": {
        "id": "3LpU_oXZb1xo",
        "colab_type": "code",
        "outputId": "2e95df6f-d2da-4695-acf2-fe6020d8cec4",
        "colab": {
          "base_uri": "https://localhost:8080/",
          "height": 34
        }
      },
      "source": [
        "features.keys()"
      ],
      "execution_count": 0,
      "outputs": [
        {
          "output_type": "execute_result",
          "data": {
            "text/plain": [
              "dict_keys(['fields_cols', 'dif_cols', 'shift_cols', 'just_cols', 'ind_cols', 'encode_cols', 'div_cols', 'mix_cols', 'new_count_cols', 'new_time_groupby_cols'])"
            ]
          },
          "metadata": {
            "tags": []
          },
          "execution_count": 174
        }
      ]
    },
    {
      "cell_type": "code",
      "metadata": {
        "id": "nhZfD4y5b16B",
        "colab_type": "code",
        "colab": {}
      },
      "source": [
        "new_count_cols = list(filter(lambda x: '_value_counts' in x , df_train.columns))\n",
        "new_time_groupby_cols = list(filter(lambda x: '_mean_time_buy' in x , df_train.columns))"
      ],
      "execution_count": 0,
      "outputs": []
    },
    {
      "cell_type": "code",
      "metadata": {
        "id": "NI-dAiaEb2DI",
        "colab_type": "code",
        "colab": {}
      },
      "source": [
        "features['new_count_cols'] = new_count_cols\n",
        "features['new_time_groupby_cols'] = new_time_groupby_cols\n",
        "\n",
        "lgb_cl_for_sel = lgb.LGBMClassifier(random_state=10)"
      ],
      "execution_count": 0,
      "outputs": []
    },
    {
      "cell_type": "code",
      "metadata": {
        "id": "pdBsLTdVb2Nr",
        "colab_type": "code",
        "colab": {}
      },
      "source": [
        "def select_features_group(model, train, features_groups):\n",
        "    selected_groups = []\n",
        "    temp_auc = 0\n",
        "    i=0\n",
        "    while i==0:\n",
        "        selected_group, best_auc = one_step(features_groups, selected_groups, model, train, temp_auc)\n",
        "        if selected_group is None:\n",
        "            i=1\n",
        "            print('End Searching')\n",
        "        else:\n",
        "            print(f'Selected group is {selected_group} with auc {best_auc}')\n",
        "            selected_groups.append(selected_group)\n",
        "            temp_auc = best_auc\n",
        "    return selected_groups\n",
        "\n",
        "\n",
        "def one_step(features_groups, selected_groups, model, train, temp_auc=0):\n",
        "    selected_group = None\n",
        "    selected_features = []\n",
        "\n",
        "    for group in selected_groups:\n",
        "        selected_features += features_groups[group]\n",
        "\n",
        "    for group in tqdm_notebook(features_groups, leave=False):\n",
        "        if group not in selected_groups:\n",
        "            a = cross_val_score(model, train[selected_features+features_groups[group]], train['goal25'], groups=train['userid'], cv=GroupKFold(3), scoring='roc_auc')\n",
        "            auc = np.mean(a)\n",
        "            if auc> temp_auc:\n",
        "                selected_group=group\n",
        "                temp_auc = auc\n",
        "    return selected_group, temp_auc"
      ],
      "execution_count": 0,
      "outputs": []
    },
    {
      "cell_type": "code",
      "metadata": {
        "id": "izimkZIGgLlf",
        "colab_type": "code",
        "colab": {}
      },
      "source": [
        "features_groups = copy.copy(features)"
      ],
      "execution_count": 0,
      "outputs": []
    },
    {
      "cell_type": "code",
      "metadata": {
        "id": "0oqm3wdzgPdB",
        "colab_type": "code",
        "outputId": "18212f88-62f9-4242-e6fb-07d3ac666760",
        "colab": {
          "base_uri": "https://localhost:8080/",
          "height": 34
        }
      },
      "source": [
        "features_groups.pop('mix_cols')\n",
        "features_groups.keys()"
      ],
      "execution_count": 0,
      "outputs": [
        {
          "output_type": "execute_result",
          "data": {
            "text/plain": [
              "dict_keys(['fields_cols', 'dif_cols', 'shift_cols', 'just_cols', 'ind_cols', 'encode_cols', 'div_cols', 'new_count_cols', 'new_time_groupby_cols'])"
            ]
          },
          "metadata": {
            "tags": []
          },
          "execution_count": 179
        }
      ]
    },
    {
      "cell_type": "code",
      "metadata": {
        "id": "ItGaEPl7b2Qz",
        "colab_type": "code",
        "outputId": "18d5d3e3-ee9f-4623-f89e-3e26645363f0",
        "colab": {
          "base_uri": "https://localhost:8080/",
          "height": 85,
          "referenced_widgets": [
            "01ab742fb05b42d6a5008c7dea05cde4",
            "5cf6096d950847f3a9cf450b41f1b3bd",
            "a6391b0ba6664bf2a10f8686dc878b50",
            "fb7f500ce95a4c89b323aaf66cec90b0",
            "fd9deebc8e754bc694a965a073a5f2ab",
            "21ec8e90d38d4113a3d30d1ca7e8d0f6",
            "7f25bbae41a345d5acf2b8e2a6376e0a",
            "b9054d24d65748059711f942daf852fa",
            "4d1c66bd72654bd4a0e031ce821e45d6",
            "54e0aaa7a5fe47c491e13f51830887f1",
            "ede4c26f1dc14969918649c3579314e1",
            "bf4697e3a7a94f58b7d1696ec69e873f",
            "2b4aa8d711474bb48a34ca2c0fb5c489",
            "7fa651d405794b4c947324628dcef43a",
            "448bba93101c4ca79b94648a9a8255a7",
            "685b4a659bbb4f8d917088db82501754",
            "cd7670422bcd4c09b566f7965e175d54",
            "b6ab050a7ba3493fa0d6edc00e9e3360",
            "4d2c19fcda24453bbe608fef4b8f0197",
            "452494ce5aea4b3dab57dc3fe1774b9d",
            "338617a3f4444e88bba1f14132b7b64b",
            "f7cb99536bbf44c1815e44834ee049fa",
            "d342650715944cf7ac8aa2abb60cf148",
            "41550517636d4af3abec71ef1b9212a4",
            "046bf081d94b4d2d88ad9a446ff15ad4",
            "fcb117168e134454b6c6be2e7e8ad137",
            "edf3bb93ee874e468c05ba28ccc874a3",
            "791c6c8e45144a5aa1da3f3adcea419e",
            "5d105269e235428881ef99fe755504a0",
            "77e5a836488e4d9f8691a0ad299d5f80",
            "c3043cf5e8da49d3893201001e2b4726",
            "7427ff972b1b493a8e1d8255459f75d9"
          ]
        }
      },
      "source": [
        "a = select_features_group(lgb_cl_for_sel, df_train, features_groups=features_groups)"
      ],
      "execution_count": 0,
      "outputs": [
        {
          "output_type": "display_data",
          "data": {
            "application/vnd.jupyter.widget-view+json": {
              "model_id": "01ab742fb05b42d6a5008c7dea05cde4",
              "version_minor": 0,
              "version_major": 2
            },
            "text/plain": [
              "HBox(children=(IntProgress(value=0, max=9), HTML(value='')))"
            ]
          },
          "metadata": {
            "tags": []
          }
        },
        {
          "output_type": "stream",
          "text": [
            "Selected group is fields_cols with auc 0.9265096038019799\n"
          ],
          "name": "stdout"
        },
        {
          "output_type": "display_data",
          "data": {
            "application/vnd.jupyter.widget-view+json": {
              "model_id": "4d1c66bd72654bd4a0e031ce821e45d6",
              "version_minor": 0,
              "version_major": 2
            },
            "text/plain": [
              "HBox(children=(IntProgress(value=0, max=9), HTML(value='')))"
            ]
          },
          "metadata": {
            "tags": []
          }
        },
        {
          "output_type": "stream",
          "text": [
            "Selected group is ind_cols with auc 0.9353442453369133\n"
          ],
          "name": "stdout"
        },
        {
          "output_type": "display_data",
          "data": {
            "application/vnd.jupyter.widget-view+json": {
              "model_id": "cd7670422bcd4c09b566f7965e175d54",
              "version_minor": 0,
              "version_major": 2
            },
            "text/plain": [
              "HBox(children=(IntProgress(value=0, max=9), HTML(value='')))"
            ]
          },
          "metadata": {
            "tags": []
          }
        },
        {
          "output_type": "stream",
          "text": [
            "Selected group is new_count_cols with auc 0.9370733692072869\n"
          ],
          "name": "stdout"
        },
        {
          "output_type": "display_data",
          "data": {
            "application/vnd.jupyter.widget-view+json": {
              "model_id": "046bf081d94b4d2d88ad9a446ff15ad4",
              "version_minor": 0,
              "version_major": 2
            },
            "text/plain": [
              "HBox(children=(IntProgress(value=0, max=9), HTML(value='')))"
            ]
          },
          "metadata": {
            "tags": []
          }
        },
        {
          "output_type": "stream",
          "text": [
            "End Searching\n"
          ],
          "name": "stdout"
        }
      ]
    },
    {
      "cell_type": "code",
      "metadata": {
        "id": "68vDKuyxb2Wm",
        "colab_type": "code",
        "outputId": "6a28b2f3-5c4f-4ba7-9a2b-c4427ff5dc3b",
        "colab": {
          "base_uri": "https://localhost:8080/",
          "height": 34
        }
      },
      "source": [
        "a"
      ],
      "execution_count": 0,
      "outputs": [
        {
          "output_type": "execute_result",
          "data": {
            "text/html": [
              "['fields_cols', 'ind_cols', 'new_count_cols', 'just_cols']"
            ],
            "text/plain": [
              "['fields_cols', 'ind_cols', 'new_count_cols', 'just_cols']"
            ]
          },
          "metadata": {
            "tags": []
          },
          "execution_count": 165
        }
      ]
    },
    {
      "cell_type": "code",
      "metadata": {
        "id": "UT16WoF6b2U7",
        "colab_type": "code",
        "colab": {}
      },
      "source": [
        ""
      ],
      "execution_count": 0,
      "outputs": []
    },
    {
      "cell_type": "code",
      "metadata": {
        "id": "mf3uCb1xb2LO",
        "colab_type": "code",
        "colab": {}
      },
      "source": [
        ""
      ],
      "execution_count": 0,
      "outputs": []
    },
    {
      "cell_type": "code",
      "metadata": {
        "id": "8uwwj3s-b2IT",
        "colab_type": "code",
        "colab": {}
      },
      "source": [
        ""
      ],
      "execution_count": 0,
      "outputs": []
    },
    {
      "cell_type": "code",
      "metadata": {
        "id": "n2fF5E1_b2GV",
        "colab_type": "code",
        "colab": {}
      },
      "source": [
        ""
      ],
      "execution_count": 0,
      "outputs": []
    },
    {
      "cell_type": "code",
      "metadata": {
        "id": "fyKnsz_xb2Ae",
        "colab_type": "code",
        "colab": {}
      },
      "source": [
        ""
      ],
      "execution_count": 0,
      "outputs": []
    },
    {
      "cell_type": "code",
      "metadata": {
        "id": "akxZN2HMb1-h",
        "colab_type": "code",
        "colab": {}
      },
      "source": [
        ""
      ],
      "execution_count": 0,
      "outputs": []
    },
    {
      "cell_type": "code",
      "metadata": {
        "id": "0JqZVASDb13k",
        "colab_type": "code",
        "colab": {}
      },
      "source": [
        ""
      ],
      "execution_count": 0,
      "outputs": []
    },
    {
      "cell_type": "code",
      "metadata": {
        "id": "mRNDXZyjb11V",
        "colab_type": "code",
        "colab": {}
      },
      "source": [
        ""
      ],
      "execution_count": 0,
      "outputs": []
    },
    {
      "cell_type": "code",
      "metadata": {
        "id": "Ix6tMODqb1us",
        "colab_type": "code",
        "colab": {}
      },
      "source": [
        ""
      ],
      "execution_count": 0,
      "outputs": []
    },
    {
      "cell_type": "code",
      "metadata": {
        "id": "qrQdcHMETcA0",
        "colab_type": "code",
        "colab": {}
      },
      "source": [
        "cv_gen = GroupKFold(n_splits=2).split(df_train[variable_names], df_train['goal21'], df_train.userid)\n",
        "lgb_cl_for_sfs = lgb.LGBMClassifier(random_state=1488, importance_type='gain') "
      ],
      "execution_count": 0,
      "outputs": []
    },
    {
      "cell_type": "code",
      "metadata": {
        "id": "Spw8Dw-MGxO2",
        "colab_type": "code",
        "colab": {}
      },
      "source": [
        "a = list(cv_gen)"
      ],
      "execution_count": 0,
      "outputs": []
    },
    {
      "cell_type": "code",
      "metadata": {
        "id": "1cUqWdDdG7RE",
        "colab_type": "code",
        "outputId": "ab56e05f-7080-4727-cf48-d358fadf18bc",
        "colab": {
          "base_uri": "https://localhost:8080/",
          "height": 119
        }
      },
      "source": [
        "lgb_cl_for_sfs.fit(df_train.iloc[a[0][0]][variable_names], df_train.iloc[a[0][0]]['goal21'])"
      ],
      "execution_count": 0,
      "outputs": [
        {
          "output_type": "execute_result",
          "data": {
            "text/plain": [
              "LGBMClassifier(boosting_type='gbdt', class_weight=None, colsample_bytree=1.0,\n",
              "               importance_type='gain', learning_rate=0.1, max_depth=-1,\n",
              "               min_child_samples=20, min_child_weight=0.001, min_split_gain=0.0,\n",
              "               n_estimators=100, n_jobs=-1, num_leaves=31, objective=None,\n",
              "               random_state=1488, reg_alpha=0.0, reg_lambda=0.0, silent=True,\n",
              "               subsample=1.0, subsample_for_bin=200000, subsample_freq=0)"
            ]
          },
          "metadata": {
            "tags": []
          },
          "execution_count": 86
        }
      ]
    },
    {
      "cell_type": "code",
      "metadata": {
        "id": "lMaUaoALINW7",
        "colab_type": "code",
        "outputId": "b4ac432b-b187-40b9-f280-b0539b3ec065",
        "colab": {
          "base_uri": "https://localhost:8080/",
          "height": 34
        }
      },
      "source": [
        "round(roc_auc_score(df_train.iloc[a[0][1]]['goal21'], lgb_cl_for_sfs.predict_proba(df_train.iloc[a[0][1]][variable_names])[:,1]),4)"
      ],
      "execution_count": 0,
      "outputs": [
        {
          "output_type": "execute_result",
          "data": {
            "text/plain": [
              "0.6901"
            ]
          },
          "metadata": {
            "tags": []
          },
          "execution_count": 87
        }
      ]
    },
    {
      "cell_type": "code",
      "metadata": {
        "id": "dzoRQvY-Ixqa",
        "colab_type": "code",
        "colab": {}
      },
      "source": [
        "sfs = SequentialFeatureSelector(lgb_cl_for_sfs, k_features=(10,150), verbose=1, scoring='roc_auc', n_jobs=-1, cv=a)"
      ],
      "execution_count": 0,
      "outputs": []
    },
    {
      "cell_type": "code",
      "metadata": {
        "id": "C5Jx6we_AjZI",
        "colab_type": "code",
        "outputId": "1e959a11-543b-4090-fd8f-e3b8eefe9da3",
        "colab": {
          "base_uri": "https://localhost:8080/",
          "height": 1000
        }
      },
      "source": [
        "sfs.fit(df_train[variable_names], df_train['goal21'])"
      ],
      "execution_count": 0,
      "outputs": [
        {
          "output_type": "stream",
          "text": [
            "[Parallel(n_jobs=-1)]: Using backend LokyBackend with 4 concurrent workers.\n",
            "[Parallel(n_jobs=-1)]: Done  42 tasks      | elapsed:   35.7s\n",
            "[Parallel(n_jobs=-1)]: Done 192 tasks      | elapsed:  2.2min\n",
            "[Parallel(n_jobs=-1)]: Done 442 tasks      | elapsed:  6.0min\n",
            "[Parallel(n_jobs=-1)]: Done 722 out of 722 | elapsed: 10.4min finished\n",
            "Features: 1/150[Parallel(n_jobs=-1)]: Using backend LokyBackend with 4 concurrent workers.\n",
            "[Parallel(n_jobs=-1)]: Done  42 tasks      | elapsed:   43.9s\n",
            "[Parallel(n_jobs=-1)]: Done 192 tasks      | elapsed:  3.2min\n",
            "[Parallel(n_jobs=-1)]: Done 442 tasks      | elapsed:  6.9min\n",
            "[Parallel(n_jobs=-1)]: Done 721 out of 721 | elapsed: 11.1min finished\n",
            "Features: 2/150[Parallel(n_jobs=-1)]: Using backend LokyBackend with 4 concurrent workers.\n",
            "[Parallel(n_jobs=-1)]: Done  42 tasks      | elapsed:   42.7s\n",
            "[Parallel(n_jobs=-1)]: Done 192 tasks      | elapsed:  3.1min\n",
            "[Parallel(n_jobs=-1)]: Done 442 tasks      | elapsed:  6.8min\n",
            "[Parallel(n_jobs=-1)]: Done 720 out of 720 | elapsed: 11.1min finished\n",
            "Features: 3/150[Parallel(n_jobs=-1)]: Using backend LokyBackend with 4 concurrent workers.\n",
            "[Parallel(n_jobs=-1)]: Done  42 tasks      | elapsed:   44.0s\n",
            "[Parallel(n_jobs=-1)]: Done 192 tasks      | elapsed:  3.2min\n",
            "[Parallel(n_jobs=-1)]: Done 442 tasks      | elapsed:  7.1min\n",
            "[Parallel(n_jobs=-1)]: Done 719 out of 719 | elapsed: 11.5min finished\n",
            "Features: 4/150[Parallel(n_jobs=-1)]: Using backend LokyBackend with 4 concurrent workers.\n",
            "[Parallel(n_jobs=-1)]: Done  42 tasks      | elapsed:   44.9s\n",
            "[Parallel(n_jobs=-1)]: Done 192 tasks      | elapsed:  3.2min\n",
            "[Parallel(n_jobs=-1)]: Done 442 tasks      | elapsed:  7.3min\n",
            "[Parallel(n_jobs=-1)]: Done 718 out of 718 | elapsed: 11.8min finished\n",
            "Features: 5/150[Parallel(n_jobs=-1)]: Using backend LokyBackend with 4 concurrent workers.\n",
            "[Parallel(n_jobs=-1)]: Done  42 tasks      | elapsed:   48.0s\n",
            "[Parallel(n_jobs=-1)]: Done 192 tasks      | elapsed:  3.4min\n",
            "[Parallel(n_jobs=-1)]: Done 442 tasks      | elapsed:  7.8min\n",
            "[Parallel(n_jobs=-1)]: Done 717 out of 717 | elapsed: 12.6min finished\n",
            "Features: 6/150[Parallel(n_jobs=-1)]: Using backend LokyBackend with 4 concurrent workers.\n",
            "[Parallel(n_jobs=-1)]: Done  42 tasks      | elapsed:   50.9s\n",
            "[Parallel(n_jobs=-1)]: Done 192 tasks      | elapsed:  3.6min\n",
            "[Parallel(n_jobs=-1)]: Done 442 tasks      | elapsed:  8.2min\n",
            "[Parallel(n_jobs=-1)]: Done 716 out of 716 | elapsed: 13.1min finished\n",
            "Features: 7/150[Parallel(n_jobs=-1)]: Using backend LokyBackend with 4 concurrent workers.\n",
            "[Parallel(n_jobs=-1)]: Done  42 tasks      | elapsed:   51.8s\n",
            "[Parallel(n_jobs=-1)]: Done 192 tasks      | elapsed:  3.7min\n",
            "[Parallel(n_jobs=-1)]: Done 442 tasks      | elapsed:  8.5min\n",
            "[Parallel(n_jobs=-1)]: Done 715 out of 715 | elapsed: 13.7min finished\n",
            "Features: 8/150[Parallel(n_jobs=-1)]: Using backend LokyBackend with 4 concurrent workers.\n",
            "[Parallel(n_jobs=-1)]: Done  42 tasks      | elapsed:   54.5s\n",
            "[Parallel(n_jobs=-1)]: Done 192 tasks      | elapsed:  3.9min\n",
            "[Parallel(n_jobs=-1)]: Done 442 tasks      | elapsed:  8.9min\n",
            "[Parallel(n_jobs=-1)]: Done 714 out of 714 | elapsed: 14.4min finished\n",
            "Features: 9/150[Parallel(n_jobs=-1)]: Using backend LokyBackend with 4 concurrent workers.\n",
            "[Parallel(n_jobs=-1)]: Done  42 tasks      | elapsed:   57.1s\n",
            "[Parallel(n_jobs=-1)]: Done 192 tasks      | elapsed:  4.0min\n",
            "[Parallel(n_jobs=-1)]: Done 442 tasks      | elapsed:  9.2min\n",
            "[Parallel(n_jobs=-1)]: Done 713 out of 713 | elapsed: 14.8min finished\n",
            "Features: 10/150[Parallel(n_jobs=-1)]: Using backend LokyBackend with 4 concurrent workers.\n",
            "[Parallel(n_jobs=-1)]: Done  42 tasks      | elapsed:   57.9s\n",
            "\n",
            "STOPPING EARLY DUE TO KEYBOARD INTERRUPT..."
          ],
          "name": "stderr"
        },
        {
          "output_type": "execute_result",
          "data": {
            "text/plain": [
              "SequentialFeatureSelector(clone_estimator=True,\n",
              "                          cv=[(array([     0,      3,      4, ..., 196051, 196053, 196054]),\n",
              "                               array([     1,      2,      8, ..., 196050, 196052, 196055])),\n",
              "                              (array([     1,      2,      8, ..., 196050, 196052, 196055]),\n",
              "                               array([     0,      3,      4, ..., 196051, 196053, 196054]))],\n",
              "                          estimator=LGBMClassifier(boosting_type='gbdt',\n",
              "                                                   class_weight=None,\n",
              "                                                   colsample_bytree=1.0,\n",
              "                                                   importance_type='gain',\n",
              "                                                   learning_rate=0.1,\n",
              "                                                   max_depth=-1,\n",
              "                                                   min_child_samples=20,\n",
              "                                                   min_child_weight=0.001,\n",
              "                                                   min_split_gain=0.0,\n",
              "                                                   n_estimators=100, n_jobs=-1,\n",
              "                                                   num_leaves=31,\n",
              "                                                   objective=None,\n",
              "                                                   random_state=1488,\n",
              "                                                   reg_alpha=0.0,\n",
              "                                                   reg_lambda=0.0, silent=True,\n",
              "                                                   subsample=1.0,\n",
              "                                                   subsample_for_bin=200000,\n",
              "                                                   subsample_freq=0),\n",
              "                          floating=False, forward=True, k_features=(10, 150),\n",
              "                          n_jobs=-1, pre_dispatch='2*n_jobs', scoring='roc_auc',\n",
              "                          verbose=1)"
            ]
          },
          "metadata": {
            "tags": []
          },
          "execution_count": 96
        }
      ]
    },
    {
      "cell_type": "code",
      "metadata": {
        "id": "UcArgCLIm7tT",
        "colab_type": "code",
        "outputId": "2cf0d886-ff31-4073-f3ab-9b58160cf89a",
        "colab": {
          "base_uri": "https://localhost:8080/",
          "height": 289
        }
      },
      "source": [
        "sfs.get_metric_dict()[10]"
      ],
      "execution_count": 0,
      "outputs": [
        {
          "output_type": "execute_result",
          "data": {
            "text/plain": [
              "{'avg_score': 0.7071218290261331,\n",
              " 'ci_bound': 0.024171005751041245,\n",
              " 'cv_scores': array([0.70150413, 0.71273953]),\n",
              " 'feature_idx': (116, 169, 361, 372, 395, 473, 552, 688, 689, 721),\n",
              " 'feature_names': ('shift1_field14',\n",
              "  'shiftminus_field27',\n",
              "  'field4_mix_field29',\n",
              "  'field5_mix_field14',\n",
              "  'field6_mix_field12',\n",
              "  'field9_mix_field21',\n",
              "  'field13_mix_field22',\n",
              "  'field24_mix_field26',\n",
              "  'field24_mix_field27',\n",
              "  'field25_mdiv_field12'),\n",
              " 'std_dev': 0.005617698491679035,\n",
              " 'std_err': 0.005617698491679034}"
            ]
          },
          "metadata": {
            "tags": []
          },
          "execution_count": 102
        }
      ]
    },
    {
      "cell_type": "code",
      "metadata": {
        "id": "Zl6IYZd_Ajrp",
        "colab_type": "code",
        "colab": {}
      },
      "source": [
        "import json\n",
        "with open(os.path.join(data_folder, 'goal21_top_10_features.txt'), 'w') as f:\n",
        "    json.dump(sfs.get_metric_dict()[10]['feature_names'], f)"
      ],
      "execution_count": 0,
      "outputs": []
    },
    {
      "cell_type": "code",
      "metadata": {
        "id": "ueo53jcqAjnh",
        "colab_type": "code",
        "colab": {}
      },
      "source": [
        "with open(os.path.join(data_folder, 'goal21_top_10_features.txt'), 'r') as f:\n",
        "    a = json.load(f)"
      ],
      "execution_count": 0,
      "outputs": []
    },
    {
      "cell_type": "code",
      "metadata": {
        "id": "anfPtGksAjkD",
        "colab_type": "code",
        "outputId": "07b5aabb-40c0-46d5-887a-81e0cbb9f880",
        "colab": {
          "base_uri": "https://localhost:8080/",
          "height": 34
        }
      },
      "source": [
        "a"
      ],
      "execution_count": 0,
      "outputs": [
        {
          "output_type": "execute_result",
          "data": {
            "text/html": [
              "['shift1_field14', 'shiftminus_field27', 'field4_mix_field29', 'field5_mix_field14', 'field6_mix_field12', 'field9_mix_field21', 'field13_mix_field22', 'field24_mix_field26', 'field24_mix_field27', 'field25_mdiv_field12']"
            ],
            "text/plain": [
              "['shift1_field14',\n",
              " 'shiftminus_field27',\n",
              " 'field4_mix_field29',\n",
              " 'field5_mix_field14',\n",
              " 'field6_mix_field12',\n",
              " 'field9_mix_field21',\n",
              " 'field13_mix_field22',\n",
              " 'field24_mix_field26',\n",
              " 'field24_mix_field27',\n",
              " 'field25_mdiv_field12']"
            ]
          },
          "metadata": {
            "tags": []
          },
          "execution_count": 106
        }
      ]
    },
    {
      "cell_type": "markdown",
      "metadata": {
        "id": "ds8MZmRvjc93",
        "colab_type": "text"
      },
      "source": [
        ""
      ]
    },
    {
      "cell_type": "code",
      "metadata": {
        "id": "Bxsdd1CNV6KM",
        "colab_type": "code",
        "colab": {}
      },
      "source": [
        "explainer = shap.TreeExplainer(lgb_cl)"
      ],
      "execution_count": 0,
      "outputs": []
    },
    {
      "cell_type": "code",
      "metadata": {
        "id": "y275ZAyXV5_2",
        "colab_type": "code",
        "colab": {}
      },
      "source": [
        "shap_values = explainer.shap_values(test[variable_names])"
      ],
      "execution_count": 0,
      "outputs": []
    },
    {
      "cell_type": "code",
      "metadata": {
        "id": "rEDSP_60V59Z",
        "colab_type": "code",
        "outputId": "f9476d01-9742-4399-93a3-10a1bdb4126e",
        "colab": {
          "base_uri": "https://localhost:8080/",
          "height": 1000
        }
      },
      "source": [
        "shap.summary_plot(shap_values[0], test[variable_names], max_display=60, plot_type='dot')"
      ],
      "execution_count": 0,
      "outputs": [
        {
          "output_type": "display_data",
          "data": {
            "image/png": "[encoded data removed]",
            "text/plain": [
              "<Figure size 576x1836 with 2 Axes>"
            ]
          },
          "metadata": {
            "tags": []
          }
        }
      ]
    },
    {
      "cell_type": "code",
      "metadata": {
        "id": "rWnx1k5kV56O",
        "colab_type": "code",
        "outputId": "c7c09b52-2fee-456b-e3d5-344966874d73",
        "colab": {
          "base_uri": "https://localhost:8080/",
          "height": 648
        }
      },
      "source": [
        "from pdpbox import pdp, get_dataset, info_plots\n",
        "test_1 = test[variable_names]\n",
        "\n",
        "pdp_goals = pdp.pdp_isolate(model=lgb_cl, dataset=test_1, model_features=test_1.columns, feature='indicator_goal23')\n",
        "\n",
        "# plot it\n",
        "pdp.pdp_plot(pdp_goals,'indicator_goal23')\n",
        "plt.show()\n"
      ],
      "execution_count": 0,
      "outputs": [
        {
          "output_type": "stream",
          "text": [
            "findfont: Font family ['Arial'] not found. Falling back to DejaVu Sans.\n",
            "findfont: Font family ['Arial'] not found. Falling back to DejaVu Sans.\n",
            "findfont: Font family ['Arial'] not found. Falling back to DejaVu Sans.\n",
            "findfont: Font family ['Arial'] not found. Falling back to DejaVu Sans.\n"
          ],
          "name": "stderr"
        },
        {
          "output_type": "display_data",
          "data": {
            "image/png": "[encoded data removed]",
            "text/plain": [
              "<Figure size 1080x684 with 2 Axes>"
            ]
          },
          "metadata": {
            "tags": []
          }
        }
      ]
    },
    {
      "cell_type": "code",
      "metadata": {
        "id": "VsFEr01dV53a",
        "colab_type": "code",
        "outputId": "a3d9eb80-c451-4277-887d-00d90032f66e",
        "colab": {
          "base_uri": "https://localhost:8080/",
          "height": 425
        }
      },
      "source": [
        "!pip install pdpbox"
      ],
      "execution_count": 0,
      "outputs": [
        {
          "output_type": "stream",
          "text": [
            "Collecting pdpbox\n",
            "\u001b[?25l  Downloading https://files.pythonhosted.org/packages/87/23/ac7da5ba1c6c03a87c412e7e7b6e91a10d6ecf4474906c3e736f93940d49/PDPbox-0.2.0.tar.gz (57.7MB)\n",
            "\u001b[K     |████████████████████████████████| 57.7MB 38kB/s \n",
            "\u001b[?25hRequirement already satisfied: pandas in /usr/local/lib/python3.6/dist-packages (from pdpbox) (0.25.3)\n",
            "Requirement already satisfied: numpy in /usr/local/lib/python3.6/dist-packages (from pdpbox) (1.17.4)\n",
            "Requirement already satisfied: scipy in /usr/local/lib/python3.6/dist-packages (from pdpbox) (1.3.3)\n",
            "Requirement already satisfied: matplotlib>=2.1.2 in /usr/local/lib/python3.6/dist-packages (from pdpbox) (3.1.2)\n",
            "Requirement already satisfied: joblib in /usr/local/lib/python3.6/dist-packages (from pdpbox) (0.14.0)\n",
            "Requirement already satisfied: psutil in /usr/local/lib/python3.6/dist-packages (from pdpbox) (5.4.8)\n",
            "Requirement already satisfied: scikit-learn in /usr/local/lib/python3.6/dist-packages (from pdpbox) (0.21.3)\n",
            "Requirement already satisfied: pytz>=2017.2 in /usr/local/lib/python3.6/dist-packages (from pandas->pdpbox) (2018.9)\n",
            "Requirement already satisfied: python-dateutil>=2.6.1 in /usr/local/lib/python3.6/dist-packages (from pandas->pdpbox) (2.6.1)\n",
            "Requirement already satisfied: kiwisolver>=1.0.1 in /usr/local/lib/python3.6/dist-packages (from matplotlib>=2.1.2->pdpbox) (1.1.0)\n",
            "Requirement already satisfied: pyparsing!=2.0.4,!=2.1.2,!=2.1.6,>=2.0.1 in /usr/local/lib/python3.6/dist-packages (from matplotlib>=2.1.2->pdpbox) (2.4.5)\n",
            "Requirement already satisfied: cycler>=0.10 in /usr/local/lib/python3.6/dist-packages (from matplotlib>=2.1.2->pdpbox) (0.10.0)\n",
            "Requirement already satisfied: six>=1.5 in /usr/local/lib/python3.6/dist-packages (from python-dateutil>=2.6.1->pandas->pdpbox) (1.12.0)\n",
            "Requirement already satisfied: setuptools in /usr/local/lib/python3.6/dist-packages (from kiwisolver>=1.0.1->matplotlib>=2.1.2->pdpbox) (42.0.1)\n",
            "Building wheels for collected packages: pdpbox\n",
            "  Building wheel for pdpbox (setup.py) ... \u001b[?25l\u001b[?25hdone\n",
            "  Created wheel for pdpbox: filename=PDPbox-0.2.0-cp36-none-any.whl size=57690723 sha256=d33abfe9ff83ab140c72399a41f813473bea9345499c090d5707bbd8aa7c3d5c\n",
            "  Stored in directory: /root/.cache/pip/wheels/7d/08/51/63fd122b04a2c87d780464eeffb94867c75bd96a64d500a3fe\n",
            "Successfully built pdpbox\n",
            "Installing collected packages: pdpbox\n",
            "Successfully installed pdpbox-0.2.0\n"
          ],
          "name": "stdout"
        }
      ]
    },
    {
      "cell_type": "markdown",
      "metadata": {
        "id": "Iq61uTXsNY4z",
        "colab_type": "text"
      },
      "source": [
        "### Сабмит"
      ]
    },
    {
      "cell_type": "code",
      "metadata": {
        "id": "De3ufxnxNgkI",
        "colab_type": "code",
        "outputId": "2c8989dc-bafc-4a8b-85f3-d7a1e2956992",
        "colab": {
          "base_uri": "https://localhost:8080/",
          "height": 34
        }
      },
      "source": [
        "df_train.isnull().sum().sum(), df_test.isnull().sum().sum()"
      ],
      "execution_count": 0,
      "outputs": [
        {
          "output_type": "execute_result",
          "data": {
            "text/plain": [
              "(0, 0)"
            ]
          },
          "metadata": {
            "tags": []
          },
          "execution_count": 45
        }
      ]
    },
    {
      "cell_type": "code",
      "metadata": {
        "id": "P7y3gI3ZwUgF",
        "colab_type": "code",
        "outputId": "8b0a4807-aa1d-41c7-f6ad-699ebcfd3f6d",
        "colab": {
          "base_uri": "https://localhost:8080/",
          "height": 34
        }
      },
      "source": [
        "import gc\n",
        "gc.collect()"
      ],
      "execution_count": 0,
      "outputs": [
        {
          "output_type": "execute_result",
          "data": {
            "text/plain": [
              "36"
            ]
          },
          "metadata": {
            "tags": []
          },
          "execution_count": 46
        }
      ]
    },
    {
      "cell_type": "code",
      "metadata": {
        "id": "mgWac6AcktWK",
        "colab_type": "code",
        "colab": {}
      },
      "source": [
        "targets = ['goal21', 'goal22', 'goal23', 'goal24', 'goal25']"
      ],
      "execution_count": 0,
      "outputs": []
    },
    {
      "cell_type": "code",
      "metadata": {
        "id": "-yxj7wORC_Hn",
        "colab_type": "code",
        "colab": {}
      },
      "source": [
        ""
      ],
      "execution_count": 0,
      "outputs": []
    },
    {
      "cell_type": "code",
      "metadata": {
        "id": "FgS_Su7bcO9K",
        "colab_type": "code",
        "outputId": "5b0b37cf-d079-4842-9026-1d6702599f40",
        "colab": {
          "base_uri": "https://localhost:8080/",
          "height": 101
        }
      },
      "source": [
        "for target in targets:\n",
        "    lgb_cl.fit(df_train[variable_names], df_train[target])\n",
        "    scr = lgb_cl.predict_proba(df_test[variable_names])[:,1]\n",
        "    df_test[target] = np.round(scr,4)\n",
        "    df_test[target] = df_test[target]*df_test['indicator_'+target]\n",
        "    print(f'Target {target} learnt')"
      ],
      "execution_count": 0,
      "outputs": [
        {
          "output_type": "stream",
          "text": [
            "Target goal21 learnt\n",
            "Target goal22 learnt\n",
            "Target goal23 learnt\n",
            "Target goal24 learnt\n",
            "Target goal25 learnt\n"
          ],
          "name": "stdout"
        }
      ]
    },
    {
      "cell_type": "code",
      "metadata": {
        "id": "HC81OVvscO4o",
        "colab_type": "code",
        "colab": {}
      },
      "source": [
        "df_test[['orderid', 'goal21', 'goal22', 'goal23', 'goal24', 'goal25']].to_csv(os.path.join(subm_folder, 'new_mean_encode_div_features.csv'), index=False)"
      ],
      "execution_count": 0,
      "outputs": []
    },
    {
      "cell_type": "code",
      "metadata": {
        "id": "Ol5lN1kJrzK7",
        "colab_type": "code",
        "colab": {}
      },
      "source": [
        "best_sub = pd.read_csv(os.path.join(subm_folder, 'best_submission.csv'))"
      ],
      "execution_count": 0,
      "outputs": []
    },
    {
      "cell_type": "code",
      "metadata": {
        "id": "EOpu0m23r9vJ",
        "colab_type": "code",
        "colab": {}
      },
      "source": [
        "best_sub = best_sub[['orderid', 'goal21', 'goal22']]"
      ],
      "execution_count": 0,
      "outputs": []
    },
    {
      "cell_type": "code",
      "metadata": {
        "id": "Y4C8Li2jr-U2",
        "colab_type": "code",
        "colab": {}
      },
      "source": [
        "best_sub = best_sub.merge(df_test[['orderid', 'goal23', 'goal25', 'goal24']])"
      ],
      "execution_count": 0,
      "outputs": []
    },
    {
      "cell_type": "code",
      "metadata": {
        "id": "feKL7QGgv0Cy",
        "colab_type": "code",
        "outputId": "ebe8642e-fa0a-40ec-ef4d-fe8a47441db3",
        "colab": {
          "base_uri": "https://localhost:8080/",
          "height": 204
        }
      },
      "source": [
        "best_sub.head()"
      ],
      "execution_count": 0,
      "outputs": [
        {
          "output_type": "execute_result",
          "data": {
            "text/html": [
              "<div>\n",
              "<style scoped>\n",
              "    .dataframe tbody tr th:only-of-type {\n",
              "        vertical-align: middle;\n",
              "    }\n",
              "\n",
              "    .dataframe tbody tr th {\n",
              "        vertical-align: top;\n",
              "    }\n",
              "\n",
              "    .dataframe thead th {\n",
              "        text-align: right;\n",
              "    }\n",
              "</style>\n",
              "<table border=\"1\" class=\"dataframe\">\n",
              "  <thead>\n",
              "    <tr style=\"text-align: right;\">\n",
              "      <th></th>\n",
              "      <th>orderid</th>\n",
              "      <th>goal21</th>\n",
              "      <th>goal24</th>\n",
              "      <th>goal23</th>\n",
              "      <th>goal25</th>\n",
              "      <th>goal22</th>\n",
              "    </tr>\n",
              "  </thead>\n",
              "  <tbody>\n",
              "    <tr>\n",
              "      <th>0</th>\n",
              "      <td>0</td>\n",
              "      <td>0.0267</td>\n",
              "      <td>0.0000</td>\n",
              "      <td>0.0000</td>\n",
              "      <td>0.0027</td>\n",
              "      <td>0.1727</td>\n",
              "    </tr>\n",
              "    <tr>\n",
              "      <th>1</th>\n",
              "      <td>57972</td>\n",
              "      <td>0.0289</td>\n",
              "      <td>0.0128</td>\n",
              "      <td>0.0000</td>\n",
              "      <td>0.0789</td>\n",
              "      <td>0.1872</td>\n",
              "    </tr>\n",
              "    <tr>\n",
              "      <th>2</th>\n",
              "      <td>112638</td>\n",
              "      <td>0.0299</td>\n",
              "      <td>0.0000</td>\n",
              "      <td>0.0000</td>\n",
              "      <td>0.0000</td>\n",
              "      <td>0.1640</td>\n",
              "    </tr>\n",
              "    <tr>\n",
              "      <th>3</th>\n",
              "      <td>112639</td>\n",
              "      <td>0.0270</td>\n",
              "      <td>0.0270</td>\n",
              "      <td>0.0026</td>\n",
              "      <td>0.0007</td>\n",
              "      <td>0.2544</td>\n",
              "    </tr>\n",
              "    <tr>\n",
              "      <th>4</th>\n",
              "      <td>112640</td>\n",
              "      <td>0.0415</td>\n",
              "      <td>0.0621</td>\n",
              "      <td>0.0000</td>\n",
              "      <td>0.0005</td>\n",
              "      <td>0.2293</td>\n",
              "    </tr>\n",
              "  </tbody>\n",
              "</table>\n",
              "</div>"
            ],
            "text/plain": [
              "   orderid  goal21  goal24  goal23  goal25  goal22\n",
              "0        0  0.0267  0.0000  0.0000  0.0027  0.1727\n",
              "1    57972  0.0289  0.0128  0.0000  0.0789  0.1872\n",
              "2   112638  0.0299  0.0000  0.0000  0.0000  0.1640\n",
              "3   112639  0.0270  0.0270  0.0026  0.0007  0.2544\n",
              "4   112640  0.0415  0.0621  0.0000  0.0005  0.2293"
            ]
          },
          "metadata": {
            "tags": []
          },
          "execution_count": 99
        }
      ]
    },
    {
      "cell_type": "code",
      "metadata": {
        "id": "J84ueeRnr-Y3",
        "colab_type": "code",
        "colab": {}
      },
      "source": [
        "# best_sub[['orderid', 'goal21', 'goal22', 'goal23', 'goal24', 'goal25']].to_csv(os.path.join(subm_folder, 'add_tickets_features_mix_sub_27_goal23_25_24.csv'), index=False)\n",
        "# best_sub[['orderid', 'goal21', 'goal22', 'goal23', 'goal24', 'goal25']].to_csv(os.path.join(subm_folder, 'add_tickets_features_mix_sub_27_goal23_25_24.csv'), index=False)"
      ],
      "execution_count": 0,
      "outputs": []
    },
    {
      "cell_type": "code",
      "metadata": {
        "id": "EAiTC2w5cO1r",
        "colab_type": "code",
        "outputId": "d2576fe3-1cd8-46d5-a0e9-f2318bd0d1c9",
        "colab": {
          "base_uri": "https://localhost:8080/",
          "height": 85
        }
      },
      "source": [
        "df_train[df_train.indicator_goal24==1].groupby('indicator_goal23')['goal24'].mean()"
      ],
      "execution_count": 0,
      "outputs": [
        {
          "output_type": "execute_result",
          "data": {
            "text/plain": [
              "indicator_goal23\n",
              "0    0.040225\n",
              "1    0.025973\n",
              "Name: goal24, dtype: float64"
            ]
          },
          "metadata": {
            "tags": []
          },
          "execution_count": 87
        }
      ]
    },
    {
      "cell_type": "markdown",
      "metadata": {
        "id": "f12s0TUu2HOt",
        "colab_type": "text"
      },
      "source": [
        "### Сабмит goal1\n"
      ]
    },
    {
      "cell_type": "code",
      "metadata": {
        "id": "QxabCQC62Kb7",
        "colab_type": "code",
        "outputId": "3a07c394-6c1f-4ad7-fb94-fd86c9e358e5",
        "colab": {
          "base_uri": "https://localhost:8080/",
          "height": 34
        }
      },
      "source": [
        "for target in ['goal1']:\n",
        "    lgb_cl.fit(df_train[variable_names], df_train[target])\n",
        "    scr = lgb_cl.predict_proba(df_test[variable_names])[:,1]\n",
        "    df_test['proba'] = 1 - scr\n",
        "    # df_test[target] = df_test[target]*df_test['indicator_'+target]\n",
        "    print(f'Target {target} learnt')"
      ],
      "execution_count": 0,
      "outputs": [
        {
          "output_type": "stream",
          "text": [
            "Target goal1 learnt\n"
          ],
          "name": "stdout"
        }
      ]
    },
    {
      "cell_type": "code",
      "metadata": {
        "id": "mgi80SQD2KfU",
        "colab_type": "code",
        "colab": {}
      },
      "source": [
        "df_test[['orderid', 'proba']].to_csv(os.path.join(subm_folder, 'saved_features_indicator_features.csv'), index=False)"
      ],
      "execution_count": 0,
      "outputs": []
    },
    {
      "cell_type": "code",
      "metadata": {
        "id": "jbUTzYp02Ksk",
        "colab_type": "code",
        "colab": {}
      },
      "source": [
        ""
      ],
      "execution_count": 0,
      "outputs": []
    },
    {
      "cell_type": "markdown",
      "metadata": {
        "id": "EH3KjgmfOi4h",
        "colab_type": "text"
      },
      "source": [
        "## Стекинг сабмит"
      ]
    },
    {
      "cell_type": "code",
      "metadata": {
        "id": "PstSr7uf2Kvb",
        "colab_type": "code",
        "colab": {}
      },
      "source": [
        "important_vars = features['fields_cols'] + features['ind_cols'] \n",
        "addition_features = features['just_cols'] + features['mix_cols'] + features['dif_cols'] + features['encode_cols'] + features['div_cols'] + features['shift_cols'] + new_count_cols + new_tickets_cols+new_time_groupby_cols"
      ],
      "execution_count": 0,
      "outputs": []
    },
    {
      "cell_type": "code",
      "metadata": {
        "id": "a93-3fjj2KyX",
        "colab_type": "code",
        "outputId": "89249641-0443-4779-e00c-938683910518",
        "colab": {
          "base_uri": "https://localhost:8080/",
          "height": 34
        }
      },
      "source": [
        "len(important_vars) + len(addition_features), len(addition_features)"
      ],
      "execution_count": 0,
      "outputs": [
        {
          "output_type": "execute_result",
          "data": {
            "text/plain": [
              "(747, 710)"
            ]
          },
          "metadata": {
            "tags": []
          },
          "execution_count": 82
        }
      ]
    },
    {
      "cell_type": "code",
      "metadata": {
        "id": "YoRLrU_EOhlD",
        "colab_type": "code",
        "colab": {}
      },
      "source": [
        "first_random_100 = random.sample(addition_features, k=150)\n",
        "    \n",
        "for col in first_random_100:\n",
        "    addition_features.remove(col)\n",
        "\n",
        "second_random_100 = random.sample(addition_features, k=150)\n",
        "\n",
        "for col in second_random_100:\n",
        "    addition_features.remove(col)\n",
        "\n",
        "third_random_100 = random.sample(addition_features, k=150)\n",
        "\n",
        "for col in third_random_100:\n",
        "    addition_features.remove(col)\n",
        "\n",
        "forth_random_100 = random.sample(addition_features, k=150)"
      ],
      "execution_count": 0,
      "outputs": []
    },
    {
      "cell_type": "code",
      "metadata": {
        "id": "80meiOyzOiWv",
        "colab_type": "code",
        "outputId": "3d90789d-df2e-4575-f8fe-3091dc5bb6a8",
        "colab": {
          "base_uri": "https://localhost:8080/",
          "height": 527
        }
      },
      "source": [
        "targets = ['goal21', 'goal22', 'goal23', 'goal24', 'goal25']\n",
        "for target in targets:\n",
        "    preds = np.zeros((4, len(df_test)))\n",
        "    for i, add_vars in enumerate([first_random_100, second_random_100, third_random_100, forth_random_100]):\n",
        "        lgb_cl.fit(df_train[important_vars + add_vars], df_train[target])\n",
        "        scr = lgb_cl.predict_proba(df_test[important_vars + add_vars])[:,1]\n",
        "        preds[i] = scr\n",
        "        print(f'{i} features on goal {target} learnt') \n",
        "    df_test[target] = np.round(np.mean(preds, axis=0),4)\n",
        "    df_test[target] = df_test[target]*df_test['indicator_'+target]\n",
        "    print(f'Target {target} learnt')\n",
        "    print('-'*20)"
      ],
      "execution_count": 0,
      "outputs": [
        {
          "output_type": "stream",
          "text": [
            "0 features on goal goal21 learnt\n",
            "1 features on goal goal21 learnt\n",
            "2 features on goal goal21 learnt\n",
            "3 features on goal goal21 learnt\n",
            "Target goal21 learnt\n",
            "--------------------\n",
            "0 features on goal goal22 learnt\n",
            "1 features on goal goal22 learnt\n",
            "2 features on goal goal22 learnt\n",
            "3 features on goal goal22 learnt\n",
            "Target goal22 learnt\n",
            "--------------------\n",
            "0 features on goal goal23 learnt\n",
            "1 features on goal goal23 learnt\n",
            "2 features on goal goal23 learnt\n",
            "3 features on goal goal23 learnt\n",
            "Target goal23 learnt\n",
            "--------------------\n",
            "0 features on goal goal24 learnt\n",
            "1 features on goal goal24 learnt\n",
            "2 features on goal goal24 learnt\n",
            "3 features on goal goal24 learnt\n",
            "Target goal24 learnt\n",
            "--------------------\n",
            "0 features on goal goal25 learnt\n",
            "1 features on goal goal25 learnt\n",
            "2 features on goal goal25 learnt\n",
            "3 features on goal goal25 learnt\n",
            "Target goal25 learnt\n",
            "--------------------\n"
          ],
          "name": "stdout"
        }
      ]
    },
    {
      "cell_type": "code",
      "metadata": {
        "id": "L7Th7Ro6Rpek",
        "colab_type": "code",
        "outputId": "6eb4de24-fc1f-4054-880c-09b9fd32e0b5",
        "colab": {
          "base_uri": "https://localhost:8080/",
          "height": 204
        }
      },
      "source": [
        "df_test[['orderid', 'goal21', 'goal22', 'goal23', 'goal24', 'goal25']].head()"
      ],
      "execution_count": 0,
      "outputs": [
        {
          "output_type": "execute_result",
          "data": {
            "text/html": [
              "<div>\n",
              "<style scoped>\n",
              "    .dataframe tbody tr th:only-of-type {\n",
              "        vertical-align: middle;\n",
              "    }\n",
              "\n",
              "    .dataframe tbody tr th {\n",
              "        vertical-align: top;\n",
              "    }\n",
              "\n",
              "    .dataframe thead th {\n",
              "        text-align: right;\n",
              "    }\n",
              "</style>\n",
              "<table border=\"1\" class=\"dataframe\">\n",
              "  <thead>\n",
              "    <tr style=\"text-align: right;\">\n",
              "      <th></th>\n",
              "      <th>orderid</th>\n",
              "      <th>goal21</th>\n",
              "      <th>goal22</th>\n",
              "      <th>goal23</th>\n",
              "      <th>goal24</th>\n",
              "      <th>goal25</th>\n",
              "    </tr>\n",
              "  </thead>\n",
              "  <tbody>\n",
              "    <tr>\n",
              "      <th>196056</th>\n",
              "      <td>0</td>\n",
              "      <td>0.0227</td>\n",
              "      <td>0.1734</td>\n",
              "      <td>0.0000</td>\n",
              "      <td>0.0000</td>\n",
              "      <td>0.0025</td>\n",
              "    </tr>\n",
              "    <tr>\n",
              "      <th>196057</th>\n",
              "      <td>247393</td>\n",
              "      <td>0.0143</td>\n",
              "      <td>0.0974</td>\n",
              "      <td>0.1286</td>\n",
              "      <td>0.0000</td>\n",
              "      <td>0.0028</td>\n",
              "    </tr>\n",
              "    <tr>\n",
              "      <th>196058</th>\n",
              "      <td>153432</td>\n",
              "      <td>0.0237</td>\n",
              "      <td>0.0702</td>\n",
              "      <td>0.0000</td>\n",
              "      <td>0.0346</td>\n",
              "      <td>0.0286</td>\n",
              "    </tr>\n",
              "    <tr>\n",
              "      <th>196059</th>\n",
              "      <td>158751</td>\n",
              "      <td>0.0134</td>\n",
              "      <td>0.1033</td>\n",
              "      <td>0.0000</td>\n",
              "      <td>0.0620</td>\n",
              "      <td>0.0005</td>\n",
              "    </tr>\n",
              "    <tr>\n",
              "      <th>196060</th>\n",
              "      <td>1</td>\n",
              "      <td>0.0123</td>\n",
              "      <td>0.0472</td>\n",
              "      <td>0.0000</td>\n",
              "      <td>0.0238</td>\n",
              "      <td>0.0324</td>\n",
              "    </tr>\n",
              "  </tbody>\n",
              "</table>\n",
              "</div>"
            ],
            "text/plain": [
              "        orderid  goal21  goal22  goal23  goal24  goal25\n",
              "196056        0  0.0227  0.1734  0.0000  0.0000  0.0025\n",
              "196057   247393  0.0143  0.0974  0.1286  0.0000  0.0028\n",
              "196058   153432  0.0237  0.0702  0.0000  0.0346  0.0286\n",
              "196059   158751  0.0134  0.1033  0.0000  0.0620  0.0005\n",
              "196060        1  0.0123  0.0472  0.0000  0.0238  0.0324"
            ]
          },
          "metadata": {
            "tags": []
          },
          "execution_count": 87
        }
      ]
    },
    {
      "cell_type": "code",
      "metadata": {
        "id": "Zc0ZgradOiU4",
        "colab_type": "code",
        "colab": {}
      },
      "source": [
        "df_test[['orderid', 'goal21', 'goal22', 'goal23', 'goal24', 'goal25']].to_csv(os.path.join(subm_folder, 'stacking_features_submission_4_samples.csv'), index=False)"
      ],
      "execution_count": 0,
      "outputs": []
    },
    {
      "cell_type": "markdown",
      "metadata": {
        "id": "m7V1W8U-Yt3f",
        "colab_type": "text"
      },
      "source": [
        "### Объединение 2х сабмитов (не работает, видимо как и валидация)"
      ]
    },
    {
      "cell_type": "code",
      "metadata": {
        "id": "GTiJ2cWxOiTE",
        "colab_type": "code",
        "colab": {}
      },
      "source": [
        "best_subm = pd.read_csv(os.path.join(subm_folder, 'new_price_features.csv'))\n",
        "second_subm = pd.read_csv(os.path.join(subm_folder, 'add_tickets_time_indicators_features.csv'))"
      ],
      "execution_count": 0,
      "outputs": []
    },
    {
      "cell_type": "code",
      "metadata": {
        "id": "MQz0tB-7OiB_",
        "colab_type": "code",
        "colab": {}
      },
      "source": [
        "best_subm.drop(['goal25', 'goal23'], axis=1, inplace=True)"
      ],
      "execution_count": 0,
      "outputs": []
    },
    {
      "cell_type": "code",
      "metadata": {
        "id": "5YDKz_GGOh-a",
        "colab_type": "code",
        "colab": {}
      },
      "source": [
        "best_subm = best_subm.merge(second_subm[['orderid','goal23', 'goal25']])"
      ],
      "execution_count": 0,
      "outputs": []
    },
    {
      "cell_type": "code",
      "metadata": {
        "id": "fH3NRiINOh63",
        "colab_type": "code",
        "colab": {}
      },
      "source": [
        "best_subm[['orderid', 'goal21', 'goal22', 'goal23', 'goal24', 'goal25']].to_csv(os.path.join(subm_folder, 'bland_2_best_submissions.csv'), index=False)"
      ],
      "execution_count": 0,
      "outputs": []
    },
    {
      "cell_type": "code",
      "metadata": {
        "id": "3-z7MQ57Oh3h",
        "colab_type": "code",
        "colab": {}
      },
      "source": [
        ""
      ],
      "execution_count": 0,
      "outputs": []
    },
    {
      "cell_type": "code",
      "metadata": {
        "id": "bs13sJfPOh1y",
        "colab_type": "code",
        "colab": {}
      },
      "source": [
        ""
      ],
      "execution_count": 0,
      "outputs": []
    },
    {
      "cell_type": "code",
      "metadata": {
        "id": "3suKd1d9Ohyl",
        "colab_type": "code",
        "colab": {}
      },
      "source": [
        ""
      ],
      "execution_count": 0,
      "outputs": []
    },
    {
      "cell_type": "code",
      "metadata": {
        "id": "VArFvPgBOhvq",
        "colab_type": "code",
        "colab": {}
      },
      "source": [
        ""
      ],
      "execution_count": 0,
      "outputs": []
    },
    {
      "cell_type": "code",
      "metadata": {
        "id": "94s2plQrOhtc",
        "colab_type": "code",
        "colab": {}
      },
      "source": [
        ""
      ],
      "execution_count": 0,
      "outputs": []
    },
    {
      "cell_type": "code",
      "metadata": {
        "id": "_qzx9dYvOhrP",
        "colab_type": "code",
        "colab": {}
      },
      "source": [
        ""
      ],
      "execution_count": 0,
      "outputs": []
    },
    {
      "cell_type": "code",
      "metadata": {
        "id": "j1mkCpmlOhpV",
        "colab_type": "code",
        "colab": {}
      },
      "source": [
        ""
      ],
      "execution_count": 0,
      "outputs": []
    }
  ]
}